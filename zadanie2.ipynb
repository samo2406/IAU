{
 "cells": [
  {
   "cell_type": "markdown",
   "id": "434a9c84",
   "metadata": {},
   "source": [
    "# Inteligentná analýza údajov\n",
    "# Zadanie 2 - predspracovanie údajov\n",
    "\n",
    "### Michal Greguš, Samuel Kováč"
   ]
  },
  {
   "cell_type": "code",
   "execution_count": 1,
   "id": "d0ed2ffb",
   "metadata": {
    "scrolled": true
   },
   "outputs": [],
   "source": [
    "import pandas as pd\n",
    "import numpy as np\n",
    "import seaborn as sns\n",
    "import matplotlib as mat\n",
    "import matplotlib.pyplot as plt\n",
    "import scipy.stats as stats\n",
    "from sklearn.preprocessing import RobustScaler\n",
    "import math\n",
    "from statsmodels.graphics.gofplots import qqplot\n",
    "import copy\n",
    "from sklearn.datasets import load_iris\n",
    "from scipy.stats import normaltest\n",
    "from sklearn.feature_selection import SelectKBest\n",
    "from sklearn.feature_selection import mutual_info_regression\n",
    "from sklearn.feature_selection import chi2\n",
    "from sklearn.feature_selection import f_regression\n",
    "from sklearn.impute import KNNImputer\n",
    "from sklearn.model_selection import train_test_split\n",
    "from numpy import exp\n",
    "from numpy.random import randn\n",
    "from sklearn.preprocessing import PowerTransformer\n",
    "from matplotlib import pyplot\n",
    "from sklearn.preprocessing import StandardScaler \n",
    "\n",
    "data_profiles = pd.read_csv(\"data/profiles_fixed.csv\", sep = '\\t')\n",
    "data_labor = pd.read_csv(\"data/labor_fixed.csv\", sep = '\\t')\n",
    "\n",
    "import warnings\n",
    "warnings.filterwarnings('ignore')"
   ]
  },
  {
   "cell_type": "markdown",
   "id": "3a8f7800",
   "metadata": {},
   "source": [
    "Inicializovanie potrebných importov, načítanie datasetov do premenných.\n",
    "\n",
    "### Spojenie datasetov"
   ]
  },
  {
   "cell_type": "code",
   "execution_count": 2,
   "id": "8a909da6",
   "metadata": {},
   "outputs": [],
   "source": [
    "data = pd.merge(data_profiles,data_labor,on=['name','ssn'], how = 'outer')\n",
    "data0 = copy.deepcopy(data)"
   ]
  },
  {
   "cell_type": "markdown",
   "id": "7351f094",
   "metadata": {},
   "source": [
    "Datasety sme spojili pomocou \"OUTER\" join-u na základe atribútov **name** a **ssn**. Výsledok môžme vidieť pomocou data.head()"
   ]
  },
  {
   "cell_type": "code",
   "execution_count": 3,
   "id": "8322e6c7",
   "metadata": {},
   "outputs": [
    {
     "data": {
      "text/html": [
       "<div>\n",
       "<style scoped>\n",
       "    .dataframe tbody tr th:only-of-type {\n",
       "        vertical-align: middle;\n",
       "    }\n",
       "\n",
       "    .dataframe tbody tr th {\n",
       "        vertical-align: top;\n",
       "    }\n",
       "\n",
       "    .dataframe thead th {\n",
       "        text-align: right;\n",
       "    }\n",
       "</style>\n",
       "<table border=\"1\" class=\"dataframe\">\n",
       "  <thead>\n",
       "    <tr style=\"text-align: right;\">\n",
       "      <th></th>\n",
       "      <th>job</th>\n",
       "      <th>company</th>\n",
       "      <th>sex</th>\n",
       "      <th>residence</th>\n",
       "      <th>blood_group</th>\n",
       "      <th>ssn</th>\n",
       "      <th>name</th>\n",
       "      <th>birthdate</th>\n",
       "      <th>race</th>\n",
       "      <th>age</th>\n",
       "      <th>...</th>\n",
       "      <th>indicator</th>\n",
       "      <th>hematokrit</th>\n",
       "      <th>trombocyty</th>\n",
       "      <th>smoker</th>\n",
       "      <th>alt</th>\n",
       "      <th>etytr</th>\n",
       "      <th>erytrocyty</th>\n",
       "      <th>hemoglobin</th>\n",
       "      <th>alp</th>\n",
       "      <th>relationship</th>\n",
       "    </tr>\n",
       "  </thead>\n",
       "  <tbody>\n",
       "    <tr>\n",
       "      <th>0</th>\n",
       "      <td>Chief Marketing Officer</td>\n",
       "      <td>Torres, Parker and Fisher</td>\n",
       "      <td>F</td>\n",
       "      <td>584 Chan Unions\\r\\nNew Robertside, MN 27858</td>\n",
       "      <td>B+</td>\n",
       "      <td>318-35-2572</td>\n",
       "      <td>Lori Delgado</td>\n",
       "      <td>1988-04-12</td>\n",
       "      <td>White</td>\n",
       "      <td>33</td>\n",
       "      <td>...</td>\n",
       "      <td>1.0</td>\n",
       "      <td>9.88330</td>\n",
       "      <td>8.47868</td>\n",
       "      <td>yes</td>\n",
       "      <td>10.25955</td>\n",
       "      <td>8.08841</td>\n",
       "      <td>7.40501</td>\n",
       "      <td>6.77725</td>\n",
       "      <td>77.25589</td>\n",
       "      <td>divorced</td>\n",
       "    </tr>\n",
       "    <tr>\n",
       "      <th>1</th>\n",
       "      <td>Chief Marketing Officer</td>\n",
       "      <td>Torres, Parker and Fisher</td>\n",
       "      <td>F</td>\n",
       "      <td>584 Chan Unions\\r\\nNew Robertside, MN 27858</td>\n",
       "      <td>B+</td>\n",
       "      <td>318-35-2572</td>\n",
       "      <td>Lori Delgado</td>\n",
       "      <td>1988-04-12</td>\n",
       "      <td>White</td>\n",
       "      <td>33</td>\n",
       "      <td>...</td>\n",
       "      <td>0.0</td>\n",
       "      <td>6.66963</td>\n",
       "      <td>7.88205</td>\n",
       "      <td>yes</td>\n",
       "      <td>7.74958</td>\n",
       "      <td>5.42715</td>\n",
       "      <td>7.29108</td>\n",
       "      <td>4.55265</td>\n",
       "      <td>44.91433</td>\n",
       "      <td>divorced</td>\n",
       "    </tr>\n",
       "    <tr>\n",
       "      <th>2</th>\n",
       "      <td>Chief Marketing Officer</td>\n",
       "      <td>Torres, Parker and Fisher</td>\n",
       "      <td>F</td>\n",
       "      <td>584 Chan Unions\\r\\nNew Robertside, MN 27858</td>\n",
       "      <td>B+</td>\n",
       "      <td>318-35-2572</td>\n",
       "      <td>Lori Delgado</td>\n",
       "      <td>1988-04-12</td>\n",
       "      <td>White</td>\n",
       "      <td>33</td>\n",
       "      <td>...</td>\n",
       "      <td>1.0</td>\n",
       "      <td>4.73731</td>\n",
       "      <td>6.20294</td>\n",
       "      <td>no</td>\n",
       "      <td>4.11068</td>\n",
       "      <td>5.48093</td>\n",
       "      <td>5.88646</td>\n",
       "      <td>6.19318</td>\n",
       "      <td>83.11181</td>\n",
       "      <td>widowed</td>\n",
       "    </tr>\n",
       "    <tr>\n",
       "      <th>3</th>\n",
       "      <td>Chief Marketing Officer</td>\n",
       "      <td>Torres, Parker and Fisher</td>\n",
       "      <td>F</td>\n",
       "      <td>584 Chan Unions\\r\\nNew Robertside, MN 27858</td>\n",
       "      <td>B+</td>\n",
       "      <td>318-35-2572</td>\n",
       "      <td>Lori Delgado</td>\n",
       "      <td>1988-04-12</td>\n",
       "      <td>White</td>\n",
       "      <td>33</td>\n",
       "      <td>...</td>\n",
       "      <td>1.0</td>\n",
       "      <td>5.46837</td>\n",
       "      <td>6.68672</td>\n",
       "      <td>yes</td>\n",
       "      <td>11.18838</td>\n",
       "      <td>6.01911</td>\n",
       "      <td>7.63798</td>\n",
       "      <td>6.48949</td>\n",
       "      <td>89.86920</td>\n",
       "      <td>divorced</td>\n",
       "    </tr>\n",
       "    <tr>\n",
       "      <th>4</th>\n",
       "      <td>Physiological scientist</td>\n",
       "      <td>Lopez PLC</td>\n",
       "      <td>F</td>\n",
       "      <td>116 Ryan Extensions\\r\\nJonesport, ND 67361</td>\n",
       "      <td>B-</td>\n",
       "      <td>528-41-8966</td>\n",
       "      <td>Laura Jones PhD</td>\n",
       "      <td>1919-12-22</td>\n",
       "      <td>White</td>\n",
       "      <td>101</td>\n",
       "      <td>...</td>\n",
       "      <td>0.0</td>\n",
       "      <td>5.14382</td>\n",
       "      <td>7.73217</td>\n",
       "      <td>no</td>\n",
       "      <td>4.10851</td>\n",
       "      <td>5.22777</td>\n",
       "      <td>5.95530</td>\n",
       "      <td>6.22521</td>\n",
       "      <td>87.44522</td>\n",
       "      <td>married</td>\n",
       "    </tr>\n",
       "  </tbody>\n",
       "</table>\n",
       "<p>5 rows × 27 columns</p>\n",
       "</div>"
      ],
      "text/plain": [
       "                       job                    company sex  \\\n",
       "0  Chief Marketing Officer  Torres, Parker and Fisher   F   \n",
       "1  Chief Marketing Officer  Torres, Parker and Fisher   F   \n",
       "2  Chief Marketing Officer  Torres, Parker and Fisher   F   \n",
       "3  Chief Marketing Officer  Torres, Parker and Fisher   F   \n",
       "4  Physiological scientist                  Lopez PLC   F   \n",
       "\n",
       "                                     residence blood_group          ssn  \\\n",
       "0  584 Chan Unions\\r\\nNew Robertside, MN 27858          B+  318-35-2572   \n",
       "1  584 Chan Unions\\r\\nNew Robertside, MN 27858          B+  318-35-2572   \n",
       "2  584 Chan Unions\\r\\nNew Robertside, MN 27858          B+  318-35-2572   \n",
       "3  584 Chan Unions\\r\\nNew Robertside, MN 27858          B+  318-35-2572   \n",
       "4   116 Ryan Extensions\\r\\nJonesport, ND 67361          B-  528-41-8966   \n",
       "\n",
       "              name   birthdate   race  age  ...  indicator  hematokrit  \\\n",
       "0     Lori Delgado  1988-04-12  White   33  ...        1.0     9.88330   \n",
       "1     Lori Delgado  1988-04-12  White   33  ...        0.0     6.66963   \n",
       "2     Lori Delgado  1988-04-12  White   33  ...        1.0     4.73731   \n",
       "3     Lori Delgado  1988-04-12  White   33  ...        1.0     5.46837   \n",
       "4  Laura Jones PhD  1919-12-22  White  101  ...        0.0     5.14382   \n",
       "\n",
       "   trombocyty smoker       alt    etytr  erytrocyty  hemoglobin       alp  \\\n",
       "0     8.47868    yes  10.25955  8.08841     7.40501     6.77725  77.25589   \n",
       "1     7.88205    yes   7.74958  5.42715     7.29108     4.55265  44.91433   \n",
       "2     6.20294     no   4.11068  5.48093     5.88646     6.19318  83.11181   \n",
       "3     6.68672    yes  11.18838  6.01911     7.63798     6.48949  89.86920   \n",
       "4     7.73217     no   4.10851  5.22777     5.95530     6.22521  87.44522   \n",
       "\n",
       "   relationship  \n",
       "0      divorced  \n",
       "1      divorced  \n",
       "2       widowed  \n",
       "3      divorced  \n",
       "4       married  \n",
       "\n",
       "[5 rows x 27 columns]"
      ]
     },
     "execution_count": 3,
     "metadata": {},
     "output_type": "execute_result"
    }
   ],
   "source": [
    "data.head()"
   ]
  },
  {
   "cell_type": "code",
   "execution_count": 4,
   "id": "98932e63",
   "metadata": {},
   "outputs": [
    {
     "name": "stdout",
     "output_type": "stream",
     "text": [
      "Počet záznamov :  9908 \n",
      "Počet atribútov:  27\n"
     ]
    }
   ],
   "source": [
    "print('Počet záznamov : ',data.shape[0] , '\\nPočet atribútov: ', data.shape[1])"
   ]
  },
  {
   "cell_type": "code",
   "execution_count": 5,
   "id": "9ac82a3b",
   "metadata": {
    "scrolled": true
   },
   "outputs": [
    {
     "data": {
      "text/plain": [
       "Index(['job', 'company', 'sex', 'residence', 'blood_group', 'ssn', 'name',\n",
       "       'birthdate', 'race', 'age', 'leukocyty', 'weight', 'hbver', 'HK group',\n",
       "       'weight group', 'er-cv', 'ast', 'indicator', 'hematokrit', 'trombocyty',\n",
       "       'smoker', 'alt', 'etytr', 'erytrocyty', 'hemoglobin', 'alp',\n",
       "       'relationship'],\n",
       "      dtype='object')"
      ]
     },
     "execution_count": 5,
     "metadata": {},
     "output_type": "execute_result"
    }
   ],
   "source": [
    "data.columns"
   ]
  },
  {
   "cell_type": "markdown",
   "id": "2f51e075",
   "metadata": {},
   "source": [
    "## 1. Integrácia a čistenie dát "
   ]
  },
  {
   "cell_type": "markdown",
   "id": "3a2d44f7",
   "metadata": {},
   "source": [
    "## Odstraňovanie vychýlených hodnôt"
   ]
  },
  {
   "cell_type": "code",
   "execution_count": 6,
   "id": "bd463317",
   "metadata": {},
   "outputs": [],
   "source": [
    "def identify_outliers(data):\n",
    "    lower = data.quantile(0.25) - 1.5 * stats.iqr(data)\n",
    "    upper = data.quantile(0.75) + 1.5 * stats.iqr(data)\n",
    "    \n",
    "    return data[(data > upper) | (data < lower)]"
   ]
  },
  {
   "cell_type": "markdown",
   "id": "6b4fae98",
   "metadata": {},
   "source": [
    "Na identifikovanie outlierov použijeme funkciu z prvého zadania - *identify_outliers*"
   ]
  },
  {
   "cell_type": "code",
   "execution_count": 7,
   "id": "25a4b16f",
   "metadata": {},
   "outputs": [
    {
     "data": {
      "text/plain": [
       "Text(0.5, 1.0, 'Distribúcia váhy pred odstránením outlierov')"
      ]
     },
     "execution_count": 7,
     "metadata": {},
     "output_type": "execute_result"
    },
    {
     "data": {
      "image/png": "[encoded data removed]",
      "text/plain": [
       "<Figure size 432x288 with 1 Axes>"
      ]
     },
     "metadata": {
      "needs_background": "light"
     },
     "output_type": "display_data"
    }
   ],
   "source": [
    "sns.boxplot(data.weight).set_title('Distribúcia váhy pred odstránením outlierov')"
   ]
  },
  {
   "cell_type": "markdown",
   "id": "cad2c566",
   "metadata": {},
   "source": [
    "Vychýlené hodnoty identifikujeme a následne odstránime z datasetu"
   ]
  },
  {
   "cell_type": "code",
   "execution_count": 8,
   "id": "05e524e1",
   "metadata": {},
   "outputs": [],
   "source": [
    "weight_out = identify_outliers(data.weight)\n",
    "data.weight = data.weight.drop(weight_out.index)"
   ]
  },
  {
   "cell_type": "code",
   "execution_count": 9,
   "id": "11a1054f",
   "metadata": {},
   "outputs": [
    {
     "data": {
      "text/plain": [
       "Text(0.5, 1.0, 'Distribúcia váhy po odstránení outlierov')"
      ]
     },
     "execution_count": 9,
     "metadata": {},
     "output_type": "execute_result"
    },
    {
     "data": {
      "image/png": "[encoded data removed]",
      "text/plain": [
       "<Figure size 432x288 with 1 Axes>"
      ]
     },
     "metadata": {
      "needs_background": "light"
     },
     "output_type": "display_data"
    }
   ],
   "source": [
    "sns.boxplot(data.weight).set_title('Distribúcia váhy po odstránení outlierov')"
   ]
  },
  {
   "cell_type": "markdown",
   "id": "c1bdea29",
   "metadata": {},
   "source": [
    "Funkciu upravíme tak aby vychýlené hodnoty rovno odstraňovala, a použijeme na všetky potrebné atribúty. Na identifikovanie outlierov použijeme stratégiu **IQR** (Inter Quartile Range)"
   ]
  },
  {
   "cell_type": "code",
   "execution_count": 10,
   "id": "ebb835f4",
   "metadata": {},
   "outputs": [],
   "source": [
    "def remove_outliers(data, columns):\n",
    "    for c in columns:         \n",
    "        Q1 = data[c].quantile(0.25)\n",
    "        Q3 = data[c].quantile(0.75)\n",
    "        IQR = Q3 - Q1\n",
    "        upper = Q3 + 1.5 * IQR\n",
    "        lower = Q1 - 1.5 * IQR\n",
    "        data[c] = data[c].drop(data[c][(data[c] > upper) | (data[c] < lower)].index)\n",
    "    return data"
   ]
  },
  {
   "cell_type": "code",
   "execution_count": 11,
   "id": "cf098434",
   "metadata": {},
   "outputs": [
    {
     "data": {
      "text/html": [
       "<div>\n",
       "<style scoped>\n",
       "    .dataframe tbody tr th:only-of-type {\n",
       "        vertical-align: middle;\n",
       "    }\n",
       "\n",
       "    .dataframe tbody tr th {\n",
       "        vertical-align: top;\n",
       "    }\n",
       "\n",
       "    .dataframe thead th {\n",
       "        text-align: right;\n",
       "    }\n",
       "</style>\n",
       "<table border=\"1\" class=\"dataframe\">\n",
       "  <thead>\n",
       "    <tr style=\"text-align: right;\">\n",
       "      <th></th>\n",
       "      <th>age</th>\n",
       "      <th>leukocyty</th>\n",
       "      <th>weight</th>\n",
       "      <th>hbver</th>\n",
       "      <th>er-cv</th>\n",
       "      <th>ast</th>\n",
       "      <th>indicator</th>\n",
       "      <th>hematokrit</th>\n",
       "      <th>trombocyty</th>\n",
       "      <th>alt</th>\n",
       "      <th>etytr</th>\n",
       "      <th>erytrocyty</th>\n",
       "      <th>hemoglobin</th>\n",
       "      <th>alp</th>\n",
       "    </tr>\n",
       "  </thead>\n",
       "  <tbody>\n",
       "    <tr>\n",
       "      <th>count</th>\n",
       "      <td>9908.000000</td>\n",
       "      <td>9878.000000</td>\n",
       "      <td>9873.000000</td>\n",
       "      <td>9878.000000</td>\n",
       "      <td>9878.000000</td>\n",
       "      <td>9878.000000</td>\n",
       "      <td>9908.000000</td>\n",
       "      <td>9878.000000</td>\n",
       "      <td>9878.000000</td>\n",
       "      <td>9878.000000</td>\n",
       "      <td>9878.000000</td>\n",
       "      <td>9878.000000</td>\n",
       "      <td>9878.000000</td>\n",
       "      <td>9878.000000</td>\n",
       "    </tr>\n",
       "    <tr>\n",
       "      <th>mean</th>\n",
       "      <td>57.995357</td>\n",
       "      <td>6.793018</td>\n",
       "      <td>70.273760</td>\n",
       "      <td>6.793715</td>\n",
       "      <td>48.350437</td>\n",
       "      <td>49.307390</td>\n",
       "      <td>0.645337</td>\n",
       "      <td>6.369656</td>\n",
       "      <td>6.426925</td>\n",
       "      <td>8.945878</td>\n",
       "      <td>6.032210</td>\n",
       "      <td>6.797049</td>\n",
       "      <td>6.784296</td>\n",
       "      <td>68.515482</td>\n",
       "    </tr>\n",
       "    <tr>\n",
       "      <th>std</th>\n",
       "      <td>33.233715</td>\n",
       "      <td>1.525011</td>\n",
       "      <td>33.119698</td>\n",
       "      <td>1.001156</td>\n",
       "      <td>14.136543</td>\n",
       "      <td>12.752349</td>\n",
       "      <td>0.478435</td>\n",
       "      <td>1.591608</td>\n",
       "      <td>1.722116</td>\n",
       "      <td>5.862432</td>\n",
       "      <td>1.502904</td>\n",
       "      <td>1.006155</td>\n",
       "      <td>1.007876</td>\n",
       "      <td>20.352373</td>\n",
       "    </tr>\n",
       "    <tr>\n",
       "      <th>min</th>\n",
       "      <td>0.000000</td>\n",
       "      <td>0.997910</td>\n",
       "      <td>0.062440</td>\n",
       "      <td>2.363630</td>\n",
       "      <td>0.000000</td>\n",
       "      <td>0.000000</td>\n",
       "      <td>0.000000</td>\n",
       "      <td>1.172700</td>\n",
       "      <td>0.000000</td>\n",
       "      <td>0.000000</td>\n",
       "      <td>1.027910</td>\n",
       "      <td>2.891940</td>\n",
       "      <td>2.478430</td>\n",
       "      <td>0.000000</td>\n",
       "    </tr>\n",
       "    <tr>\n",
       "      <th>25%</th>\n",
       "      <td>29.000000</td>\n",
       "      <td>5.613833</td>\n",
       "      <td>46.997840</td>\n",
       "      <td>6.115040</td>\n",
       "      <td>38.912355</td>\n",
       "      <td>40.636725</td>\n",
       "      <td>0.000000</td>\n",
       "      <td>5.175528</td>\n",
       "      <td>5.191125</td>\n",
       "      <td>5.727078</td>\n",
       "      <td>5.047092</td>\n",
       "      <td>6.128460</td>\n",
       "      <td>6.100168</td>\n",
       "      <td>58.226145</td>\n",
       "    </tr>\n",
       "    <tr>\n",
       "      <th>50%</th>\n",
       "      <td>58.000000</td>\n",
       "      <td>6.993640</td>\n",
       "      <td>69.319460</td>\n",
       "      <td>6.785165</td>\n",
       "      <td>48.300335</td>\n",
       "      <td>49.249260</td>\n",
       "      <td>1.000000</td>\n",
       "      <td>6.315170</td>\n",
       "      <td>6.337080</td>\n",
       "      <td>7.528915</td>\n",
       "      <td>5.864550</td>\n",
       "      <td>6.805760</td>\n",
       "      <td>6.777290</td>\n",
       "      <td>75.625600</td>\n",
       "    </tr>\n",
       "    <tr>\n",
       "      <th>75%</th>\n",
       "      <td>87.000000</td>\n",
       "      <td>8.016868</td>\n",
       "      <td>93.352730</td>\n",
       "      <td>7.467605</td>\n",
       "      <td>57.923047</td>\n",
       "      <td>57.963300</td>\n",
       "      <td>1.000000</td>\n",
       "      <td>7.587845</td>\n",
       "      <td>7.636613</td>\n",
       "      <td>10.220637</td>\n",
       "      <td>6.848598</td>\n",
       "      <td>7.481435</td>\n",
       "      <td>7.450075</td>\n",
       "      <td>83.710870</td>\n",
       "    </tr>\n",
       "    <tr>\n",
       "      <th>max</th>\n",
       "      <td>116.000000</td>\n",
       "      <td>10.690800</td>\n",
       "      <td>162.347770</td>\n",
       "      <td>10.413790</td>\n",
       "      <td>100.000000</td>\n",
       "      <td>100.000000</td>\n",
       "      <td>1.000000</td>\n",
       "      <td>11.187870</td>\n",
       "      <td>13.224870</td>\n",
       "      <td>100.000000</td>\n",
       "      <td>12.900650</td>\n",
       "      <td>10.368620</td>\n",
       "      <td>10.419550</td>\n",
       "      <td>100.000000</td>\n",
       "    </tr>\n",
       "  </tbody>\n",
       "</table>\n",
       "</div>"
      ],
      "text/plain": [
       "               age    leukocyty       weight        hbver        er-cv  \\\n",
       "count  9908.000000  9878.000000  9873.000000  9878.000000  9878.000000   \n",
       "mean     57.995357     6.793018    70.273760     6.793715    48.350437   \n",
       "std      33.233715     1.525011    33.119698     1.001156    14.136543   \n",
       "min       0.000000     0.997910     0.062440     2.363630     0.000000   \n",
       "25%      29.000000     5.613833    46.997840     6.115040    38.912355   \n",
       "50%      58.000000     6.993640    69.319460     6.785165    48.300335   \n",
       "75%      87.000000     8.016868    93.352730     7.467605    57.923047   \n",
       "max     116.000000    10.690800   162.347770    10.413790   100.000000   \n",
       "\n",
       "               ast    indicator   hematokrit   trombocyty          alt  \\\n",
       "count  9878.000000  9908.000000  9878.000000  9878.000000  9878.000000   \n",
       "mean     49.307390     0.645337     6.369656     6.426925     8.945878   \n",
       "std      12.752349     0.478435     1.591608     1.722116     5.862432   \n",
       "min       0.000000     0.000000     1.172700     0.000000     0.000000   \n",
       "25%      40.636725     0.000000     5.175528     5.191125     5.727078   \n",
       "50%      49.249260     1.000000     6.315170     6.337080     7.528915   \n",
       "75%      57.963300     1.000000     7.587845     7.636613    10.220637   \n",
       "max     100.000000     1.000000    11.187870    13.224870   100.000000   \n",
       "\n",
       "             etytr   erytrocyty   hemoglobin          alp  \n",
       "count  9878.000000  9878.000000  9878.000000  9878.000000  \n",
       "mean      6.032210     6.797049     6.784296    68.515482  \n",
       "std       1.502904     1.006155     1.007876    20.352373  \n",
       "min       1.027910     2.891940     2.478430     0.000000  \n",
       "25%       5.047092     6.128460     6.100168    58.226145  \n",
       "50%       5.864550     6.805760     6.777290    75.625600  \n",
       "75%       6.848598     7.481435     7.450075    83.710870  \n",
       "max      12.900650    10.368620    10.419550   100.000000  "
      ]
     },
     "execution_count": 11,
     "metadata": {},
     "output_type": "execute_result"
    }
   ],
   "source": [
    "data.describe()"
   ]
  },
  {
   "cell_type": "code",
   "execution_count": 12,
   "id": "c15bbada",
   "metadata": {},
   "outputs": [],
   "source": [
    "remove_columns = ['age', 'leukocyty', 'hbver', 'er-cv', 'ast', 'hematokrit', 'trombocyty', 'erytrocyty', 'hemoglobin']\n",
    "data = remove_outliers(data, remove_columns)"
   ]
  },
  {
   "cell_type": "code",
   "execution_count": 13,
   "id": "29305996",
   "metadata": {},
   "outputs": [
    {
     "data": {
      "text/html": [
       "<div>\n",
       "<style scoped>\n",
       "    .dataframe tbody tr th:only-of-type {\n",
       "        vertical-align: middle;\n",
       "    }\n",
       "\n",
       "    .dataframe tbody tr th {\n",
       "        vertical-align: top;\n",
       "    }\n",
       "\n",
       "    .dataframe thead th {\n",
       "        text-align: right;\n",
       "    }\n",
       "</style>\n",
       "<table border=\"1\" class=\"dataframe\">\n",
       "  <thead>\n",
       "    <tr style=\"text-align: right;\">\n",
       "      <th></th>\n",
       "      <th>age</th>\n",
       "      <th>leukocyty</th>\n",
       "      <th>weight</th>\n",
       "      <th>hbver</th>\n",
       "      <th>er-cv</th>\n",
       "      <th>ast</th>\n",
       "      <th>indicator</th>\n",
       "      <th>hematokrit</th>\n",
       "      <th>trombocyty</th>\n",
       "      <th>alt</th>\n",
       "      <th>etytr</th>\n",
       "      <th>erytrocyty</th>\n",
       "      <th>hemoglobin</th>\n",
       "      <th>alp</th>\n",
       "    </tr>\n",
       "  </thead>\n",
       "  <tbody>\n",
       "    <tr>\n",
       "      <th>count</th>\n",
       "      <td>9908.000000</td>\n",
       "      <td>9876.000000</td>\n",
       "      <td>9873.000000</td>\n",
       "      <td>9807.000000</td>\n",
       "      <td>9811.000000</td>\n",
       "      <td>9810.000000</td>\n",
       "      <td>9908.000000</td>\n",
       "      <td>9875.000000</td>\n",
       "      <td>9858.000000</td>\n",
       "      <td>9878.000000</td>\n",
       "      <td>9878.000000</td>\n",
       "      <td>9798.000000</td>\n",
       "      <td>9803.000000</td>\n",
       "      <td>9878.000000</td>\n",
       "    </tr>\n",
       "    <tr>\n",
       "      <th>mean</th>\n",
       "      <td>57.995357</td>\n",
       "      <td>6.794092</td>\n",
       "      <td>70.273760</td>\n",
       "      <td>6.792054</td>\n",
       "      <td>48.375178</td>\n",
       "      <td>49.324339</td>\n",
       "      <td>0.645337</td>\n",
       "      <td>6.371188</td>\n",
       "      <td>6.424773</td>\n",
       "      <td>8.945878</td>\n",
       "      <td>6.032210</td>\n",
       "      <td>6.803877</td>\n",
       "      <td>6.781263</td>\n",
       "      <td>68.515482</td>\n",
       "    </tr>\n",
       "    <tr>\n",
       "      <th>std</th>\n",
       "      <td>33.233715</td>\n",
       "      <td>1.523282</td>\n",
       "      <td>33.119698</td>\n",
       "      <td>0.970549</td>\n",
       "      <td>13.753611</td>\n",
       "      <td>12.386757</td>\n",
       "      <td>0.478435</td>\n",
       "      <td>1.589418</td>\n",
       "      <td>1.706778</td>\n",
       "      <td>5.862432</td>\n",
       "      <td>1.502904</td>\n",
       "      <td>0.972814</td>\n",
       "      <td>0.976355</td>\n",
       "      <td>20.352373</td>\n",
       "    </tr>\n",
       "    <tr>\n",
       "      <th>min</th>\n",
       "      <td>0.000000</td>\n",
       "      <td>2.106530</td>\n",
       "      <td>0.062440</td>\n",
       "      <td>4.091680</td>\n",
       "      <td>10.444020</td>\n",
       "      <td>14.749830</td>\n",
       "      <td>0.000000</td>\n",
       "      <td>1.635650</td>\n",
       "      <td>1.586720</td>\n",
       "      <td>0.000000</td>\n",
       "      <td>1.027910</td>\n",
       "      <td>4.104700</td>\n",
       "      <td>4.079350</td>\n",
       "      <td>0.000000</td>\n",
       "    </tr>\n",
       "    <tr>\n",
       "      <th>25%</th>\n",
       "      <td>29.000000</td>\n",
       "      <td>5.614560</td>\n",
       "      <td>46.997840</td>\n",
       "      <td>6.118100</td>\n",
       "      <td>38.996120</td>\n",
       "      <td>40.718798</td>\n",
       "      <td>0.000000</td>\n",
       "      <td>5.175640</td>\n",
       "      <td>5.192982</td>\n",
       "      <td>5.727078</td>\n",
       "      <td>5.047092</td>\n",
       "      <td>6.136658</td>\n",
       "      <td>6.105255</td>\n",
       "      <td>58.226145</td>\n",
       "    </tr>\n",
       "    <tr>\n",
       "      <th>50%</th>\n",
       "      <td>58.000000</td>\n",
       "      <td>6.993985</td>\n",
       "      <td>69.319460</td>\n",
       "      <td>6.783980</td>\n",
       "      <td>48.308330</td>\n",
       "      <td>49.254165</td>\n",
       "      <td>1.000000</td>\n",
       "      <td>6.315610</td>\n",
       "      <td>6.336440</td>\n",
       "      <td>7.528915</td>\n",
       "      <td>5.864550</td>\n",
       "      <td>6.808785</td>\n",
       "      <td>6.775820</td>\n",
       "      <td>75.625600</td>\n",
       "    </tr>\n",
       "    <tr>\n",
       "      <th>75%</th>\n",
       "      <td>87.000000</td>\n",
       "      <td>8.017055</td>\n",
       "      <td>93.352730</td>\n",
       "      <td>7.460410</td>\n",
       "      <td>57.859465</td>\n",
       "      <td>57.886197</td>\n",
       "      <td>1.000000</td>\n",
       "      <td>7.588015</td>\n",
       "      <td>7.631527</td>\n",
       "      <td>10.220637</td>\n",
       "      <td>6.848598</td>\n",
       "      <td>7.479385</td>\n",
       "      <td>7.441745</td>\n",
       "      <td>83.710870</td>\n",
       "    </tr>\n",
       "    <tr>\n",
       "      <th>max</th>\n",
       "      <td>116.000000</td>\n",
       "      <td>10.690800</td>\n",
       "      <td>162.347770</td>\n",
       "      <td>9.466650</td>\n",
       "      <td>86.434280</td>\n",
       "      <td>83.920060</td>\n",
       "      <td>1.000000</td>\n",
       "      <td>11.187870</td>\n",
       "      <td>11.278320</td>\n",
       "      <td>100.000000</td>\n",
       "      <td>12.900650</td>\n",
       "      <td>9.493170</td>\n",
       "      <td>9.473200</td>\n",
       "      <td>100.000000</td>\n",
       "    </tr>\n",
       "  </tbody>\n",
       "</table>\n",
       "</div>"
      ],
      "text/plain": [
       "               age    leukocyty       weight        hbver        er-cv  \\\n",
       "count  9908.000000  9876.000000  9873.000000  9807.000000  9811.000000   \n",
       "mean     57.995357     6.794092    70.273760     6.792054    48.375178   \n",
       "std      33.233715     1.523282    33.119698     0.970549    13.753611   \n",
       "min       0.000000     2.106530     0.062440     4.091680    10.444020   \n",
       "25%      29.000000     5.614560    46.997840     6.118100    38.996120   \n",
       "50%      58.000000     6.993985    69.319460     6.783980    48.308330   \n",
       "75%      87.000000     8.017055    93.352730     7.460410    57.859465   \n",
       "max     116.000000    10.690800   162.347770     9.466650    86.434280   \n",
       "\n",
       "               ast    indicator   hematokrit   trombocyty          alt  \\\n",
       "count  9810.000000  9908.000000  9875.000000  9858.000000  9878.000000   \n",
       "mean     49.324339     0.645337     6.371188     6.424773     8.945878   \n",
       "std      12.386757     0.478435     1.589418     1.706778     5.862432   \n",
       "min      14.749830     0.000000     1.635650     1.586720     0.000000   \n",
       "25%      40.718798     0.000000     5.175640     5.192982     5.727078   \n",
       "50%      49.254165     1.000000     6.315610     6.336440     7.528915   \n",
       "75%      57.886197     1.000000     7.588015     7.631527    10.220637   \n",
       "max      83.920060     1.000000    11.187870    11.278320   100.000000   \n",
       "\n",
       "             etytr   erytrocyty   hemoglobin          alp  \n",
       "count  9878.000000  9798.000000  9803.000000  9878.000000  \n",
       "mean      6.032210     6.803877     6.781263    68.515482  \n",
       "std       1.502904     0.972814     0.976355    20.352373  \n",
       "min       1.027910     4.104700     4.079350     0.000000  \n",
       "25%       5.047092     6.136658     6.105255    58.226145  \n",
       "50%       5.864550     6.808785     6.775820    75.625600  \n",
       "75%       6.848598     7.479385     7.441745    83.710870  \n",
       "max      12.900650     9.493170     9.473200   100.000000  "
      ]
     },
     "execution_count": 13,
     "metadata": {},
     "output_type": "execute_result"
    }
   ],
   "source": [
    "data.describe()"
   ]
  },
  {
   "cell_type": "markdown",
   "id": "6f731300",
   "metadata": {},
   "source": [
    "## Nahradenie vychýlených hodnôt\n",
    "Druhou stratégiou odstraňovania vychýlených hodnôt je nahradenie hraničnými hodnotami rozdelenia (5% resp. 95%) Využijeme na to funkcie *clip()* a *quantile()*"
   ]
  },
  {
   "cell_type": "code",
   "execution_count": 14,
   "id": "6b6a327d",
   "metadata": {},
   "outputs": [],
   "source": [
    "def replace_outliers(data):\n",
    "    return data.clip(lower=data.quantile(0.05), upper=data.quantile(0.95))"
   ]
  },
  {
   "cell_type": "code",
   "execution_count": 15,
   "id": "526b9747",
   "metadata": {},
   "outputs": [],
   "source": [
    "alt_before = copy.deepcopy(data.alt)\n",
    "data.alt = replace_outliers(data.alt)\n",
    "etytr_before = copy.deepcopy(data.etytr)\n",
    "data.etytr = replace_outliers(data.etytr)\n",
    "alp_before = copy.deepcopy(data.alp)\n",
    "data.alp = replace_outliers(data.alp)"
   ]
  },
  {
   "cell_type": "code",
   "execution_count": 16,
   "id": "56d89242",
   "metadata": {},
   "outputs": [
    {
     "data": {
      "text/html": [
       "<div>\n",
       "<style scoped>\n",
       "    .dataframe tbody tr th:only-of-type {\n",
       "        vertical-align: middle;\n",
       "    }\n",
       "\n",
       "    .dataframe tbody tr th {\n",
       "        vertical-align: top;\n",
       "    }\n",
       "\n",
       "    .dataframe thead th {\n",
       "        text-align: right;\n",
       "    }\n",
       "</style>\n",
       "<table border=\"1\" class=\"dataframe\">\n",
       "  <thead>\n",
       "    <tr style=\"text-align: right;\">\n",
       "      <th></th>\n",
       "      <th>age</th>\n",
       "      <th>leukocyty</th>\n",
       "      <th>weight</th>\n",
       "      <th>hbver</th>\n",
       "      <th>er-cv</th>\n",
       "      <th>ast</th>\n",
       "      <th>indicator</th>\n",
       "      <th>hematokrit</th>\n",
       "      <th>trombocyty</th>\n",
       "      <th>alt</th>\n",
       "      <th>etytr</th>\n",
       "      <th>erytrocyty</th>\n",
       "      <th>hemoglobin</th>\n",
       "      <th>alp</th>\n",
       "    </tr>\n",
       "  </thead>\n",
       "  <tbody>\n",
       "    <tr>\n",
       "      <th>count</th>\n",
       "      <td>9908.000000</td>\n",
       "      <td>9876.000000</td>\n",
       "      <td>9873.000000</td>\n",
       "      <td>9807.000000</td>\n",
       "      <td>9811.000000</td>\n",
       "      <td>9810.000000</td>\n",
       "      <td>9908.000000</td>\n",
       "      <td>9875.000000</td>\n",
       "      <td>9858.000000</td>\n",
       "      <td>9878.000000</td>\n",
       "      <td>9878.000000</td>\n",
       "      <td>9798.000000</td>\n",
       "      <td>9803.000000</td>\n",
       "      <td>9878.000000</td>\n",
       "    </tr>\n",
       "    <tr>\n",
       "      <th>mean</th>\n",
       "      <td>57.995357</td>\n",
       "      <td>6.794092</td>\n",
       "      <td>70.273760</td>\n",
       "      <td>6.792054</td>\n",
       "      <td>48.375178</td>\n",
       "      <td>49.324339</td>\n",
       "      <td>0.645337</td>\n",
       "      <td>6.371188</td>\n",
       "      <td>6.424773</td>\n",
       "      <td>8.551068</td>\n",
       "      <td>6.018805</td>\n",
       "      <td>6.803877</td>\n",
       "      <td>6.781263</td>\n",
       "      <td>68.860965</td>\n",
       "    </tr>\n",
       "    <tr>\n",
       "      <th>std</th>\n",
       "      <td>33.233715</td>\n",
       "      <td>1.523282</td>\n",
       "      <td>33.119698</td>\n",
       "      <td>0.970549</td>\n",
       "      <td>13.753611</td>\n",
       "      <td>12.386757</td>\n",
       "      <td>0.478435</td>\n",
       "      <td>1.589418</td>\n",
       "      <td>1.706778</td>\n",
       "      <td>3.945598</td>\n",
       "      <td>1.350251</td>\n",
       "      <td>0.972814</td>\n",
       "      <td>0.976355</td>\n",
       "      <td>19.079332</td>\n",
       "    </tr>\n",
       "    <tr>\n",
       "      <th>min</th>\n",
       "      <td>0.000000</td>\n",
       "      <td>2.106530</td>\n",
       "      <td>0.062440</td>\n",
       "      <td>4.091680</td>\n",
       "      <td>10.444020</td>\n",
       "      <td>14.749830</td>\n",
       "      <td>0.000000</td>\n",
       "      <td>1.635650</td>\n",
       "      <td>1.586720</td>\n",
       "      <td>3.712878</td>\n",
       "      <td>3.823988</td>\n",
       "      <td>4.104700</td>\n",
       "      <td>4.079350</td>\n",
       "      <td>24.037958</td>\n",
       "    </tr>\n",
       "    <tr>\n",
       "      <th>25%</th>\n",
       "      <td>29.000000</td>\n",
       "      <td>5.614560</td>\n",
       "      <td>46.997840</td>\n",
       "      <td>6.118100</td>\n",
       "      <td>38.996120</td>\n",
       "      <td>40.718798</td>\n",
       "      <td>0.000000</td>\n",
       "      <td>5.175640</td>\n",
       "      <td>5.192982</td>\n",
       "      <td>5.727078</td>\n",
       "      <td>5.047092</td>\n",
       "      <td>6.136658</td>\n",
       "      <td>6.105255</td>\n",
       "      <td>58.226145</td>\n",
       "    </tr>\n",
       "    <tr>\n",
       "      <th>50%</th>\n",
       "      <td>58.000000</td>\n",
       "      <td>6.993985</td>\n",
       "      <td>69.319460</td>\n",
       "      <td>6.783980</td>\n",
       "      <td>48.308330</td>\n",
       "      <td>49.254165</td>\n",
       "      <td>1.000000</td>\n",
       "      <td>6.315610</td>\n",
       "      <td>6.336440</td>\n",
       "      <td>7.528915</td>\n",
       "      <td>5.864550</td>\n",
       "      <td>6.808785</td>\n",
       "      <td>6.775820</td>\n",
       "      <td>75.625600</td>\n",
       "    </tr>\n",
       "    <tr>\n",
       "      <th>75%</th>\n",
       "      <td>87.000000</td>\n",
       "      <td>8.017055</td>\n",
       "      <td>93.352730</td>\n",
       "      <td>7.460410</td>\n",
       "      <td>57.859465</td>\n",
       "      <td>57.886197</td>\n",
       "      <td>1.000000</td>\n",
       "      <td>7.588015</td>\n",
       "      <td>7.631527</td>\n",
       "      <td>10.220637</td>\n",
       "      <td>6.848598</td>\n",
       "      <td>7.479385</td>\n",
       "      <td>7.441745</td>\n",
       "      <td>83.710870</td>\n",
       "    </tr>\n",
       "    <tr>\n",
       "      <th>max</th>\n",
       "      <td>116.000000</td>\n",
       "      <td>10.690800</td>\n",
       "      <td>162.347770</td>\n",
       "      <td>9.466650</td>\n",
       "      <td>86.434280</td>\n",
       "      <td>83.920060</td>\n",
       "      <td>1.000000</td>\n",
       "      <td>11.187870</td>\n",
       "      <td>11.278320</td>\n",
       "      <td>18.926994</td>\n",
       "      <td>8.874401</td>\n",
       "      <td>9.493170</td>\n",
       "      <td>9.473200</td>\n",
       "      <td>89.688798</td>\n",
       "    </tr>\n",
       "  </tbody>\n",
       "</table>\n",
       "</div>"
      ],
      "text/plain": [
       "               age    leukocyty       weight        hbver        er-cv  \\\n",
       "count  9908.000000  9876.000000  9873.000000  9807.000000  9811.000000   \n",
       "mean     57.995357     6.794092    70.273760     6.792054    48.375178   \n",
       "std      33.233715     1.523282    33.119698     0.970549    13.753611   \n",
       "min       0.000000     2.106530     0.062440     4.091680    10.444020   \n",
       "25%      29.000000     5.614560    46.997840     6.118100    38.996120   \n",
       "50%      58.000000     6.993985    69.319460     6.783980    48.308330   \n",
       "75%      87.000000     8.017055    93.352730     7.460410    57.859465   \n",
       "max     116.000000    10.690800   162.347770     9.466650    86.434280   \n",
       "\n",
       "               ast    indicator   hematokrit   trombocyty          alt  \\\n",
       "count  9810.000000  9908.000000  9875.000000  9858.000000  9878.000000   \n",
       "mean     49.324339     0.645337     6.371188     6.424773     8.551068   \n",
       "std      12.386757     0.478435     1.589418     1.706778     3.945598   \n",
       "min      14.749830     0.000000     1.635650     1.586720     3.712878   \n",
       "25%      40.718798     0.000000     5.175640     5.192982     5.727078   \n",
       "50%      49.254165     1.000000     6.315610     6.336440     7.528915   \n",
       "75%      57.886197     1.000000     7.588015     7.631527    10.220637   \n",
       "max      83.920060     1.000000    11.187870    11.278320    18.926994   \n",
       "\n",
       "             etytr   erytrocyty   hemoglobin          alp  \n",
       "count  9878.000000  9798.000000  9803.000000  9878.000000  \n",
       "mean      6.018805     6.803877     6.781263    68.860965  \n",
       "std       1.350251     0.972814     0.976355    19.079332  \n",
       "min       3.823988     4.104700     4.079350    24.037958  \n",
       "25%       5.047092     6.136658     6.105255    58.226145  \n",
       "50%       5.864550     6.808785     6.775820    75.625600  \n",
       "75%       6.848598     7.479385     7.441745    83.710870  \n",
       "max       8.874401     9.493170     9.473200    89.688798  "
      ]
     },
     "execution_count": 16,
     "metadata": {},
     "output_type": "execute_result"
    }
   ],
   "source": [
    "data.describe()"
   ]
  },
  {
   "cell_type": "markdown",
   "id": "203c2357",
   "metadata": {},
   "source": [
    "Môžme vidieť zmeny v počtoch niektorých atribútov datasetu, pričom mediány zostali veľmi podobné."
   ]
  },
  {
   "cell_type": "code",
   "execution_count": 17,
   "id": "a84ab192",
   "metadata": {},
   "outputs": [
    {
     "data": {
      "text/plain": [
       "Text(0.5, 1.0, 'Atribút alp pred nahradením outlierov')"
      ]
     },
     "execution_count": 17,
     "metadata": {},
     "output_type": "execute_result"
    },
    {
     "data": {
      "image/png": "[encoded data removed]",
      "text/plain": [
       "<Figure size 432x288 with 1 Axes>"
      ]
     },
     "metadata": {
      "needs_background": "light"
     },
     "output_type": "display_data"
    }
   ],
   "source": [
    "alp_before.plot(kind='hist', bins=100).set_title('Atribút alp pred nahradením outlierov')"
   ]
  },
  {
   "cell_type": "code",
   "execution_count": 18,
   "id": "8c71f8ea",
   "metadata": {},
   "outputs": [
    {
     "data": {
      "text/plain": [
       "Text(0.5, 1.0, 'Atribút alp po nahradení outlierov')"
      ]
     },
     "execution_count": 18,
     "metadata": {},
     "output_type": "execute_result"
    },
    {
     "data": {
      "image/png": "[encoded data removed]",
      "text/plain": [
       "<Figure size 432x288 with 1 Axes>"
      ]
     },
     "metadata": {
      "needs_background": "light"
     },
     "output_type": "display_data"
    }
   ],
   "source": [
    "data.alp.plot(kind='hist', bins=100).set_title('Atribút alp po nahradení outlierov')"
   ]
  },
  {
   "cell_type": "markdown",
   "id": "af3470eb",
   "metadata": {},
   "source": [
    "Vidíme že vychýlené hodnoty boli nahradené hraničnými hodnotami. Podobne je to aj v prípade atribútov **alt** a **etytr**"
   ]
  },
  {
   "cell_type": "code",
   "execution_count": 19,
   "id": "b1cb5495",
   "metadata": {},
   "outputs": [
    {
     "data": {
      "text/plain": [
       "Text(0.5, 1.0, 'Atribút etytr pred nahradením outlierov')"
      ]
     },
     "execution_count": 19,
     "metadata": {},
     "output_type": "execute_result"
    },
    {
     "data": {
      "image/png": "[encoded data removed]",
      "text/plain": [
       "<Figure size 432x288 with 1 Axes>"
      ]
     },
     "metadata": {
      "needs_background": "light"
     },
     "output_type": "display_data"
    }
   ],
   "source": [
    "etytr_before.plot(kind='hist', bins=100).set_title('Atribút etytr pred nahradením outlierov')"
   ]
  },
  {
   "cell_type": "code",
   "execution_count": 20,
   "id": "4b7aa90b",
   "metadata": {},
   "outputs": [
    {
     "data": {
      "text/plain": [
       "Text(0.5, 1.0, 'Atribút etytr po nahradení outlierov')"
      ]
     },
     "execution_count": 20,
     "metadata": {},
     "output_type": "execute_result"
    },
    {
     "data": {
      "image/png": "[encoded data removed]",
      "text/plain": [
       "<Figure size 432x288 with 1 Axes>"
      ]
     },
     "metadata": {
      "needs_background": "light"
     },
     "output_type": "display_data"
    }
   ],
   "source": [
    "data.etytr.plot(kind='hist', bins=100).set_title('Atribút etytr po nahradení outlierov')"
   ]
  },
  {
   "cell_type": "code",
   "execution_count": 21,
   "id": "20ca58bb",
   "metadata": {},
   "outputs": [
    {
     "data": {
      "text/plain": [
       "Text(0.5, 1.0, 'Atribút alt pred nahradením outlierov')"
      ]
     },
     "execution_count": 21,
     "metadata": {},
     "output_type": "execute_result"
    },
    {
     "data": {
      "image/png": "[encoded data removed]",
      "text/plain": [
       "<Figure size 432x288 with 1 Axes>"
      ]
     },
     "metadata": {
      "needs_background": "light"
     },
     "output_type": "display_data"
    }
   ],
   "source": [
    "alt_before.plot(kind='hist', bins=100).set_title('Atribút alt pred nahradením outlierov')"
   ]
  },
  {
   "cell_type": "code",
   "execution_count": 22,
   "id": "b469b03f",
   "metadata": {},
   "outputs": [
    {
     "data": {
      "text/plain": [
       "Text(0.5, 1.0, 'Atribút alt po nahradení outlierov')"
      ]
     },
     "execution_count": 22,
     "metadata": {},
     "output_type": "execute_result"
    },
    {
     "data": {
      "image/png": "[encoded data removed]",
      "text/plain": [
       "<Figure size 432x288 with 1 Axes>"
      ]
     },
     "metadata": {
      "needs_background": "light"
     },
     "output_type": "display_data"
    }
   ],
   "source": [
    "data.alt.plot(kind='hist', bins=100).set_title('Atribút alt po nahradení outlierov')"
   ]
  },
  {
   "cell_type": "markdown",
   "id": "aa5c6b6c",
   "metadata": {},
   "source": [
    "## Chýbajúce hodnoty\n",
    "\n",
    "Po odstránení vychýlených hodnôt nám zostalo veľa prázdnych záznamov. V nasledujúcom zozname môžme vidieť všetky chýbajúce hodnoty v záznamoch. Najprv využijeme stratégiu **KNN**."
   ]
  },
  {
   "cell_type": "code",
   "execution_count": 23,
   "id": "275fc73f",
   "metadata": {
    "scrolled": true
   },
   "outputs": [
    {
     "data": {
      "text/plain": [
       "leukocyty        32\n",
       "weight           35\n",
       "hbver           101\n",
       "HK group         30\n",
       "weight group    229\n",
       "er-cv            97\n",
       "ast              98\n",
       "hematokrit       33\n",
       "trombocyty       50\n",
       "alt              30\n",
       "etytr            30\n",
       "erytrocyty      110\n",
       "hemoglobin      105\n",
       "alp              30\n",
       "dtype: int64"
      ]
     },
     "execution_count": 23,
     "metadata": {},
     "output_type": "execute_result"
    }
   ],
   "source": [
    "data[data.columns[data.isnull().any()].tolist()].isnull().sum()"
   ]
  },
  {
   "cell_type": "markdown",
   "id": "e5372c43",
   "metadata": {},
   "source": [
    "Najprv sa musíme zbaviť všetkých nepotrebných atribútov typu string :"
   ]
  },
  {
   "cell_type": "code",
   "execution_count": 24,
   "id": "cc662d55",
   "metadata": {},
   "outputs": [
    {
     "data": {
      "text/plain": [
       "Index(['age', 'leukocyty', 'weight', 'hbver', 'er-cv', 'ast', 'indicator',\n",
       "       'hematokrit', 'trombocyty', 'alt', 'etytr', 'erytrocyty', 'hemoglobin',\n",
       "       'alp'],\n",
       "      dtype='object')"
      ]
     },
     "execution_count": 24,
     "metadata": {},
     "output_type": "execute_result"
    }
   ],
   "source": [
    "numeric_data = data.drop(['job', 'company', 'residence', 'name', 'ssn', 'birthdate', 'HK group', 'weight group', 'sex', 'blood_group', 'race', 'smoker', 'relationship'], axis=1)\n",
    "numeric_data.columns"
   ]
  },
  {
   "cell_type": "markdown",
   "id": "52ab5720",
   "metadata": {},
   "source": [
    "Potom pomocou KNNImputer-a doplníme chýbajúce hodnoty v záznamoch."
   ]
  },
  {
   "cell_type": "code",
   "execution_count": 25,
   "id": "08ed8dbb",
   "metadata": {},
   "outputs": [],
   "source": [
    "def knn_imputer(data):\n",
    "    imputer = KNNImputer(n_neighbors=5)\n",
    "    return pd.DataFrame(imputer.fit_transform(data), columns=data.columns)"
   ]
  },
  {
   "cell_type": "code",
   "execution_count": 26,
   "id": "eb47989e",
   "metadata": {},
   "outputs": [],
   "source": [
    "numeric_data = knn_imputer(numeric_data)"
   ]
  },
  {
   "cell_type": "code",
   "execution_count": 27,
   "id": "3769790d",
   "metadata": {},
   "outputs": [
    {
     "data": {
      "text/plain": [
       "Series([], dtype: float64)"
      ]
     },
     "execution_count": 27,
     "metadata": {},
     "output_type": "execute_result"
    }
   ],
   "source": [
    "numeric_data[numeric_data.columns[numeric_data.isnull().any()].tolist()].isnull().sum()"
   ]
  },
  {
   "cell_type": "markdown",
   "id": "d094b317",
   "metadata": {},
   "source": [
    "Vidíme že všetky chýbajúce hodnoty boli odstránené.\n",
    "Následne môžme nahradiť vybrané stĺpce našimi novými, vyplnenými stĺpcami."
   ]
  },
  {
   "cell_type": "code",
   "execution_count": 28,
   "id": "e84a6550",
   "metadata": {},
   "outputs": [],
   "source": [
    "data['leukocyty'] = numeric_data['leukocyty'].values\n",
    "data['hbver'] = numeric_data['hbver'].values\n",
    "data['er-cv'] = numeric_data['er-cv'].values\n",
    "data['ast'] = numeric_data['ast'].values\n",
    "data['hematokrit'] = numeric_data['hematokrit'].values\n",
    "data['trombocyty'] = numeric_data['trombocyty'].values\n",
    "data['alt'] = numeric_data['alt'].values\n",
    "data['etytr'] = numeric_data['etytr'].values\n",
    "data['erytrocyty'] = numeric_data['erytrocyty'].values\n",
    "data['hemoglobin'] = numeric_data['hemoglobin'].values\n",
    "data['alp'] = numeric_data['alp'].values"
   ]
  },
  {
   "cell_type": "code",
   "execution_count": 29,
   "id": "3f6f0ac6",
   "metadata": {},
   "outputs": [
    {
     "data": {
      "text/plain": [
       "weight           35\n",
       "HK group         30\n",
       "weight group    229\n",
       "dtype: int64"
      ]
     },
     "execution_count": 29,
     "metadata": {},
     "output_type": "execute_result"
    }
   ],
   "source": [
    "data[data.columns[data.isnull().any()].tolist()].isnull().sum()"
   ]
  },
  {
   "cell_type": "markdown",
   "id": "aa6251de",
   "metadata": {},
   "source": [
    "### Nahradenie chýbajúcich hodnôt mediánom\n",
    "Druhá využitá stratégia nahrádzanie chýbajúcich hodnôt je nahradenie mediánom :"
   ]
  },
  {
   "cell_type": "code",
   "execution_count": 30,
   "id": "98c86676",
   "metadata": {},
   "outputs": [],
   "source": [
    "def replace_median(dataset):\n",
    "    return dataset.fillna(dataset.median())"
   ]
  },
  {
   "cell_type": "code",
   "execution_count": 31,
   "id": "44db1f16",
   "metadata": {
    "scrolled": true
   },
   "outputs": [
    {
     "data": {
      "text/plain": [
       "Text(0.5, 1.0, 'Distribúcia váhy pacientov zobrazená histogramom')"
      ]
     },
     "execution_count": 31,
     "metadata": {},
     "output_type": "execute_result"
    },
    {
     "data": {
      "image/png": "[encoded data removed]",
      "text/plain": [
       "<Figure size 432x288 with 1 Axes>"
      ]
     },
     "metadata": {
      "needs_background": "light"
     },
     "output_type": "display_data"
    }
   ],
   "source": [
    "data['weight'] = replace_median(data['weight'])\n",
    "data['weight'].plot(kind='hist', bins=100).set_title('Distribúcia váhy pacientov zobrazená histogramom')"
   ]
  },
  {
   "cell_type": "markdown",
   "id": "ee9107a7",
   "metadata": {},
   "source": [
    "Po doplnení chýbajúcich hodnôt atribútu **weight** nám zostávajú už len 2 atribúty s chýbajúcimi hodnotami :"
   ]
  },
  {
   "cell_type": "code",
   "execution_count": 32,
   "id": "29c1b5d5",
   "metadata": {},
   "outputs": [
    {
     "data": {
      "text/plain": [
       "HK group         30\n",
       "weight group    229\n",
       "dtype: int64"
      ]
     },
     "execution_count": 32,
     "metadata": {},
     "output_type": "execute_result"
    }
   ],
   "source": [
    "data[data.columns[data.isnull().any()].tolist()].isnull().sum()"
   ]
  },
  {
   "cell_type": "markdown",
   "id": "c4d13ef1",
   "metadata": {},
   "source": [
    "Atribút **weight group** nám označuje len váhovú kategóriu do ktorej patrí váha pacienta, a tak môžme ľahko doplniť chýbajúce hodnoty pomocou funkcie *weight_grouper*"
   ]
  },
  {
   "cell_type": "code",
   "execution_count": 33,
   "id": "3adeb01d",
   "metadata": {},
   "outputs": [
    {
     "data": {
      "text/plain": [
       "count      9679\n",
       "unique       20\n",
       "top       60-70\n",
       "freq       1168\n",
       "Name: weight group, dtype: object"
      ]
     },
     "execution_count": 33,
     "metadata": {},
     "output_type": "execute_result"
    }
   ],
   "source": [
    "data['weight group'].describe()"
   ]
  },
  {
   "cell_type": "code",
   "execution_count": 34,
   "id": "f3c67345",
   "metadata": {},
   "outputs": [],
   "source": [
    "def weight_grouper(weight):\n",
    "    w = int(weight / 10)*10\n",
    "    return str(w) + '-' + str(w+10)\n",
    "    \n",
    "data['weight group'] = data['weight'].apply(weight_grouper)"
   ]
  },
  {
   "cell_type": "code",
   "execution_count": 35,
   "id": "4bf8e23b",
   "metadata": {},
   "outputs": [
    {
     "data": {
      "text/plain": [
       "count      9908\n",
       "unique       17\n",
       "top       60-70\n",
       "freq       1203\n",
       "Name: weight group, dtype: object"
      ]
     },
     "execution_count": 35,
     "metadata": {},
     "output_type": "execute_result"
    }
   ],
   "source": [
    "data['weight group'].describe()"
   ]
  },
  {
   "cell_type": "markdown",
   "id": "4843a187",
   "metadata": {},
   "source": [
    "Môžme vidieť že sme doplnili všetky potrebné záznamy. Podobnú funkciu použijeme aj v prípade **HK group**"
   ]
  },
  {
   "cell_type": "code",
   "execution_count": 36,
   "id": "a847faaa",
   "metadata": {},
   "outputs": [
    {
     "data": {
      "text/plain": [
       "count     9878\n",
       "unique      11\n",
       "top        5-6\n",
       "freq      2175\n",
       "Name: HK group, dtype: object"
      ]
     },
     "execution_count": 36,
     "metadata": {},
     "output_type": "execute_result"
    }
   ],
   "source": [
    "data['HK group'].describe()"
   ]
  },
  {
   "cell_type": "code",
   "execution_count": 37,
   "id": "d1996036",
   "metadata": {},
   "outputs": [],
   "source": [
    "def HK_grouper(HK):\n",
    "    hk = int(HK)\n",
    "    return str(hk) + '-' + str(hk+1)\n",
    "    \n",
    "data['HK group'] = data['hematokrit'].apply(HK_grouper)"
   ]
  },
  {
   "cell_type": "code",
   "execution_count": 38,
   "id": "97e5a470",
   "metadata": {},
   "outputs": [
    {
     "data": {
      "text/plain": [
       "count     9908\n",
       "unique      11\n",
       "top        5-6\n",
       "freq      2182\n",
       "Name: HK group, dtype: object"
      ]
     },
     "execution_count": 38,
     "metadata": {},
     "output_type": "execute_result"
    }
   ],
   "source": [
    "data['HK group'].describe()"
   ]
  },
  {
   "cell_type": "code",
   "execution_count": 39,
   "id": "7de4ecb2",
   "metadata": {},
   "outputs": [
    {
     "data": {
      "text/html": [
       "<div>\n",
       "<style scoped>\n",
       "    .dataframe tbody tr th:only-of-type {\n",
       "        vertical-align: middle;\n",
       "    }\n",
       "\n",
       "    .dataframe tbody tr th {\n",
       "        vertical-align: top;\n",
       "    }\n",
       "\n",
       "    .dataframe thead th {\n",
       "        text-align: right;\n",
       "    }\n",
       "</style>\n",
       "<table border=\"1\" class=\"dataframe\">\n",
       "  <thead>\n",
       "    <tr style=\"text-align: right;\">\n",
       "      <th></th>\n",
       "      <th>Priemer predtým</th>\n",
       "      <th>Median predtým</th>\n",
       "      <th>Priemer potom</th>\n",
       "      <th>Median potom</th>\n",
       "    </tr>\n",
       "  </thead>\n",
       "  <tbody>\n",
       "    <tr>\n",
       "      <th>age</th>\n",
       "      <td>57.995357</td>\n",
       "      <td>58.000000</td>\n",
       "      <td>57.995357</td>\n",
       "      <td>58.000000</td>\n",
       "    </tr>\n",
       "    <tr>\n",
       "      <th>leukocyty</th>\n",
       "      <td>6.793018</td>\n",
       "      <td>6.993640</td>\n",
       "      <td>6.793814</td>\n",
       "      <td>6.992485</td>\n",
       "    </tr>\n",
       "    <tr>\n",
       "      <th>weight</th>\n",
       "      <td>70.635417</td>\n",
       "      <td>69.491150</td>\n",
       "      <td>70.270389</td>\n",
       "      <td>69.319460</td>\n",
       "    </tr>\n",
       "    <tr>\n",
       "      <th>hbver</th>\n",
       "      <td>6.793715</td>\n",
       "      <td>6.785165</td>\n",
       "      <td>6.792209</td>\n",
       "      <td>6.784746</td>\n",
       "    </tr>\n",
       "    <tr>\n",
       "      <th>er-cv</th>\n",
       "      <td>48.350437</td>\n",
       "      <td>48.300335</td>\n",
       "      <td>48.372967</td>\n",
       "      <td>48.320590</td>\n",
       "    </tr>\n",
       "    <tr>\n",
       "      <th>ast</th>\n",
       "      <td>49.307390</td>\n",
       "      <td>49.249260</td>\n",
       "      <td>49.316767</td>\n",
       "      <td>49.249260</td>\n",
       "    </tr>\n",
       "    <tr>\n",
       "      <th>indicator</th>\n",
       "      <td>0.645337</td>\n",
       "      <td>1.000000</td>\n",
       "      <td>0.645337</td>\n",
       "      <td>1.000000</td>\n",
       "    </tr>\n",
       "    <tr>\n",
       "      <th>hematokrit</th>\n",
       "      <td>6.369656</td>\n",
       "      <td>6.315170</td>\n",
       "      <td>6.371898</td>\n",
       "      <td>6.317320</td>\n",
       "    </tr>\n",
       "    <tr>\n",
       "      <th>trombocyty</th>\n",
       "      <td>6.426925</td>\n",
       "      <td>6.337080</td>\n",
       "      <td>6.424931</td>\n",
       "      <td>6.337235</td>\n",
       "    </tr>\n",
       "    <tr>\n",
       "      <th>alt</th>\n",
       "      <td>8.945878</td>\n",
       "      <td>7.528915</td>\n",
       "      <td>8.551448</td>\n",
       "      <td>7.538350</td>\n",
       "    </tr>\n",
       "    <tr>\n",
       "      <th>etytr</th>\n",
       "      <td>6.032210</td>\n",
       "      <td>5.864550</td>\n",
       "      <td>6.019130</td>\n",
       "      <td>5.865970</td>\n",
       "    </tr>\n",
       "    <tr>\n",
       "      <th>erytrocyty</th>\n",
       "      <td>6.797049</td>\n",
       "      <td>6.805760</td>\n",
       "      <td>6.804161</td>\n",
       "      <td>6.806300</td>\n",
       "    </tr>\n",
       "    <tr>\n",
       "      <th>hemoglobin</th>\n",
       "      <td>6.784296</td>\n",
       "      <td>6.777290</td>\n",
       "      <td>6.794099</td>\n",
       "      <td>6.785225</td>\n",
       "    </tr>\n",
       "    <tr>\n",
       "      <th>alp</th>\n",
       "      <td>68.515482</td>\n",
       "      <td>75.625600</td>\n",
       "      <td>68.854243</td>\n",
       "      <td>75.546340</td>\n",
       "    </tr>\n",
       "  </tbody>\n",
       "</table>\n",
       "</div>"
      ],
      "text/plain": [
       "            Priemer predtým  Median predtým  Priemer potom  Median potom\n",
       "age               57.995357       58.000000      57.995357     58.000000\n",
       "leukocyty          6.793018        6.993640       6.793814      6.992485\n",
       "weight            70.635417       69.491150      70.270389     69.319460\n",
       "hbver              6.793715        6.785165       6.792209      6.784746\n",
       "er-cv             48.350437       48.300335      48.372967     48.320590\n",
       "ast               49.307390       49.249260      49.316767     49.249260\n",
       "indicator          0.645337        1.000000       0.645337      1.000000\n",
       "hematokrit         6.369656        6.315170       6.371898      6.317320\n",
       "trombocyty         6.426925        6.337080       6.424931      6.337235\n",
       "alt                8.945878        7.528915       8.551448      7.538350\n",
       "etytr              6.032210        5.864550       6.019130      5.865970\n",
       "erytrocyty         6.797049        6.805760       6.804161      6.806300\n",
       "hemoglobin         6.784296        6.777290       6.794099      6.785225\n",
       "alp               68.515482       75.625600      68.854243     75.546340"
      ]
     },
     "execution_count": 39,
     "metadata": {},
     "output_type": "execute_result"
    }
   ],
   "source": [
    "df=pd.DataFrame({\"Priemer predtým\":data0.mean(),\"Median predtým\":data0.median(),\"Priemer potom\":data.mean(),\"Median potom\":data.median()})\n",
    "df"
   ]
  },
  {
   "cell_type": "markdown",
   "id": "e687888f",
   "metadata": {},
   "source": [
    "V danej tabuľke vidíme výsledok úlohy 1 - nenumerické hodnoty premenené na numerické a odstránenie outlierov."
   ]
  },
  {
   "cell_type": "markdown",
   "id": "bc78764c",
   "metadata": {},
   "source": [
    "**uloženie upravenej sady dát** po odstránení outlierov a nahradení chýbajúcich hodnôt"
   ]
  },
  {
   "cell_type": "code",
   "execution_count": 40,
   "id": "c71ab202",
   "metadata": {},
   "outputs": [],
   "source": [
    "data.to_csv('data/merged_dataset.csv', sep='\\t', index=False, encoding='utf-8')"
   ]
  },
  {
   "cell_type": "markdown",
   "id": "b72600cd",
   "metadata": {},
   "source": [
    "## **Rozdelenie dát na trénovaciu a testovaciu sadu**"
   ]
  },
  {
   "cell_type": "code",
   "execution_count": 41,
   "id": "237d9e10",
   "metadata": {},
   "outputs": [],
   "source": [
    "data_train, data_test = train_test_split(data, test_size=0.33, random_state = 0)\n",
    "data_train_zaloha= data_train"
   ]
  },
  {
   "cell_type": "markdown",
   "id": "de55c585",
   "metadata": {},
   "source": [
    "Rozdelenie v pomer 67% trénovacia sada a 33% testovacia sada."
   ]
  },
  {
   "cell_type": "markdown",
   "id": "f93848f6",
   "metadata": {},
   "source": [
    "## 2. Realizácia predspracovania dát"
   ]
  },
  {
   "cell_type": "markdown",
   "id": "4c4b9eb2",
   "metadata": {},
   "source": [
    "Odstránenie atribútov, ktoré nie sú laboratórne hodnoty(demografické hodnoty a identifikátory pacienta a pod) teda, nemajú vzťah k premennej indikátor."
   ]
  },
  {
   "cell_type": "code",
   "execution_count": 42,
   "id": "46f7f934",
   "metadata": {},
   "outputs": [],
   "source": [
    "data_train = data_train.drop(\"name\",1)\n",
    "data_train = data_train.drop(\"job\",1)\n",
    "data_train = data_train.drop(\"company\",1)\n",
    "data_train = data_train.drop(\"residence\",1)\n",
    "data_train = data_train.drop(\"birthdate\",1)\n",
    "data_train = data_train.drop(\"ssn\",1)\n",
    "data_train = data_train.drop(\"HK group\",1)\n",
    "data_train = data_train.drop(\"weight group\",1)\n",
    "data_testzaloha = data_test.drop(\"name\",1)\n",
    "data_testzaloha = data_test.drop(\"job\",1)\n",
    "data_testzaloha = data_test.drop(\"company\",1)\n",
    "data_testzaloha = data_test.drop(\"residence\",1)\n",
    "data_testzaloha = data_test.drop(\"birthdate\",1)\n",
    "data_testzaloha = data_test.drop(\"ssn\",1)\n",
    "data_testzaloha = data_test.drop(\"HK group\",1)\n",
    "data_testzaloha = data_test.drop(\"weight group\",1)"
   ]
  },
  {
   "cell_type": "markdown",
   "id": "50c0b92d",
   "metadata": {},
   "source": [
    "Demografické atribúty ako job, company a residence sme odstránili, pretože nijako neovplyvňujú zdravotný stav pacienta a netýkajú sa jeho laboratórnych výsledkov.\n",
    "\n",
    "Atribút ssn a name slúžia len na identifikáciu pozorovania resp. pacienta ku ktorému daný laboratórny záznam patrí, preto sú z hľadiska prieskumnej analýzy resp. strojového učenia nepodstatné.\n",
    "\n",
    "Atribúty HK group a weight group boli atribúty pridané nami počas EDA v 1. fáze preto ich tiež môžeme odstrániť.\n",
    "\n",
    "A nespojitý atribút birthdate sme nahradili spojitým atribútom age, ktorý vyjadruje vek pacienta v rokoch a preto birthdate môžme tiež odstrániť."
   ]
  },
  {
   "cell_type": "markdown",
   "id": "69e53fd0",
   "metadata": {},
   "source": [
    "### Zopakovanie časti prieskumnej analýzy na trénovacej sade"
   ]
  },
  {
   "cell_type": "markdown",
   "id": "c45165f3",
   "metadata": {},
   "source": [
    "### Počet záznamov a atribútov"
   ]
  },
  {
   "cell_type": "code",
   "execution_count": 43,
   "id": "64d39f0b",
   "metadata": {},
   "outputs": [
    {
     "name": "stdout",
     "output_type": "stream",
     "text": [
      "Počet záznamov :  6638 \n",
      "Počet atribútov:  27\n"
     ]
    }
   ],
   "source": [
    "print('Počet záznamov : ',data_train.shape[0] , '\\nPočet atribútov: ', data.shape[1])"
   ]
  },
  {
   "cell_type": "markdown",
   "id": "91fe6b95",
   "metadata": {},
   "source": [
    "Dataset obsahuje nasledovné atribúty"
   ]
  },
  {
   "cell_type": "code",
   "execution_count": 44,
   "id": "6b734517",
   "metadata": {},
   "outputs": [
    {
     "data": {
      "text/plain": [
       "Index(['sex', 'blood_group', 'race', 'age', 'leukocyty', 'weight', 'hbver',\n",
       "       'er-cv', 'ast', 'indicator', 'hematokrit', 'trombocyty', 'smoker',\n",
       "       'alt', 'etytr', 'erytrocyty', 'hemoglobin', 'alp', 'relationship'],\n",
       "      dtype='object')"
      ]
     },
     "execution_count": 44,
     "metadata": {},
     "output_type": "execute_result"
    }
   ],
   "source": [
    "data_train.columns"
   ]
  },
  {
   "cell_type": "markdown",
   "id": "52e49a76",
   "metadata": {},
   "source": [
    "**Dataset už neobsahuje žiadne chýbajúce hodnoty**"
   ]
  },
  {
   "cell_type": "code",
   "execution_count": 45,
   "id": "40f7a55b",
   "metadata": {},
   "outputs": [
    {
     "data": {
      "text/plain": [
       "sex             0\n",
       "blood_group     0\n",
       "race            0\n",
       "age             0\n",
       "leukocyty       0\n",
       "weight          0\n",
       "hbver           0\n",
       "er-cv           0\n",
       "ast             0\n",
       "indicator       0\n",
       "hematokrit      0\n",
       "trombocyty      0\n",
       "smoker          0\n",
       "alt             0\n",
       "etytr           0\n",
       "erytrocyty      0\n",
       "hemoglobin      0\n",
       "alp             0\n",
       "relationship    0\n",
       "dtype: int64"
      ]
     },
     "execution_count": 45,
     "metadata": {},
     "output_type": "execute_result"
    }
   ],
   "source": [
    "data_train.isnull().sum()"
   ]
  },
  {
   "cell_type": "markdown",
   "id": "168a59ae",
   "metadata": {},
   "source": [
    "**Môžme si všimnúť že dataset obsahuje 0 duplicitných záznamov.**"
   ]
  },
  {
   "cell_type": "code",
   "execution_count": 46,
   "id": "8984504e",
   "metadata": {},
   "outputs": [
    {
     "data": {
      "text/plain": [
       "0"
      ]
     },
     "execution_count": 46,
     "metadata": {},
     "output_type": "execute_result"
    }
   ],
   "source": [
    "data_train.duplicated().sum()"
   ]
  },
  {
   "cell_type": "markdown",
   "id": "ec7e69dd",
   "metadata": {},
   "source": [
    "## Encoding trénovacej sady\n",
    "Nenumerické kategorické atribúty budeme premienať na numerické pomocou vlastnej funkcie *encode()*. Funkcia najprv zoradí všetky *unique* záznamy v datasete a podľa toho prepisuje záznamy, aby sme zabezpečili že kódovanie bude rovnaké v oboch datasetoch. Funkcia tiež vypíše použité kódovanie."
   ]
  },
  {
   "cell_type": "code",
   "execution_count": 47,
   "id": "6ac2b439",
   "metadata": {},
   "outputs": [],
   "source": [
    "def encode(data, columns):\n",
    "    for c in columns:\n",
    "        answers = list(list(data[c].unique()))\n",
    "        answers.sort()\n",
    "        print(\"Atribut \" + str(c) + \" :\")\n",
    "        for i in range(len(answers)):\n",
    "            print(str(answers[i]) + \" -> \" + str(i))\n",
    "        data[c] = data[c].apply(lambda x: answers.index(x))\n",
    "        \n",
    "    return data"
   ]
  },
  {
   "cell_type": "markdown",
   "id": "a44dbb10",
   "metadata": {},
   "source": [
    "Našu funkciu aplikujeme na všetky potrebné atribúty datasetu :"
   ]
  },
  {
   "cell_type": "code",
   "execution_count": 48,
   "id": "1a555cc8",
   "metadata": {},
   "outputs": [
    {
     "name": "stdout",
     "output_type": "stream",
     "text": [
      "Atribut blood_group :\n",
      "A+ -> 0\n",
      "A- -> 1\n",
      "AB+ -> 2\n",
      "AB- -> 3\n",
      "B+ -> 4\n",
      "B- -> 5\n",
      "O+ -> 6\n",
      "O- -> 7\n",
      "Atribut sex :\n",
      "F -> 0\n",
      "M -> 1\n",
      "Atribut smoker :\n",
      "no -> 0\n",
      "yes -> 1\n",
      "Atribut race :\n",
      "Asian -> 0\n",
      "Black -> 1\n",
      "Hawaiian -> 2\n",
      "Indian -> 3\n",
      "White -> 4\n",
      "Atribut relationship :\n",
      "divorced -> 0\n",
      "married -> 1\n",
      "nop -> 2\n",
      "separated -> 3\n",
      "single -> 4\n",
      "widowed -> 5\n",
      "Atribut blood_group :\n",
      "A+ -> 0\n",
      "A- -> 1\n",
      "AB+ -> 2\n",
      "AB- -> 3\n",
      "B+ -> 4\n",
      "B- -> 5\n",
      "O+ -> 6\n",
      "O- -> 7\n",
      "Atribut sex :\n",
      "F -> 0\n",
      "M -> 1\n",
      "Atribut smoker :\n",
      "no -> 0\n",
      "yes -> 1\n",
      "Atribut race :\n",
      "Asian -> 0\n",
      "Black -> 1\n",
      "Hawaiian -> 2\n",
      "Indian -> 3\n",
      "White -> 4\n",
      "Atribut relationship :\n",
      "divorced -> 0\n",
      "married -> 1\n",
      "nop -> 2\n",
      "separated -> 3\n",
      "single -> 4\n",
      "widowed -> 5\n"
     ]
    }
   ],
   "source": [
    "data_train = encode(data_train, ['blood_group', 'sex', 'smoker', 'race', 'relationship'])\n",
    "data_testzaloha = encode(data_testzaloha, ['blood_group', 'sex', 'smoker', 'race', 'relationship'])"
   ]
  },
  {
   "cell_type": "markdown",
   "id": "6f21a328",
   "metadata": {},
   "source": [
    "### Atribút blood_group"
   ]
  },
  {
   "cell_type": "code",
   "execution_count": 49,
   "id": "7b0b5b96",
   "metadata": {
    "scrolled": true
   },
   "outputs": [
    {
     "data": {
      "text/plain": [
       "Text(0.5, 1.0, 'Graf zobrazujúci pomer krvných skupín trénovacej sady')"
      ]
     },
     "execution_count": 49,
     "metadata": {},
     "output_type": "execute_result"
    },
    {
     "data": {
      "image/png": "[encoded data removed]",
      "text/plain": [
       "<Figure size 432x288 with 1 Axes>"
      ]
     },
     "metadata": {},
     "output_type": "display_data"
    }
   ],
   "source": [
    "data_train.blood_group.value_counts().plot.pie( autopct='%1.2f%%').set_title('Graf zobrazujúci pomer krvných skupín trénovacej sady')"
   ]
  },
  {
   "cell_type": "markdown",
   "id": "9b541ddd",
   "metadata": {},
   "source": [
    "### Atribút sex"
   ]
  },
  {
   "cell_type": "code",
   "execution_count": 50,
   "id": "8e3aba9b",
   "metadata": {},
   "outputs": [
    {
     "data": {
      "text/plain": [
       "Text(0.5, 1.0, 'Graf zobrazujúci rozdelenie pohlavia trénovacej sady')"
      ]
     },
     "execution_count": 50,
     "metadata": {},
     "output_type": "execute_result"
    },
    {
     "data": {
      "image/png": "[encoded data removed]",
      "text/plain": [
       "<Figure size 432x288 with 1 Axes>"
      ]
     },
     "metadata": {},
     "output_type": "display_data"
    }
   ],
   "source": [
    "data_train.sex.value_counts().plot.pie( autopct='%1.2f%%').set_title('Graf zobrazujúci rozdelenie pohlavia trénovacej sady')"
   ]
  },
  {
   "cell_type": "markdown",
   "id": "b65fbab5",
   "metadata": {},
   "source": [
    "### Atribút smoker"
   ]
  },
  {
   "cell_type": "code",
   "execution_count": 51,
   "id": "e991c63c",
   "metadata": {},
   "outputs": [
    {
     "data": {
      "text/plain": [
       "Text(0.5, 1.0, 'Graf zobrazujúci pomer nefajčiarov a fajčiarov trénovacej sady')"
      ]
     },
     "execution_count": 51,
     "metadata": {},
     "output_type": "execute_result"
    },
    {
     "data": {
      "image/png": "[encoded data removed]",
      "text/plain": [
       "<Figure size 432x288 with 1 Axes>"
      ]
     },
     "metadata": {},
     "output_type": "display_data"
    }
   ],
   "source": [
    "data_train.smoker.value_counts().plot.pie( autopct='%1.2f%%').set_title('Graf zobrazujúci pomer nefajčiarov a fajčiarov trénovacej sady')"
   ]
  },
  {
   "cell_type": "markdown",
   "id": "999ef056",
   "metadata": {},
   "source": [
    "### Atribút race"
   ]
  },
  {
   "cell_type": "code",
   "execution_count": 52,
   "id": "a563d210",
   "metadata": {},
   "outputs": [
    {
     "data": {
      "text/plain": [
       "Text(0.5, 1.0, 'Graf zobrazujúci pomer rasových skupín trénovacej sady')"
      ]
     },
     "execution_count": 52,
     "metadata": {},
     "output_type": "execute_result"
    },
    {
     "data": {
      "image/png": "[encoded data removed]",
      "text/plain": [
       "<Figure size 432x288 with 1 Axes>"
      ]
     },
     "metadata": {},
     "output_type": "display_data"
    }
   ],
   "source": [
    "data_train.race.value_counts().plot.pie( autopct='%1.2f%%').set_title('Graf zobrazujúci pomer rasových skupín trénovacej sady')"
   ]
  },
  {
   "cell_type": "markdown",
   "id": "30b94c2a",
   "metadata": {},
   "source": [
    "### Atribút relationship"
   ]
  },
  {
   "cell_type": "code",
   "execution_count": 53,
   "id": "b4eaa741",
   "metadata": {
    "scrolled": true
   },
   "outputs": [
    {
     "data": {
      "text/plain": [
       "Text(0.5, 1.0, 'Graf zobrazujúci pomer vzťahov trénovacej sady')"
      ]
     },
     "execution_count": 53,
     "metadata": {},
     "output_type": "execute_result"
    },
    {
     "data": {
      "image/png": "[encoded data removed]",
      "text/plain": [
       "<Figure size 432x288 with 1 Axes>"
      ]
     },
     "metadata": {},
     "output_type": "display_data"
    }
   ],
   "source": [
    "data_train.relationship.value_counts().plot.pie( autopct='%1.2f%%').set_title('Graf zobrazujúci pomer vzťahov trénovacej sady')"
   ]
  },
  {
   "cell_type": "markdown",
   "id": "9191c92d",
   "metadata": {},
   "source": [
    "## Koniec  encodingu"
   ]
  },
  {
   "cell_type": "markdown",
   "id": "99314481",
   "metadata": {},
   "source": [
    "Encoding nám umožnil transformovať nenumerické dáta na numerické teda na typ dát, ktorý je použiteľný pre strojové učenie"
   ]
  },
  {
   "cell_type": "code",
   "execution_count": 54,
   "id": "9cf084be",
   "metadata": {},
   "outputs": [
    {
     "name": "stdout",
     "output_type": "stream",
     "text": [
      "\n"
     ]
    }
   ],
   "source": [
    "data_train_with_i = data_train\n",
    "y_train = data_train['indicator']\n",
    "data_train = data_train.drop('indicator',1)\n",
    "print()"
   ]
  },
  {
   "cell_type": "markdown",
   "id": "ae49f94c",
   "metadata": {},
   "source": [
    "Rozdelenie datasetov na trénovaciu a testovaciu sadu v pomere 33% je veľkosť testovacej sady a 67% je veľkosť trénovacej sady."
   ]
  },
  {
   "cell_type": "code",
   "execution_count": 55,
   "id": "8e09bdde",
   "metadata": {},
   "outputs": [
    {
     "data": {
      "text/html": [
       "<div>\n",
       "<style scoped>\n",
       "    .dataframe tbody tr th:only-of-type {\n",
       "        vertical-align: middle;\n",
       "    }\n",
       "\n",
       "    .dataframe tbody tr th {\n",
       "        vertical-align: top;\n",
       "    }\n",
       "\n",
       "    .dataframe thead th {\n",
       "        text-align: right;\n",
       "    }\n",
       "</style>\n",
       "<table border=\"1\" class=\"dataframe\">\n",
       "  <thead>\n",
       "    <tr style=\"text-align: right;\">\n",
       "      <th></th>\n",
       "      <th>age</th>\n",
       "      <th>leukocyty</th>\n",
       "      <th>weight</th>\n",
       "      <th>hbver</th>\n",
       "      <th>er-cv</th>\n",
       "      <th>ast</th>\n",
       "      <th>indicator</th>\n",
       "      <th>hematokrit</th>\n",
       "      <th>trombocyty</th>\n",
       "      <th>alt</th>\n",
       "      <th>etytr</th>\n",
       "      <th>erytrocyty</th>\n",
       "      <th>hemoglobin</th>\n",
       "      <th>alp</th>\n",
       "    </tr>\n",
       "  </thead>\n",
       "  <tbody>\n",
       "    <tr>\n",
       "      <th>count</th>\n",
       "      <td>3270.000000</td>\n",
       "      <td>3270.000000</td>\n",
       "      <td>3270.000000</td>\n",
       "      <td>3270.000000</td>\n",
       "      <td>3270.000000</td>\n",
       "      <td>3270.000000</td>\n",
       "      <td>3270.000000</td>\n",
       "      <td>3270.000000</td>\n",
       "      <td>3270.000000</td>\n",
       "      <td>3270.000000</td>\n",
       "      <td>3270.000000</td>\n",
       "      <td>3270.000000</td>\n",
       "      <td>3270.000000</td>\n",
       "      <td>3270.000000</td>\n",
       "    </tr>\n",
       "    <tr>\n",
       "      <th>mean</th>\n",
       "      <td>58.692661</td>\n",
       "      <td>6.806497</td>\n",
       "      <td>70.544271</td>\n",
       "      <td>6.782760</td>\n",
       "      <td>48.103623</td>\n",
       "      <td>49.126323</td>\n",
       "      <td>0.649235</td>\n",
       "      <td>6.396506</td>\n",
       "      <td>6.425671</td>\n",
       "      <td>8.465333</td>\n",
       "      <td>6.011415</td>\n",
       "      <td>6.803910</td>\n",
       "      <td>6.792051</td>\n",
       "      <td>68.602695</td>\n",
       "    </tr>\n",
       "    <tr>\n",
       "      <th>std</th>\n",
       "      <td>33.379746</td>\n",
       "      <td>1.523610</td>\n",
       "      <td>33.392840</td>\n",
       "      <td>0.963766</td>\n",
       "      <td>13.599436</td>\n",
       "      <td>12.214892</td>\n",
       "      <td>0.477282</td>\n",
       "      <td>1.612702</td>\n",
       "      <td>1.685633</td>\n",
       "      <td>3.873955</td>\n",
       "      <td>1.339131</td>\n",
       "      <td>0.948290</td>\n",
       "      <td>0.987371</td>\n",
       "      <td>19.047353</td>\n",
       "    </tr>\n",
       "    <tr>\n",
       "      <th>min</th>\n",
       "      <td>0.000000</td>\n",
       "      <td>2.106530</td>\n",
       "      <td>0.117690</td>\n",
       "      <td>4.122870</td>\n",
       "      <td>10.546900</td>\n",
       "      <td>14.778780</td>\n",
       "      <td>0.000000</td>\n",
       "      <td>1.743210</td>\n",
       "      <td>1.586720</td>\n",
       "      <td>3.712878</td>\n",
       "      <td>3.823988</td>\n",
       "      <td>4.148860</td>\n",
       "      <td>4.079350</td>\n",
       "      <td>24.037958</td>\n",
       "    </tr>\n",
       "    <tr>\n",
       "      <th>25%</th>\n",
       "      <td>30.000000</td>\n",
       "      <td>5.630587</td>\n",
       "      <td>47.079380</td>\n",
       "      <td>6.091760</td>\n",
       "      <td>38.891328</td>\n",
       "      <td>40.766433</td>\n",
       "      <td>0.000000</td>\n",
       "      <td>5.178525</td>\n",
       "      <td>5.209060</td>\n",
       "      <td>5.714945</td>\n",
       "      <td>5.057202</td>\n",
       "      <td>6.150093</td>\n",
       "      <td>6.098047</td>\n",
       "      <td>57.582488</td>\n",
       "    </tr>\n",
       "    <tr>\n",
       "      <th>50%</th>\n",
       "      <td>59.000000</td>\n",
       "      <td>7.007315</td>\n",
       "      <td>69.319460</td>\n",
       "      <td>6.783560</td>\n",
       "      <td>48.332310</td>\n",
       "      <td>49.149685</td>\n",
       "      <td>1.000000</td>\n",
       "      <td>6.343855</td>\n",
       "      <td>6.343380</td>\n",
       "      <td>7.543570</td>\n",
       "      <td>5.898980</td>\n",
       "      <td>6.805395</td>\n",
       "      <td>6.785680</td>\n",
       "      <td>75.290755</td>\n",
       "    </tr>\n",
       "    <tr>\n",
       "      <th>75%</th>\n",
       "      <td>88.000000</td>\n",
       "      <td>8.014568</td>\n",
       "      <td>93.751593</td>\n",
       "      <td>7.439317</td>\n",
       "      <td>57.391967</td>\n",
       "      <td>57.662440</td>\n",
       "      <td>1.000000</td>\n",
       "      <td>7.621975</td>\n",
       "      <td>7.610795</td>\n",
       "      <td>10.092208</td>\n",
       "      <td>6.821563</td>\n",
       "      <td>7.456575</td>\n",
       "      <td>7.483672</td>\n",
       "      <td>83.560155</td>\n",
       "    </tr>\n",
       "    <tr>\n",
       "      <th>max</th>\n",
       "      <td>116.000000</td>\n",
       "      <td>10.690800</td>\n",
       "      <td>161.777350</td>\n",
       "      <td>9.454670</td>\n",
       "      <td>86.306530</td>\n",
       "      <td>83.920060</td>\n",
       "      <td>1.000000</td>\n",
       "      <td>10.841750</td>\n",
       "      <td>11.256180</td>\n",
       "      <td>18.926994</td>\n",
       "      <td>8.874401</td>\n",
       "      <td>9.493170</td>\n",
       "      <td>9.435580</td>\n",
       "      <td>89.688798</td>\n",
       "    </tr>\n",
       "  </tbody>\n",
       "</table>\n",
       "</div>"
      ],
      "text/plain": [
       "               age    leukocyty       weight        hbver        er-cv  \\\n",
       "count  3270.000000  3270.000000  3270.000000  3270.000000  3270.000000   \n",
       "mean     58.692661     6.806497    70.544271     6.782760    48.103623   \n",
       "std      33.379746     1.523610    33.392840     0.963766    13.599436   \n",
       "min       0.000000     2.106530     0.117690     4.122870    10.546900   \n",
       "25%      30.000000     5.630587    47.079380     6.091760    38.891328   \n",
       "50%      59.000000     7.007315    69.319460     6.783560    48.332310   \n",
       "75%      88.000000     8.014568    93.751593     7.439317    57.391967   \n",
       "max     116.000000    10.690800   161.777350     9.454670    86.306530   \n",
       "\n",
       "               ast    indicator   hematokrit   trombocyty          alt  \\\n",
       "count  3270.000000  3270.000000  3270.000000  3270.000000  3270.000000   \n",
       "mean     49.126323     0.649235     6.396506     6.425671     8.465333   \n",
       "std      12.214892     0.477282     1.612702     1.685633     3.873955   \n",
       "min      14.778780     0.000000     1.743210     1.586720     3.712878   \n",
       "25%      40.766433     0.000000     5.178525     5.209060     5.714945   \n",
       "50%      49.149685     1.000000     6.343855     6.343380     7.543570   \n",
       "75%      57.662440     1.000000     7.621975     7.610795    10.092208   \n",
       "max      83.920060     1.000000    10.841750    11.256180    18.926994   \n",
       "\n",
       "             etytr   erytrocyty   hemoglobin          alp  \n",
       "count  3270.000000  3270.000000  3270.000000  3270.000000  \n",
       "mean      6.011415     6.803910     6.792051    68.602695  \n",
       "std       1.339131     0.948290     0.987371    19.047353  \n",
       "min       3.823988     4.148860     4.079350    24.037958  \n",
       "25%       5.057202     6.150093     6.098047    57.582488  \n",
       "50%       5.898980     6.805395     6.785680    75.290755  \n",
       "75%       6.821563     7.456575     7.483672    83.560155  \n",
       "max       8.874401     9.493170     9.435580    89.688798  "
      ]
     },
     "execution_count": 55,
     "metadata": {},
     "output_type": "execute_result"
    }
   ],
   "source": [
    "data_test.describe()"
   ]
  },
  {
   "cell_type": "code",
   "execution_count": 56,
   "id": "7eaf221e",
   "metadata": {},
   "outputs": [
    {
     "data": {
      "text/html": [
       "<div>\n",
       "<style scoped>\n",
       "    .dataframe tbody tr th:only-of-type {\n",
       "        vertical-align: middle;\n",
       "    }\n",
       "\n",
       "    .dataframe tbody tr th {\n",
       "        vertical-align: top;\n",
       "    }\n",
       "\n",
       "    .dataframe thead th {\n",
       "        text-align: right;\n",
       "    }\n",
       "</style>\n",
       "<table border=\"1\" class=\"dataframe\">\n",
       "  <thead>\n",
       "    <tr style=\"text-align: right;\">\n",
       "      <th></th>\n",
       "      <th>sex</th>\n",
       "      <th>blood_group</th>\n",
       "      <th>race</th>\n",
       "      <th>age</th>\n",
       "      <th>leukocyty</th>\n",
       "      <th>weight</th>\n",
       "      <th>hbver</th>\n",
       "      <th>er-cv</th>\n",
       "      <th>ast</th>\n",
       "      <th>indicator</th>\n",
       "      <th>hematokrit</th>\n",
       "      <th>trombocyty</th>\n",
       "      <th>smoker</th>\n",
       "      <th>alt</th>\n",
       "      <th>etytr</th>\n",
       "      <th>erytrocyty</th>\n",
       "      <th>hemoglobin</th>\n",
       "      <th>alp</th>\n",
       "      <th>relationship</th>\n",
       "    </tr>\n",
       "  </thead>\n",
       "  <tbody>\n",
       "    <tr>\n",
       "      <th>count</th>\n",
       "      <td>6638.000000</td>\n",
       "      <td>6638.000000</td>\n",
       "      <td>6638.00000</td>\n",
       "      <td>6638.000000</td>\n",
       "      <td>6638.000000</td>\n",
       "      <td>6638.000000</td>\n",
       "      <td>6638.000000</td>\n",
       "      <td>6638.000000</td>\n",
       "      <td>6638.000000</td>\n",
       "      <td>6638.000000</td>\n",
       "      <td>6638.000000</td>\n",
       "      <td>6638.000000</td>\n",
       "      <td>6638.000000</td>\n",
       "      <td>6638.000000</td>\n",
       "      <td>6638.000000</td>\n",
       "      <td>6638.000000</td>\n",
       "      <td>6638.000000</td>\n",
       "      <td>6638.000000</td>\n",
       "      <td>6638.00000</td>\n",
       "    </tr>\n",
       "    <tr>\n",
       "      <th>mean</th>\n",
       "      <td>0.484634</td>\n",
       "      <td>3.507382</td>\n",
       "      <td>2.62790</td>\n",
       "      <td>57.651853</td>\n",
       "      <td>6.787566</td>\n",
       "      <td>70.135469</td>\n",
       "      <td>6.796863</td>\n",
       "      <td>48.505651</td>\n",
       "      <td>49.410583</td>\n",
       "      <td>0.643417</td>\n",
       "      <td>6.359776</td>\n",
       "      <td>6.424566</td>\n",
       "      <td>0.403284</td>\n",
       "      <td>8.593869</td>\n",
       "      <td>6.022931</td>\n",
       "      <td>6.804285</td>\n",
       "      <td>6.795108</td>\n",
       "      <td>68.978161</td>\n",
       "      <td>2.07201</td>\n",
       "    </tr>\n",
       "    <tr>\n",
       "      <th>std</th>\n",
       "      <td>0.499801</td>\n",
       "      <td>2.308807</td>\n",
       "      <td>1.57208</td>\n",
       "      <td>33.158670</td>\n",
       "      <td>1.520285</td>\n",
       "      <td>32.898276</td>\n",
       "      <td>0.967707</td>\n",
       "      <td>13.742355</td>\n",
       "      <td>12.396104</td>\n",
       "      <td>0.479026</td>\n",
       "      <td>1.574346</td>\n",
       "      <td>1.712106</td>\n",
       "      <td>0.490594</td>\n",
       "      <td>3.972208</td>\n",
       "      <td>1.353564</td>\n",
       "      <td>0.980207</td>\n",
       "      <td>0.980819</td>\n",
       "      <td>19.057932</td>\n",
       "      <td>1.74637</td>\n",
       "    </tr>\n",
       "    <tr>\n",
       "      <th>min</th>\n",
       "      <td>0.000000</td>\n",
       "      <td>0.000000</td>\n",
       "      <td>0.00000</td>\n",
       "      <td>0.000000</td>\n",
       "      <td>2.115950</td>\n",
       "      <td>0.062440</td>\n",
       "      <td>4.091680</td>\n",
       "      <td>10.444020</td>\n",
       "      <td>14.749830</td>\n",
       "      <td>0.000000</td>\n",
       "      <td>1.635650</td>\n",
       "      <td>1.667580</td>\n",
       "      <td>0.000000</td>\n",
       "      <td>3.712878</td>\n",
       "      <td>3.823988</td>\n",
       "      <td>4.104700</td>\n",
       "      <td>4.096550</td>\n",
       "      <td>24.037958</td>\n",
       "      <td>0.00000</td>\n",
       "    </tr>\n",
       "    <tr>\n",
       "      <th>25%</th>\n",
       "      <td>0.000000</td>\n",
       "      <td>1.000000</td>\n",
       "      <td>1.00000</td>\n",
       "      <td>29.000000</td>\n",
       "      <td>5.613283</td>\n",
       "      <td>47.174645</td>\n",
       "      <td>6.144275</td>\n",
       "      <td>39.182688</td>\n",
       "      <td>40.753957</td>\n",
       "      <td>0.000000</td>\n",
       "      <td>5.177815</td>\n",
       "      <td>5.191125</td>\n",
       "      <td>0.000000</td>\n",
       "      <td>5.735012</td>\n",
       "      <td>5.042375</td>\n",
       "      <td>6.136497</td>\n",
       "      <td>6.122485</td>\n",
       "      <td>58.505063</td>\n",
       "      <td>1.00000</td>\n",
       "    </tr>\n",
       "    <tr>\n",
       "      <th>50%</th>\n",
       "      <td>0.000000</td>\n",
       "      <td>4.000000</td>\n",
       "      <td>4.00000</td>\n",
       "      <td>57.000000</td>\n",
       "      <td>6.983955</td>\n",
       "      <td>69.319460</td>\n",
       "      <td>6.785165</td>\n",
       "      <td>48.315950</td>\n",
       "      <td>49.336300</td>\n",
       "      <td>1.000000</td>\n",
       "      <td>6.309455</td>\n",
       "      <td>6.332960</td>\n",
       "      <td>0.000000</td>\n",
       "      <td>7.537690</td>\n",
       "      <td>5.852230</td>\n",
       "      <td>6.807040</td>\n",
       "      <td>6.784535</td>\n",
       "      <td>75.654720</td>\n",
       "      <td>1.50000</td>\n",
       "    </tr>\n",
       "    <tr>\n",
       "      <th>75%</th>\n",
       "      <td>1.000000</td>\n",
       "      <td>6.000000</td>\n",
       "      <td>4.00000</td>\n",
       "      <td>87.000000</td>\n",
       "      <td>8.014200</td>\n",
       "      <td>92.805472</td>\n",
       "      <td>7.463667</td>\n",
       "      <td>58.032430</td>\n",
       "      <td>57.854237</td>\n",
       "      <td>1.000000</td>\n",
       "      <td>7.564443</td>\n",
       "      <td>7.638848</td>\n",
       "      <td>1.000000</td>\n",
       "      <td>10.298832</td>\n",
       "      <td>6.862275</td>\n",
       "      <td>7.485087</td>\n",
       "      <td>7.451925</td>\n",
       "      <td>83.800935</td>\n",
       "      <td>4.00000</td>\n",
       "    </tr>\n",
       "    <tr>\n",
       "      <th>max</th>\n",
       "      <td>1.000000</td>\n",
       "      <td>7.000000</td>\n",
       "      <td>4.00000</td>\n",
       "      <td>116.000000</td>\n",
       "      <td>10.423140</td>\n",
       "      <td>162.347770</td>\n",
       "      <td>9.466650</td>\n",
       "      <td>86.434280</td>\n",
       "      <td>83.873210</td>\n",
       "      <td>1.000000</td>\n",
       "      <td>11.187870</td>\n",
       "      <td>11.278320</td>\n",
       "      <td>1.000000</td>\n",
       "      <td>18.926994</td>\n",
       "      <td>8.874401</td>\n",
       "      <td>9.483150</td>\n",
       "      <td>9.473200</td>\n",
       "      <td>89.688798</td>\n",
       "      <td>5.00000</td>\n",
       "    </tr>\n",
       "  </tbody>\n",
       "</table>\n",
       "</div>"
      ],
      "text/plain": [
       "               sex  blood_group        race          age    leukocyty  \\\n",
       "count  6638.000000  6638.000000  6638.00000  6638.000000  6638.000000   \n",
       "mean      0.484634     3.507382     2.62790    57.651853     6.787566   \n",
       "std       0.499801     2.308807     1.57208    33.158670     1.520285   \n",
       "min       0.000000     0.000000     0.00000     0.000000     2.115950   \n",
       "25%       0.000000     1.000000     1.00000    29.000000     5.613283   \n",
       "50%       0.000000     4.000000     4.00000    57.000000     6.983955   \n",
       "75%       1.000000     6.000000     4.00000    87.000000     8.014200   \n",
       "max       1.000000     7.000000     4.00000   116.000000    10.423140   \n",
       "\n",
       "            weight        hbver        er-cv          ast    indicator  \\\n",
       "count  6638.000000  6638.000000  6638.000000  6638.000000  6638.000000   \n",
       "mean     70.135469     6.796863    48.505651    49.410583     0.643417   \n",
       "std      32.898276     0.967707    13.742355    12.396104     0.479026   \n",
       "min       0.062440     4.091680    10.444020    14.749830     0.000000   \n",
       "25%      47.174645     6.144275    39.182688    40.753957     0.000000   \n",
       "50%      69.319460     6.785165    48.315950    49.336300     1.000000   \n",
       "75%      92.805472     7.463667    58.032430    57.854237     1.000000   \n",
       "max     162.347770     9.466650    86.434280    83.873210     1.000000   \n",
       "\n",
       "        hematokrit   trombocyty       smoker          alt        etytr  \\\n",
       "count  6638.000000  6638.000000  6638.000000  6638.000000  6638.000000   \n",
       "mean      6.359776     6.424566     0.403284     8.593869     6.022931   \n",
       "std       1.574346     1.712106     0.490594     3.972208     1.353564   \n",
       "min       1.635650     1.667580     0.000000     3.712878     3.823988   \n",
       "25%       5.177815     5.191125     0.000000     5.735012     5.042375   \n",
       "50%       6.309455     6.332960     0.000000     7.537690     5.852230   \n",
       "75%       7.564443     7.638848     1.000000    10.298832     6.862275   \n",
       "max      11.187870    11.278320     1.000000    18.926994     8.874401   \n",
       "\n",
       "        erytrocyty   hemoglobin          alp  relationship  \n",
       "count  6638.000000  6638.000000  6638.000000    6638.00000  \n",
       "mean      6.804285     6.795108    68.978161       2.07201  \n",
       "std       0.980207     0.980819    19.057932       1.74637  \n",
       "min       4.104700     4.096550    24.037958       0.00000  \n",
       "25%       6.136497     6.122485    58.505063       1.00000  \n",
       "50%       6.807040     6.784535    75.654720       1.50000  \n",
       "75%       7.485087     7.451925    83.800935       4.00000  \n",
       "max       9.483150     9.473200    89.688798       5.00000  "
      ]
     },
     "execution_count": 56,
     "metadata": {},
     "output_type": "execute_result"
    }
   ],
   "source": [
    "data_train_with_i.describe()"
   ]
  },
  {
   "cell_type": "markdown",
   "id": "821c3fe3",
   "metadata": {},
   "source": [
    "Oba datasety po rozdelení obsahujú dáta s takmer rovnakými charakteristikami vynímajúc odstránené atribúty z trénovacej sady a encoding kategorických hodnôť v trénovacej sade. Trénovací dataset obsahuje 6638 záznamov a testovací dataset obsahuje 3270 záznamov."
   ]
  },
  {
   "cell_type": "markdown",
   "id": "4df91e0b",
   "metadata": {},
   "source": [
    "**Škálovanie dát**"
   ]
  },
  {
   "cell_type": "markdown",
   "id": "726d2c2d",
   "metadata": {},
   "source": [
    "Škálovanie atribútov je metóda na obmedzenie rozsahu daných atribútov, aby sa dali lepšie vzájomne porovnávať. Pretože ak majú atribúty rôzne rozsahy môžu nastať pri klasifikácií modelom nasledujúce problémy:\n",
    "\n",
    "    1. nestabilný alebo slabý výkon modelu\n",
    "    2. zvýšená citlivosť na vstupy\n",
    "    3. vyššia chyba zovšeobecnenia\n",
    "\n",
    "Ako sme vidieli pri data_train.describe() rosahy jednotlivých atribútov sú relatívne rôznorodé. Preto sa rozhodneme dané dáta preškálovať. Definujeme si jednoduchú funkciu na škálovanie :"
   ]
  },
  {
   "cell_type": "code",
   "execution_count": 59,
   "id": "a149be4e",
   "metadata": {},
   "outputs": [],
   "source": [
    "def data_scaler(dataset, atributes):\n",
    "    scaler =  StandardScaler()\n",
    "    dataset[atributes] = scaler.fit_transform(dataset[atributes])\n",
    "    return dataset"
   ]
  },
  {
   "cell_type": "code",
   "execution_count": 60,
   "id": "172c405a",
   "metadata": {},
   "outputs": [],
   "source": [
    "data_train = data_scaler(data_train, ['age','leukocyty','weight','hbver','er-cv','ast','hematokrit','trombocyty','alt','etytr','erytrocyty','hemoglobin','alp'])"
   ]
  },
  {
   "cell_type": "markdown",
   "id": "a0c1114f",
   "metadata": {},
   "source": [
    "Preškálujeme spojité atribúty datasetu: age, leukocyty, weight, hbver, er-cv, ast, hematokrit, trombocyty, alt, etytr, erytrocyty, hemoglobin, alp"
   ]
  },
  {
   "cell_type": "code",
   "execution_count": 61,
   "id": "2de27070",
   "metadata": {},
   "outputs": [
    {
     "data": {
      "text/html": [
       "<div>\n",
       "<style scoped>\n",
       "    .dataframe tbody tr th:only-of-type {\n",
       "        vertical-align: middle;\n",
       "    }\n",
       "\n",
       "    .dataframe tbody tr th {\n",
       "        vertical-align: top;\n",
       "    }\n",
       "\n",
       "    .dataframe thead th {\n",
       "        text-align: right;\n",
       "    }\n",
       "</style>\n",
       "<table border=\"1\" class=\"dataframe\">\n",
       "  <thead>\n",
       "    <tr style=\"text-align: right;\">\n",
       "      <th></th>\n",
       "      <th>sex</th>\n",
       "      <th>blood_group</th>\n",
       "      <th>race</th>\n",
       "      <th>age</th>\n",
       "      <th>leukocyty</th>\n",
       "      <th>weight</th>\n",
       "      <th>hbver</th>\n",
       "      <th>er-cv</th>\n",
       "      <th>ast</th>\n",
       "      <th>hematokrit</th>\n",
       "      <th>trombocyty</th>\n",
       "      <th>smoker</th>\n",
       "      <th>alt</th>\n",
       "      <th>etytr</th>\n",
       "      <th>erytrocyty</th>\n",
       "      <th>hemoglobin</th>\n",
       "      <th>alp</th>\n",
       "      <th>relationship</th>\n",
       "    </tr>\n",
       "  </thead>\n",
       "  <tbody>\n",
       "    <tr>\n",
       "      <th>count</th>\n",
       "      <td>6638.000000</td>\n",
       "      <td>6638.000000</td>\n",
       "      <td>6638.00000</td>\n",
       "      <td>6.638000e+03</td>\n",
       "      <td>6.638000e+03</td>\n",
       "      <td>6.638000e+03</td>\n",
       "      <td>6.638000e+03</td>\n",
       "      <td>6.638000e+03</td>\n",
       "      <td>6.638000e+03</td>\n",
       "      <td>6.638000e+03</td>\n",
       "      <td>6.638000e+03</td>\n",
       "      <td>6638.000000</td>\n",
       "      <td>6.638000e+03</td>\n",
       "      <td>6.638000e+03</td>\n",
       "      <td>6.638000e+03</td>\n",
       "      <td>6.638000e+03</td>\n",
       "      <td>6.638000e+03</td>\n",
       "      <td>6638.00000</td>\n",
       "    </tr>\n",
       "    <tr>\n",
       "      <th>mean</th>\n",
       "      <td>0.484634</td>\n",
       "      <td>3.507382</td>\n",
       "      <td>2.62790</td>\n",
       "      <td>2.354917e-17</td>\n",
       "      <td>2.890126e-17</td>\n",
       "      <td>-2.100693e-17</td>\n",
       "      <td>1.016896e-17</td>\n",
       "      <td>-9.098544e-18</td>\n",
       "      <td>-3.398574e-17</td>\n",
       "      <td>-1.391542e-17</td>\n",
       "      <td>-8.563335e-18</td>\n",
       "      <td>0.403284</td>\n",
       "      <td>-1.391542e-17</td>\n",
       "      <td>3.211251e-18</td>\n",
       "      <td>-4.816876e-18</td>\n",
       "      <td>3.746459e-18</td>\n",
       "      <td>-7.492918e-18</td>\n",
       "      <td>2.07201</td>\n",
       "    </tr>\n",
       "    <tr>\n",
       "      <th>std</th>\n",
       "      <td>0.499801</td>\n",
       "      <td>2.308807</td>\n",
       "      <td>1.57208</td>\n",
       "      <td>1.000075e+00</td>\n",
       "      <td>1.000075e+00</td>\n",
       "      <td>1.000075e+00</td>\n",
       "      <td>1.000075e+00</td>\n",
       "      <td>1.000075e+00</td>\n",
       "      <td>1.000075e+00</td>\n",
       "      <td>1.000075e+00</td>\n",
       "      <td>1.000075e+00</td>\n",
       "      <td>0.490594</td>\n",
       "      <td>1.000075e+00</td>\n",
       "      <td>1.000075e+00</td>\n",
       "      <td>1.000075e+00</td>\n",
       "      <td>1.000075e+00</td>\n",
       "      <td>1.000075e+00</td>\n",
       "      <td>1.74637</td>\n",
       "    </tr>\n",
       "    <tr>\n",
       "      <th>min</th>\n",
       "      <td>0.000000</td>\n",
       "      <td>0.000000</td>\n",
       "      <td>0.00000</td>\n",
       "      <td>-1.738797e+00</td>\n",
       "      <td>-3.073087e+00</td>\n",
       "      <td>-2.130151e+00</td>\n",
       "      <td>-2.795667e+00</td>\n",
       "      <td>-2.769867e+00</td>\n",
       "      <td>-2.796311e+00</td>\n",
       "      <td>-3.000918e+00</td>\n",
       "      <td>-2.778650e+00</td>\n",
       "      <td>0.000000</td>\n",
       "      <td>-1.228878e+00</td>\n",
       "      <td>-1.624680e+00</td>\n",
       "      <td>-2.754303e+00</td>\n",
       "      <td>-2.751539e+00</td>\n",
       "      <td>-2.358262e+00</td>\n",
       "      <td>0.00000</td>\n",
       "    </tr>\n",
       "    <tr>\n",
       "      <th>25%</th>\n",
       "      <td>0.000000</td>\n",
       "      <td>1.000000</td>\n",
       "      <td>1.00000</td>\n",
       "      <td>-8.641484e-01</td>\n",
       "      <td>-7.724684e-01</td>\n",
       "      <td>-6.979865e-01</td>\n",
       "      <td>-6.744161e-01</td>\n",
       "      <td>-6.784621e-01</td>\n",
       "      <td>-6.983870e-01</td>\n",
       "      <td>-7.508196e-01</td>\n",
       "      <td>-7.204775e-01</td>\n",
       "      <td>0.000000</td>\n",
       "      <td>-7.197690e-01</td>\n",
       "      <td>-7.244798e-01</td>\n",
       "      <td>-6.813231e-01</td>\n",
       "      <td>-6.858286e-01</td>\n",
       "      <td>-5.495815e-01</td>\n",
       "      <td>1.00000</td>\n",
       "    </tr>\n",
       "    <tr>\n",
       "      <th>50%</th>\n",
       "      <td>0.000000</td>\n",
       "      <td>4.000000</td>\n",
       "      <td>4.00000</td>\n",
       "      <td>-1.966008e-02</td>\n",
       "      <td>1.291886e-01</td>\n",
       "      <td>-2.480588e-02</td>\n",
       "      <td>-1.208931e-02</td>\n",
       "      <td>-1.380518e-02</td>\n",
       "      <td>-5.992877e-03</td>\n",
       "      <td>-3.196523e-02</td>\n",
       "      <td>-5.350893e-02</td>\n",
       "      <td>0.000000</td>\n",
       "      <td>-2.659123e-01</td>\n",
       "      <td>-1.261215e-01</td>\n",
       "      <td>2.810741e-03</td>\n",
       "      <td>-1.078061e-02</td>\n",
       "      <td>3.503561e-01</td>\n",
       "      <td>1.50000</td>\n",
       "    </tr>\n",
       "    <tr>\n",
       "      <th>75%</th>\n",
       "      <td>1.000000</td>\n",
       "      <td>6.000000</td>\n",
       "      <td>4.00000</td>\n",
       "      <td>8.851488e-01</td>\n",
       "      <td>8.069053e-01</td>\n",
       "      <td>6.891459e-01</td>\n",
       "      <td>6.891081e-01</td>\n",
       "      <td>6.932943e-01</td>\n",
       "      <td>6.812052e-01</td>\n",
       "      <td>7.652435e-01</td>\n",
       "      <td>7.092860e-01</td>\n",
       "      <td>1.000000</td>\n",
       "      <td>4.292553e-01</td>\n",
       "      <td>6.201465e-01</td>\n",
       "      <td>6.946017e-01</td>\n",
       "      <td>6.697122e-01</td>\n",
       "      <td>7.778331e-01</td>\n",
       "      <td>4.00000</td>\n",
       "    </tr>\n",
       "    <tr>\n",
       "      <th>max</th>\n",
       "      <td>1.000000</td>\n",
       "      <td>7.000000</td>\n",
       "      <td>4.00000</td>\n",
       "      <td>1.759797e+00</td>\n",
       "      <td>2.391556e+00</td>\n",
       "      <td>2.803164e+00</td>\n",
       "      <td>2.759087e+00</td>\n",
       "      <td>2.760188e+00</td>\n",
       "      <td>2.780327e+00</td>\n",
       "      <td>3.066962e+00</td>\n",
       "      <td>2.835174e+00</td>\n",
       "      <td>1.000000</td>\n",
       "      <td>2.601551e+00</td>\n",
       "      <td>2.106798e+00</td>\n",
       "      <td>2.733163e+00</td>\n",
       "      <td>2.730671e+00</td>\n",
       "      <td>1.086802e+00</td>\n",
       "      <td>5.00000</td>\n",
       "    </tr>\n",
       "  </tbody>\n",
       "</table>\n",
       "</div>"
      ],
      "text/plain": [
       "               sex  blood_group        race           age     leukocyty  \\\n",
       "count  6638.000000  6638.000000  6638.00000  6.638000e+03  6.638000e+03   \n",
       "mean      0.484634     3.507382     2.62790  2.354917e-17  2.890126e-17   \n",
       "std       0.499801     2.308807     1.57208  1.000075e+00  1.000075e+00   \n",
       "min       0.000000     0.000000     0.00000 -1.738797e+00 -3.073087e+00   \n",
       "25%       0.000000     1.000000     1.00000 -8.641484e-01 -7.724684e-01   \n",
       "50%       0.000000     4.000000     4.00000 -1.966008e-02  1.291886e-01   \n",
       "75%       1.000000     6.000000     4.00000  8.851488e-01  8.069053e-01   \n",
       "max       1.000000     7.000000     4.00000  1.759797e+00  2.391556e+00   \n",
       "\n",
       "             weight         hbver         er-cv           ast    hematokrit  \\\n",
       "count  6.638000e+03  6.638000e+03  6.638000e+03  6.638000e+03  6.638000e+03   \n",
       "mean  -2.100693e-17  1.016896e-17 -9.098544e-18 -3.398574e-17 -1.391542e-17   \n",
       "std    1.000075e+00  1.000075e+00  1.000075e+00  1.000075e+00  1.000075e+00   \n",
       "min   -2.130151e+00 -2.795667e+00 -2.769867e+00 -2.796311e+00 -3.000918e+00   \n",
       "25%   -6.979865e-01 -6.744161e-01 -6.784621e-01 -6.983870e-01 -7.508196e-01   \n",
       "50%   -2.480588e-02 -1.208931e-02 -1.380518e-02 -5.992877e-03 -3.196523e-02   \n",
       "75%    6.891459e-01  6.891081e-01  6.932943e-01  6.812052e-01  7.652435e-01   \n",
       "max    2.803164e+00  2.759087e+00  2.760188e+00  2.780327e+00  3.066962e+00   \n",
       "\n",
       "         trombocyty       smoker           alt         etytr    erytrocyty  \\\n",
       "count  6.638000e+03  6638.000000  6.638000e+03  6.638000e+03  6.638000e+03   \n",
       "mean  -8.563335e-18     0.403284 -1.391542e-17  3.211251e-18 -4.816876e-18   \n",
       "std    1.000075e+00     0.490594  1.000075e+00  1.000075e+00  1.000075e+00   \n",
       "min   -2.778650e+00     0.000000 -1.228878e+00 -1.624680e+00 -2.754303e+00   \n",
       "25%   -7.204775e-01     0.000000 -7.197690e-01 -7.244798e-01 -6.813231e-01   \n",
       "50%   -5.350893e-02     0.000000 -2.659123e-01 -1.261215e-01  2.810741e-03   \n",
       "75%    7.092860e-01     1.000000  4.292553e-01  6.201465e-01  6.946017e-01   \n",
       "max    2.835174e+00     1.000000  2.601551e+00  2.106798e+00  2.733163e+00   \n",
       "\n",
       "         hemoglobin           alp  relationship  \n",
       "count  6.638000e+03  6.638000e+03    6638.00000  \n",
       "mean   3.746459e-18 -7.492918e-18       2.07201  \n",
       "std    1.000075e+00  1.000075e+00       1.74637  \n",
       "min   -2.751539e+00 -2.358262e+00       0.00000  \n",
       "25%   -6.858286e-01 -5.495815e-01       1.00000  \n",
       "50%   -1.078061e-02  3.503561e-01       1.50000  \n",
       "75%    6.697122e-01  7.778331e-01       4.00000  \n",
       "max    2.730671e+00  1.086802e+00       5.00000  "
      ]
     },
     "execution_count": 61,
     "metadata": {},
     "output_type": "execute_result"
    }
   ],
   "source": [
    "data_train.describe()"
   ]
  },
  {
   "cell_type": "code",
   "execution_count": 62,
   "id": "89f8795e",
   "metadata": {},
   "outputs": [
    {
     "data": {
      "text/html": [
       "<div>\n",
       "<style scoped>\n",
       "    .dataframe tbody tr th:only-of-type {\n",
       "        vertical-align: middle;\n",
       "    }\n",
       "\n",
       "    .dataframe tbody tr th {\n",
       "        vertical-align: top;\n",
       "    }\n",
       "\n",
       "    .dataframe thead th {\n",
       "        text-align: right;\n",
       "    }\n",
       "</style>\n",
       "<table border=\"1\" class=\"dataframe\">\n",
       "  <thead>\n",
       "    <tr style=\"text-align: right;\">\n",
       "      <th></th>\n",
       "      <th>sex</th>\n",
       "      <th>blood_group</th>\n",
       "      <th>race</th>\n",
       "      <th>age</th>\n",
       "      <th>leukocyty</th>\n",
       "      <th>weight</th>\n",
       "      <th>hbver</th>\n",
       "      <th>er-cv</th>\n",
       "      <th>ast</th>\n",
       "      <th>indicator</th>\n",
       "      <th>hematokrit</th>\n",
       "      <th>trombocyty</th>\n",
       "      <th>smoker</th>\n",
       "      <th>alt</th>\n",
       "      <th>etytr</th>\n",
       "      <th>erytrocyty</th>\n",
       "      <th>hemoglobin</th>\n",
       "      <th>alp</th>\n",
       "      <th>relationship</th>\n",
       "    </tr>\n",
       "  </thead>\n",
       "  <tbody>\n",
       "    <tr>\n",
       "      <th>count</th>\n",
       "      <td>3270.000000</td>\n",
       "      <td>3270.000000</td>\n",
       "      <td>3270.000000</td>\n",
       "      <td>3270.000000</td>\n",
       "      <td>3270.000000</td>\n",
       "      <td>3270.000000</td>\n",
       "      <td>3270.000000</td>\n",
       "      <td>3270.000000</td>\n",
       "      <td>3270.000000</td>\n",
       "      <td>3270.000000</td>\n",
       "      <td>3270.000000</td>\n",
       "      <td>3270.000000</td>\n",
       "      <td>3270.000000</td>\n",
       "      <td>3270.000000</td>\n",
       "      <td>3270.000000</td>\n",
       "      <td>3270.000000</td>\n",
       "      <td>3270.000000</td>\n",
       "      <td>3270.000000</td>\n",
       "      <td>3270.000000</td>\n",
       "    </tr>\n",
       "    <tr>\n",
       "      <th>mean</th>\n",
       "      <td>0.491131</td>\n",
       "      <td>3.518043</td>\n",
       "      <td>2.595413</td>\n",
       "      <td>58.692661</td>\n",
       "      <td>6.806497</td>\n",
       "      <td>70.544271</td>\n",
       "      <td>6.782760</td>\n",
       "      <td>48.103623</td>\n",
       "      <td>49.126323</td>\n",
       "      <td>0.649235</td>\n",
       "      <td>6.396506</td>\n",
       "      <td>6.425671</td>\n",
       "      <td>0.395719</td>\n",
       "      <td>8.465333</td>\n",
       "      <td>6.011415</td>\n",
       "      <td>6.803910</td>\n",
       "      <td>6.792051</td>\n",
       "      <td>68.602695</td>\n",
       "      <td>2.050459</td>\n",
       "    </tr>\n",
       "    <tr>\n",
       "      <th>std</th>\n",
       "      <td>0.499998</td>\n",
       "      <td>2.308193</td>\n",
       "      <td>1.583191</td>\n",
       "      <td>33.379746</td>\n",
       "      <td>1.523610</td>\n",
       "      <td>33.392840</td>\n",
       "      <td>0.963766</td>\n",
       "      <td>13.599436</td>\n",
       "      <td>12.214892</td>\n",
       "      <td>0.477282</td>\n",
       "      <td>1.612702</td>\n",
       "      <td>1.685633</td>\n",
       "      <td>0.489079</td>\n",
       "      <td>3.873955</td>\n",
       "      <td>1.339131</td>\n",
       "      <td>0.948290</td>\n",
       "      <td>0.987371</td>\n",
       "      <td>19.047353</td>\n",
       "      <td>1.727247</td>\n",
       "    </tr>\n",
       "    <tr>\n",
       "      <th>min</th>\n",
       "      <td>0.000000</td>\n",
       "      <td>0.000000</td>\n",
       "      <td>0.000000</td>\n",
       "      <td>0.000000</td>\n",
       "      <td>2.106530</td>\n",
       "      <td>0.117690</td>\n",
       "      <td>4.122870</td>\n",
       "      <td>10.546900</td>\n",
       "      <td>14.778780</td>\n",
       "      <td>0.000000</td>\n",
       "      <td>1.743210</td>\n",
       "      <td>1.586720</td>\n",
       "      <td>0.000000</td>\n",
       "      <td>3.712878</td>\n",
       "      <td>3.823988</td>\n",
       "      <td>4.148860</td>\n",
       "      <td>4.079350</td>\n",
       "      <td>24.037958</td>\n",
       "      <td>0.000000</td>\n",
       "    </tr>\n",
       "    <tr>\n",
       "      <th>25%</th>\n",
       "      <td>0.000000</td>\n",
       "      <td>2.000000</td>\n",
       "      <td>1.000000</td>\n",
       "      <td>30.000000</td>\n",
       "      <td>5.630587</td>\n",
       "      <td>47.079380</td>\n",
       "      <td>6.091760</td>\n",
       "      <td>38.891328</td>\n",
       "      <td>40.766433</td>\n",
       "      <td>0.000000</td>\n",
       "      <td>5.178525</td>\n",
       "      <td>5.209060</td>\n",
       "      <td>0.000000</td>\n",
       "      <td>5.714945</td>\n",
       "      <td>5.057202</td>\n",
       "      <td>6.150093</td>\n",
       "      <td>6.098047</td>\n",
       "      <td>57.582488</td>\n",
       "      <td>1.000000</td>\n",
       "    </tr>\n",
       "    <tr>\n",
       "      <th>50%</th>\n",
       "      <td>0.000000</td>\n",
       "      <td>4.000000</td>\n",
       "      <td>4.000000</td>\n",
       "      <td>59.000000</td>\n",
       "      <td>7.007315</td>\n",
       "      <td>69.319460</td>\n",
       "      <td>6.783560</td>\n",
       "      <td>48.332310</td>\n",
       "      <td>49.149685</td>\n",
       "      <td>1.000000</td>\n",
       "      <td>6.343855</td>\n",
       "      <td>6.343380</td>\n",
       "      <td>0.000000</td>\n",
       "      <td>7.543570</td>\n",
       "      <td>5.898980</td>\n",
       "      <td>6.805395</td>\n",
       "      <td>6.785680</td>\n",
       "      <td>75.290755</td>\n",
       "      <td>2.000000</td>\n",
       "    </tr>\n",
       "    <tr>\n",
       "      <th>75%</th>\n",
       "      <td>1.000000</td>\n",
       "      <td>6.000000</td>\n",
       "      <td>4.000000</td>\n",
       "      <td>88.000000</td>\n",
       "      <td>8.014568</td>\n",
       "      <td>93.751593</td>\n",
       "      <td>7.439317</td>\n",
       "      <td>57.391967</td>\n",
       "      <td>57.662440</td>\n",
       "      <td>1.000000</td>\n",
       "      <td>7.621975</td>\n",
       "      <td>7.610795</td>\n",
       "      <td>1.000000</td>\n",
       "      <td>10.092208</td>\n",
       "      <td>6.821563</td>\n",
       "      <td>7.456575</td>\n",
       "      <td>7.483672</td>\n",
       "      <td>83.560155</td>\n",
       "      <td>4.000000</td>\n",
       "    </tr>\n",
       "    <tr>\n",
       "      <th>max</th>\n",
       "      <td>1.000000</td>\n",
       "      <td>7.000000</td>\n",
       "      <td>4.000000</td>\n",
       "      <td>116.000000</td>\n",
       "      <td>10.690800</td>\n",
       "      <td>161.777350</td>\n",
       "      <td>9.454670</td>\n",
       "      <td>86.306530</td>\n",
       "      <td>83.920060</td>\n",
       "      <td>1.000000</td>\n",
       "      <td>10.841750</td>\n",
       "      <td>11.256180</td>\n",
       "      <td>1.000000</td>\n",
       "      <td>18.926994</td>\n",
       "      <td>8.874401</td>\n",
       "      <td>9.493170</td>\n",
       "      <td>9.435580</td>\n",
       "      <td>89.688798</td>\n",
       "      <td>5.000000</td>\n",
       "    </tr>\n",
       "  </tbody>\n",
       "</table>\n",
       "</div>"
      ],
      "text/plain": [
       "               sex  blood_group         race          age    leukocyty  \\\n",
       "count  3270.000000  3270.000000  3270.000000  3270.000000  3270.000000   \n",
       "mean      0.491131     3.518043     2.595413    58.692661     6.806497   \n",
       "std       0.499998     2.308193     1.583191    33.379746     1.523610   \n",
       "min       0.000000     0.000000     0.000000     0.000000     2.106530   \n",
       "25%       0.000000     2.000000     1.000000    30.000000     5.630587   \n",
       "50%       0.000000     4.000000     4.000000    59.000000     7.007315   \n",
       "75%       1.000000     6.000000     4.000000    88.000000     8.014568   \n",
       "max       1.000000     7.000000     4.000000   116.000000    10.690800   \n",
       "\n",
       "            weight        hbver        er-cv          ast    indicator  \\\n",
       "count  3270.000000  3270.000000  3270.000000  3270.000000  3270.000000   \n",
       "mean     70.544271     6.782760    48.103623    49.126323     0.649235   \n",
       "std      33.392840     0.963766    13.599436    12.214892     0.477282   \n",
       "min       0.117690     4.122870    10.546900    14.778780     0.000000   \n",
       "25%      47.079380     6.091760    38.891328    40.766433     0.000000   \n",
       "50%      69.319460     6.783560    48.332310    49.149685     1.000000   \n",
       "75%      93.751593     7.439317    57.391967    57.662440     1.000000   \n",
       "max     161.777350     9.454670    86.306530    83.920060     1.000000   \n",
       "\n",
       "        hematokrit   trombocyty       smoker          alt        etytr  \\\n",
       "count  3270.000000  3270.000000  3270.000000  3270.000000  3270.000000   \n",
       "mean      6.396506     6.425671     0.395719     8.465333     6.011415   \n",
       "std       1.612702     1.685633     0.489079     3.873955     1.339131   \n",
       "min       1.743210     1.586720     0.000000     3.712878     3.823988   \n",
       "25%       5.178525     5.209060     0.000000     5.714945     5.057202   \n",
       "50%       6.343855     6.343380     0.000000     7.543570     5.898980   \n",
       "75%       7.621975     7.610795     1.000000    10.092208     6.821563   \n",
       "max      10.841750    11.256180     1.000000    18.926994     8.874401   \n",
       "\n",
       "        erytrocyty   hemoglobin          alp  relationship  \n",
       "count  3270.000000  3270.000000  3270.000000   3270.000000  \n",
       "mean      6.803910     6.792051    68.602695      2.050459  \n",
       "std       0.948290     0.987371    19.047353      1.727247  \n",
       "min       4.148860     4.079350    24.037958      0.000000  \n",
       "25%       6.150093     6.098047    57.582488      1.000000  \n",
       "50%       6.805395     6.785680    75.290755      2.000000  \n",
       "75%       7.456575     7.483672    83.560155      4.000000  \n",
       "max       9.493170     9.435580    89.688798      5.000000  "
      ]
     },
     "execution_count": 62,
     "metadata": {},
     "output_type": "execute_result"
    }
   ],
   "source": [
    "data_testzaloha.describe()"
   ]
  },
  {
   "cell_type": "markdown",
   "id": "a2176c66",
   "metadata": {},
   "source": [
    "Ako vidíme rozsah spojitých atribútov sa zmenil avšak škálovanie by malo zachovať ich distribúcie."
   ]
  },
  {
   "cell_type": "markdown",
   "id": "ed53e612",
   "metadata": {},
   "source": [
    "**Transformovanie spojitých dát aby boli do štandardného rozdelenia**"
   ]
  },
  {
   "cell_type": "markdown",
   "id": "a7229fcd",
   "metadata": {},
   "source": [
    "Vo všeobecnosti algortimu strojového učenia dosahujú väčšiu mieru úspešnosti, ak sú dáta zo štandarného resp. normálneho rozdelenia, preto je vhodné dáta upraviť do takéhoto tvaru, skontrolujeme teda rozdelenie jednotlivých atribútov a v prípade, že nie sú z normálneho rozdelenia ich budeme normalizovať. Keďže po preškálovaní dát nadobúdajú dané spojité premenné aj záporné hodnoty ak premenná nebude z normálneho rozdelenia, budeme aplikovať **Yeo-Johnson power transformer, lebo funguje aj pre kladné aj záporné hodnoty.**"
   ]
  },
  {
   "cell_type": "markdown",
   "id": "46ab2b41",
   "metadata": {},
   "source": [
    "**Atribút age**"
   ]
  },
  {
   "cell_type": "code",
   "execution_count": 63,
   "id": "97b666c5",
   "metadata": {
    "scrolled": false
   },
   "outputs": [
    {
     "data": {
      "text/plain": [
       "<seaborn.axisgrid.FacetGrid at 0x1a534596cd0>"
      ]
     },
     "execution_count": 63,
     "metadata": {},
     "output_type": "execute_result"
    },
    {
     "data": {
      "image/png": "[encoded data removed]",
      "text/plain": [
       "<Figure size 360x360 with 1 Axes>"
      ]
     },
     "metadata": {
      "needs_background": "light"
     },
     "output_type": "display_data"
    }
   ],
   "source": [
    "sns.displot(data_train, x=\"age\", binwidth=0.1)"
   ]
  },
  {
   "cell_type": "markdown",
   "id": "553f31f4",
   "metadata": {
    "scrolled": true
   },
   "source": [
    "Na základe grafu distribúcie atribútu age predpokladáme, že tento atribút nie je z normálneho rozdelenia. Preto použijeme **power transform metódu** na normalizáciu dát."
   ]
  },
  {
   "cell_type": "code",
   "execution_count": 64,
   "id": "25588f69",
   "metadata": {},
   "outputs": [],
   "source": [
    "def data_transform(data):\n",
    "    d = exp(data.to_numpy())\n",
    "\n",
    "    d = d.reshape((len(d),1))\n",
    "\n",
    "    power = PowerTransformer(method='yeo-johnson', standardize=True) \n",
    "    data_trans = power.fit_transform(d)\n",
    "    return data_trans"
   ]
  },
  {
   "cell_type": "code",
   "execution_count": 65,
   "id": "bd01d647",
   "metadata": {},
   "outputs": [
    {
     "data": {
      "text/plain": [
       "<seaborn.axisgrid.FacetGrid at 0x1a534425d60>"
      ]
     },
     "execution_count": 65,
     "metadata": {},
     "output_type": "execute_result"
    },
    {
     "data": {
      "image/png": "[encoded data removed]",
      "text/plain": [
       "<Figure size 360x360 with 1 Axes>"
      ]
     },
     "metadata": {
      "needs_background": "light"
     },
     "output_type": "display_data"
    }
   ],
   "source": [
    "data_train.age = data_transform(data_train.age)\n",
    "sns.displot(data_train.age, binwidth=0.1)"
   ]
  },
  {
   "cell_type": "markdown",
   "id": "6ef5b0cc",
   "metadata": {},
   "source": [
    "Vidíme, že distribúcia dát je o niečo lepšia, ale stále nie z normálneho rozdelenia."
   ]
  },
  {
   "cell_type": "markdown",
   "id": "ada0f817",
   "metadata": {},
   "source": [
    "**Atribút leukocyty**"
   ]
  },
  {
   "cell_type": "code",
   "execution_count": 66,
   "id": "861987aa",
   "metadata": {
    "scrolled": false
   },
   "outputs": [
    {
     "data": {
      "text/plain": [
       "<seaborn.axisgrid.FacetGrid at 0x1a53445cf10>"
      ]
     },
     "execution_count": 66,
     "metadata": {},
     "output_type": "execute_result"
    },
    {
     "data": {
      "image/png": "[encoded data removed]",
      "text/plain": [
       "<Figure size 360x360 with 1 Axes>"
      ]
     },
     "metadata": {
      "needs_background": "light"
     },
     "output_type": "display_data"
    }
   ],
   "source": [
    "sns.displot(data_train, x=\"leukocyty\", binwidth=0.01)"
   ]
  },
  {
   "cell_type": "markdown",
   "id": "3dbe9203",
   "metadata": {
    "scrolled": true
   },
   "source": [
    "Na základe grafu distribúcie atribútu leukocyty predpokladáme, že tento atribút je z normálneho rozdelenia avšak poďme náš predpoklad overiť štatistickým testom."
   ]
  },
  {
   "cell_type": "code",
   "execution_count": 67,
   "id": "c268fc86",
   "metadata": {
    "scrolled": true
   },
   "outputs": [
    {
     "name": "stdout",
     "output_type": "stream",
     "text": [
      "Vykonajme štatistické testy normálnosti rozdelenia dát\n",
      "Ak bude pvalue > ako 0,05 tak nezamietame H0, a teda predpokladáme, že dáta sú z normálneho rozdelenia\n",
      "\n",
      "Statistics=0.979, p=6.206243794262414e-30\n",
      "Shapirov test normálnosti dát\n",
      "Dáta pravdepodobne nie sú z normálneho - Gaussovho rozdelenia (odmietame H0)\n",
      "\n",
      "D’Agostino’s K^2 test normálnosti dát\n",
      "Statistics=478.613, p=1.17610176637939e-104\n",
      "Dáta pravdepodobne nie sú z normálneho - Gaussovho rozdelenia (odmietame H0)\n"
     ]
    }
   ],
   "source": [
    "print(\"Vykonajme štatistické testy normálnosti rozdelenia dát\")\n",
    "print(\"Ak bude pvalue > ako 0,05 tak nezamietame H0, a teda predpokladáme, že dáta sú z normálneho rozdelenia\")\n",
    "print(\"\")\n",
    "\n",
    "stat, p = stats.shapiro(data_train.leukocyty)\n",
    "print('Statistics=%.3f, p=%s' % (stat, str(p)))\n",
    "alpha = 0.05\n",
    "print(\"Shapirov test normálnosti dát\")\n",
    "if p > alpha:\n",
    "\tprint('Dáta sú pravdepodobne z normálneho - Gaussovho rozdelenia (neodmietame H0)')\n",
    "else:\n",
    "\tprint('Dáta pravdepodobne nie sú z normálneho - Gaussovho rozdelenia (odmietame H0)')\n",
    "    \n",
    "print(\"\")\n",
    "print(\"D’Agostino’s K^2 test normálnosti dát\")   \n",
    "stat, p = normaltest(data_train.leukocyty)\n",
    "print('Statistics=%.3f, p=%s' % (stat, str(p)))\n",
    "alpha = 0.05\n",
    "if p > alpha:\n",
    "\tprint('Dáta sú pravdepodobne z normálneho - Gaussovho rozdelenia (neodmietame H0)')\n",
    "else:\n",
    "\tprint('Dáta pravdepodobne nie sú z normálneho - Gaussovho rozdelenia (odmietame H0)')"
   ]
  },
  {
   "cell_type": "markdown",
   "id": "d3826ac9",
   "metadata": {},
   "source": [
    "Na základe štatistického testu sme zistili, že distribúcia tohto atribútu nepochádza z normálneho rozdelenia. Preto použijeme **power transform metódu** na normalizáciu dát."
   ]
  },
  {
   "cell_type": "code",
   "execution_count": 68,
   "id": "f999f17a",
   "metadata": {},
   "outputs": [
    {
     "data": {
      "text/plain": [
       "<seaborn.axisgrid.FacetGrid at 0x1a5305abc10>"
      ]
     },
     "execution_count": 68,
     "metadata": {},
     "output_type": "execute_result"
    },
    {
     "data": {
      "image/png": "[encoded data removed]",
      "text/plain": [
       "<Figure size 360x360 with 1 Axes>"
      ]
     },
     "metadata": {
      "needs_background": "light"
     },
     "output_type": "display_data"
    }
   ],
   "source": [
    "data_train.leukocyty = data_transform(data_train.leukocyty)\n",
    "sns.displot(data_train.leukocyty, binwidth=0.01)"
   ]
  },
  {
   "cell_type": "markdown",
   "id": "7445ad82",
   "metadata": {},
   "source": [
    "Na grafe distribúcie atribútu leukocyty pozorujeme zmenu v hodnotách atribútu leukocyty a rovnako aj istú mieru normalizácie hodnôt tohto atribútu voči predchádzajúcemu stavu."
   ]
  },
  {
   "cell_type": "markdown",
   "id": "3627efaf",
   "metadata": {},
   "source": [
    "**Atribút weight**"
   ]
  },
  {
   "cell_type": "code",
   "execution_count": 69,
   "id": "971d7910",
   "metadata": {
    "scrolled": false
   },
   "outputs": [
    {
     "data": {
      "text/plain": [
       "<seaborn.axisgrid.FacetGrid at 0x1a5349f6760>"
      ]
     },
     "execution_count": 69,
     "metadata": {},
     "output_type": "execute_result"
    },
    {
     "data": {
      "image/png": "[encoded data removed]",
      "text/plain": [
       "<Figure size 360x360 with 1 Axes>"
      ]
     },
     "metadata": {
      "needs_background": "light"
     },
     "output_type": "display_data"
    }
   ],
   "source": [
    "sns.displot(data_train, x=\"weight\", binwidth=0.01)"
   ]
  },
  {
   "cell_type": "markdown",
   "id": "959e0003",
   "metadata": {
    "scrolled": true
   },
   "source": [
    "Na základe grafu distribúcie atribútu weight predpokladáme, že tento atribút je z normálneho rozdelenia avšak poďme náš predpoklad overiť štatistickým testom."
   ]
  },
  {
   "cell_type": "code",
   "execution_count": 70,
   "id": "ce68f2fa",
   "metadata": {
    "scrolled": true
   },
   "outputs": [
    {
     "name": "stdout",
     "output_type": "stream",
     "text": [
      "Vykonajme štatistické testy normálnosti rozdelenia dát\n",
      "Ak bude pvalue > ako 0,05 tak nezamietame H0, a teda predpokladáme, že dáta sú z normálneho rozdelenia\n",
      "\n",
      "Statistics=0.994, p=3.5240988411994417e-16\n",
      "Shapirov test normálnosti dát\n",
      "Dáta pravdepodobne nie sú z normálneho - Gaussovho rozdelenia (odmietame H0)\n",
      "\n",
      "D’Agostino’s K^2 test normálnosti dát\n",
      "Statistics=92.907, p=6.692729172330831e-21\n",
      "Dáta pravdepodobne nie sú z normálneho - Gaussovho rozdelenia (odmietame H0)\n"
     ]
    }
   ],
   "source": [
    "print(\"Vykonajme štatistické testy normálnosti rozdelenia dát\")\n",
    "print(\"Ak bude pvalue > ako 0,05 tak nezamietame H0, a teda predpokladáme, že dáta sú z normálneho rozdelenia\")\n",
    "print(\"\")\n",
    "\n",
    "stat, p = stats.shapiro(data_train.weight)\n",
    "print('Statistics=%.3f, p=%s' % (stat, str(p)))\n",
    "alpha = 0.05\n",
    "print(\"Shapirov test normálnosti dát\")\n",
    "if p > alpha:\n",
    "\tprint('Dáta sú pravdepodobne z normálneho - Gaussovho rozdelenia (neodmietame H0)')\n",
    "else:\n",
    "\tprint('Dáta pravdepodobne nie sú z normálneho - Gaussovho rozdelenia (odmietame H0)')\n",
    "    \n",
    "print(\"\")\n",
    "print(\"D’Agostino’s K^2 test normálnosti dát\")   \n",
    "stat, p = normaltest(data_train.weight)\n",
    "print('Statistics=%.3f, p=%s' % (stat, str(p)))\n",
    "alpha = 0.05\n",
    "if p > alpha:\n",
    "\tprint('Dáta sú pravdepodobne z normálneho - Gaussovho rozdelenia (neodmietame H0)')\n",
    "else:\n",
    "\tprint('Dáta pravdepodobne nie sú z normálneho - Gaussovho rozdelenia (odmietame H0)')"
   ]
  },
  {
   "cell_type": "markdown",
   "id": "821662d5",
   "metadata": {},
   "source": [
    "Na základe štatistického testu sme zistili, že distribúcia tohto atribútu nepochádza z normálneho rozdelenia. Preto použijeme **power transform metódu** na normalizáciu dát."
   ]
  },
  {
   "cell_type": "code",
   "execution_count": 71,
   "id": "4687bc98",
   "metadata": {
    "scrolled": false
   },
   "outputs": [
    {
     "data": {
      "text/plain": [
       "<seaborn.axisgrid.FacetGrid at 0x1a5328aa190>"
      ]
     },
     "execution_count": 71,
     "metadata": {},
     "output_type": "execute_result"
    },
    {
     "data": {
      "image/png": "[encoded data removed]",
      "text/plain": [
       "<Figure size 360x360 with 1 Axes>"
      ]
     },
     "metadata": {
      "needs_background": "light"
     },
     "output_type": "display_data"
    }
   ],
   "source": [
    "data_train.weight = data_transform(data_train.weight)\n",
    "sns.displot(data_train.weight, binwidth=0.01)"
   ]
  },
  {
   "cell_type": "markdown",
   "id": "f3bef4c0",
   "metadata": {},
   "source": [
    "Na grafe distribúcie atribútu weight pozorujeme zmenu v hodnotách atribútu weight a rovnako aj istú mieru normalizácie hodnôt tohto atribútu voči predchádzajúcemu stavu."
   ]
  },
  {
   "cell_type": "markdown",
   "id": "6efe2b31",
   "metadata": {},
   "source": [
    "**Atribút hbver**"
   ]
  },
  {
   "cell_type": "code",
   "execution_count": 72,
   "id": "170faca1",
   "metadata": {
    "scrolled": false
   },
   "outputs": [
    {
     "data": {
      "text/plain": [
       "<seaborn.axisgrid.FacetGrid at 0x1a534e50a60>"
      ]
     },
     "execution_count": 72,
     "metadata": {},
     "output_type": "execute_result"
    },
    {
     "data": {
      "image/png": "[encoded data removed]",
      "text/plain": [
       "<Figure size 360x360 with 1 Axes>"
      ]
     },
     "metadata": {
      "needs_background": "light"
     },
     "output_type": "display_data"
    }
   ],
   "source": [
    "sns.displot(data_train, x=\"hbver\", binwidth=0.01)"
   ]
  },
  {
   "cell_type": "markdown",
   "id": "32cadb7b",
   "metadata": {
    "scrolled": true
   },
   "source": [
    "Na základe grafu distribúcie atribútu hbver predpokladáme, že tento atribút je z normálneho rozdelenia."
   ]
  },
  {
   "cell_type": "markdown",
   "id": "a15a9d34",
   "metadata": {},
   "source": [
    "**Atribút er-cv**"
   ]
  },
  {
   "cell_type": "code",
   "execution_count": 73,
   "id": "8c150377",
   "metadata": {
    "scrolled": false
   },
   "outputs": [
    {
     "data": {
      "text/plain": [
       "<seaborn.axisgrid.FacetGrid at 0x1a536a4dbb0>"
      ]
     },
     "execution_count": 73,
     "metadata": {},
     "output_type": "execute_result"
    },
    {
     "data": {
      "image/png": "[encoded data removed]",
      "text/plain": [
       "<Figure size 360x360 with 1 Axes>"
      ]
     },
     "metadata": {
      "needs_background": "light"
     },
     "output_type": "display_data"
    }
   ],
   "source": [
    "sns.displot(data_train, x=\"er-cv\", binwidth=0.01)"
   ]
  },
  {
   "cell_type": "markdown",
   "id": "ad0d12e0",
   "metadata": {
    "scrolled": true
   },
   "source": [
    "Na základe grafu distribúcie atribútu er-cv predpokladáme, že tento atribút je z normálneho rozdelenia."
   ]
  },
  {
   "cell_type": "markdown",
   "id": "a4cfb0a2",
   "metadata": {},
   "source": [
    "**Atribút ast**"
   ]
  },
  {
   "cell_type": "code",
   "execution_count": 74,
   "id": "8dac565b",
   "metadata": {
    "scrolled": false
   },
   "outputs": [
    {
     "data": {
      "text/plain": [
       "<seaborn.axisgrid.FacetGrid at 0x1a5379b37c0>"
      ]
     },
     "execution_count": 74,
     "metadata": {},
     "output_type": "execute_result"
    },
    {
     "data": {
      "image/png": "[encoded data removed]",
      "text/plain": [
       "<Figure size 360x360 with 1 Axes>"
      ]
     },
     "metadata": {
      "needs_background": "light"
     },
     "output_type": "display_data"
    }
   ],
   "source": [
    "sns.displot(data_train, x=\"ast\", binwidth=0.01)"
   ]
  },
  {
   "cell_type": "markdown",
   "id": "525a194c",
   "metadata": {
    "scrolled": true
   },
   "source": [
    "Na základe grafu distribúcie atribútu ast predpokladáme, že tento atribút je z normálneho rozdelenia avšak poďme náš predpoklad overiť štatistickým testom."
   ]
  },
  {
   "cell_type": "code",
   "execution_count": 75,
   "id": "bb7b244d",
   "metadata": {
    "scrolled": true
   },
   "outputs": [
    {
     "name": "stdout",
     "output_type": "stream",
     "text": [
      "Vykonajme štatistické testy normálnosti rozdelenia dát\n",
      "Ak bude pvalue > ako 0,05 tak nezamietame H0, a teda predpokladáme, že dáta sú z normálneho rozdelenia\n",
      "\n",
      "Statistics=0.998, p=1.0691683201002888e-06\n",
      "Shapirov test normálnosti dát\n",
      "Dáta pravdepodobne nie sú z normálneho - Gaussovho rozdelenia (odmietame H0)\n",
      "\n",
      "D’Agostino’s K^2 test normálnosti dát\n",
      "Statistics=27.148, p=1.273003719859435e-06\n",
      "Dáta pravdepodobne nie sú z normálneho - Gaussovho rozdelenia (odmietame H0)\n"
     ]
    }
   ],
   "source": [
    "print(\"Vykonajme štatistické testy normálnosti rozdelenia dát\")\n",
    "print(\"Ak bude pvalue > ako 0,05 tak nezamietame H0, a teda predpokladáme, že dáta sú z normálneho rozdelenia\")\n",
    "print(\"\")\n",
    "\n",
    "stat, p = stats.shapiro(data_train.ast)\n",
    "print('Statistics=%.3f, p=%s' % (stat, str(p)))\n",
    "alpha = 0.05\n",
    "print(\"Shapirov test normálnosti dát\")\n",
    "if p > alpha:\n",
    "\tprint('Dáta sú pravdepodobne z normálneho - Gaussovho rozdelenia (neodmietame H0)')\n",
    "else:\n",
    "\tprint('Dáta pravdepodobne nie sú z normálneho - Gaussovho rozdelenia (odmietame H0)')\n",
    "    \n",
    "print(\"\")\n",
    "print(\"D’Agostino’s K^2 test normálnosti dát\")   \n",
    "stat, p = normaltest(data_train.ast)\n",
    "print('Statistics=%.3f, p=%s' % (stat, str(p)))\n",
    "alpha = 0.05\n",
    "if p > alpha:\n",
    "\tprint('Dáta sú pravdepodobne z normálneho - Gaussovho rozdelenia (neodmietame H0)')\n",
    "else:\n",
    "\tprint('Dáta pravdepodobne nie sú z normálneho - Gaussovho rozdelenia (odmietame H0)')"
   ]
  },
  {
   "cell_type": "markdown",
   "id": "aaa0bdf9",
   "metadata": {},
   "source": [
    "Na základe štatistického testu sme zistili, že distribúcia tohto atribútu nepochádza z normálneho rozdelenia. Preto použijeme **power transform metódu** na normalizáciu dát."
   ]
  },
  {
   "cell_type": "code",
   "execution_count": 76,
   "id": "139bcd26",
   "metadata": {},
   "outputs": [
    {
     "data": {
      "text/plain": [
       "<seaborn.axisgrid.FacetGrid at 0x1a534596ac0>"
      ]
     },
     "execution_count": 76,
     "metadata": {},
     "output_type": "execute_result"
    },
    {
     "data": {
      "image/png": "[encoded data removed]",
      "text/plain": [
       "<Figure size 360x360 with 1 Axes>"
      ]
     },
     "metadata": {
      "needs_background": "light"
     },
     "output_type": "display_data"
    }
   ],
   "source": [
    "data_train.ast = data_transform(data_train.ast)\n",
    "sns.displot(data_train.ast, binwidth=0.01)"
   ]
  },
  {
   "cell_type": "markdown",
   "id": "fe028611",
   "metadata": {},
   "source": [
    "Na grafe distribúcie atribútu ast pozorujeme zmenu v hodnotách atribútu ast a rovnako aj istú mieru normalizácie hodnôt tohto atribútu voči predchádzajúcemu stavu."
   ]
  },
  {
   "cell_type": "markdown",
   "id": "a3e18bf7",
   "metadata": {},
   "source": [
    "**Atribút hematokrit**"
   ]
  },
  {
   "cell_type": "code",
   "execution_count": 77,
   "id": "10d0854e",
   "metadata": {
    "scrolled": false
   },
   "outputs": [
    {
     "data": {
      "text/plain": [
       "<seaborn.axisgrid.FacetGrid at 0x1a538307ca0>"
      ]
     },
     "execution_count": 77,
     "metadata": {},
     "output_type": "execute_result"
    },
    {
     "data": {
      "image/png": "[encoded data removed]",
      "text/plain": [
       "<Figure size 360x360 with 1 Axes>"
      ]
     },
     "metadata": {
      "needs_background": "light"
     },
     "output_type": "display_data"
    }
   ],
   "source": [
    "sns.displot(data_train, x=\"hematokrit\", binwidth=0.01)"
   ]
  },
  {
   "cell_type": "markdown",
   "id": "6f02b403",
   "metadata": {
    "scrolled": true
   },
   "source": [
    "Na základe grafu distribúcie atribútu hematokrit predpokladáme, že tento atribút je z normálneho rozdelenia."
   ]
  },
  {
   "cell_type": "markdown",
   "id": "73670d2a",
   "metadata": {},
   "source": [
    "**Atribút trombocyty**"
   ]
  },
  {
   "cell_type": "code",
   "execution_count": 78,
   "id": "4e2bd5aa",
   "metadata": {
    "scrolled": false
   },
   "outputs": [
    {
     "data": {
      "text/plain": [
       "<seaborn.axisgrid.FacetGrid at 0x1a538aecbb0>"
      ]
     },
     "execution_count": 78,
     "metadata": {},
     "output_type": "execute_result"
    },
    {
     "data": {
      "image/png": "[encoded data removed]",
      "text/plain": [
       "<Figure size 360x360 with 1 Axes>"
      ]
     },
     "metadata": {
      "needs_background": "light"
     },
     "output_type": "display_data"
    }
   ],
   "source": [
    "sns.displot(data_train, x=\"trombocyty\", binwidth=0.01)"
   ]
  },
  {
   "cell_type": "markdown",
   "id": "83157f14",
   "metadata": {
    "scrolled": true
   },
   "source": [
    "Na základe grafu distribúcie atribútu trombocyty predpokladáme, že tento atribút je z normálneho rozdelenia."
   ]
  },
  {
   "cell_type": "markdown",
   "id": "e52d0d8d",
   "metadata": {},
   "source": [
    "**Atribút alt**"
   ]
  },
  {
   "cell_type": "code",
   "execution_count": 79,
   "id": "71bbbf7c",
   "metadata": {
    "scrolled": false
   },
   "outputs": [
    {
     "data": {
      "text/plain": [
       "<seaborn.axisgrid.FacetGrid at 0x1a5383281c0>"
      ]
     },
     "execution_count": 79,
     "metadata": {},
     "output_type": "execute_result"
    },
    {
     "data": {
      "image/png": "[encoded data removed]",
      "text/plain": [
       "<Figure size 360x360 with 1 Axes>"
      ]
     },
     "metadata": {
      "needs_background": "light"
     },
     "output_type": "display_data"
    }
   ],
   "source": [
    "sns.displot(data_train, x=\"alt\", binwidth=0.01)"
   ]
  },
  {
   "cell_type": "markdown",
   "id": "56ff9916",
   "metadata": {},
   "source": [
    "Na základe grafu predpokladáme, že distribúcia tohto atribútu nepochádza z normálneho rozdelenia. Preto použijeme **power transform metódu** na normalizáciu dát."
   ]
  },
  {
   "cell_type": "code",
   "execution_count": 80,
   "id": "2bad92c2",
   "metadata": {},
   "outputs": [
    {
     "data": {
      "text/plain": [
       "<seaborn.axisgrid.FacetGrid at 0x1a5382a0520>"
      ]
     },
     "execution_count": 80,
     "metadata": {},
     "output_type": "execute_result"
    },
    {
     "data": {
      "image/png": "[encoded data removed]",
      "text/plain": [
       "<Figure size 360x360 with 1 Axes>"
      ]
     },
     "metadata": {
      "needs_background": "light"
     },
     "output_type": "display_data"
    }
   ],
   "source": [
    "data_train.alt = data_transform(data_train.alt)\n",
    "sns.displot(data_train.alt, binwidth=0.01)"
   ]
  },
  {
   "cell_type": "markdown",
   "id": "272ed868",
   "metadata": {},
   "source": [
    "Na grafe distribúcie atribútu alt pozorujeme zmenu v hodnotách atribútu alt a rovnako aj istú mieru normalizácie hodnôt tohto atribútu voči predchádzajúcemu stavu."
   ]
  },
  {
   "cell_type": "markdown",
   "id": "9b67a558",
   "metadata": {},
   "source": [
    "**Atribút etytr**"
   ]
  },
  {
   "cell_type": "code",
   "execution_count": 81,
   "id": "7ee92d04",
   "metadata": {
    "scrolled": false
   },
   "outputs": [
    {
     "data": {
      "text/plain": [
       "<seaborn.axisgrid.FacetGrid at 0x1a538aecdc0>"
      ]
     },
     "execution_count": 81,
     "metadata": {},
     "output_type": "execute_result"
    },
    {
     "data": {
      "image/png": "[encoded data removed]",
      "text/plain": [
       "<Figure size 360x360 with 1 Axes>"
      ]
     },
     "metadata": {
      "needs_background": "light"
     },
     "output_type": "display_data"
    }
   ],
   "source": [
    "sns.displot(data_train, x=\"etytr\", binwidth=0.01)"
   ]
  },
  {
   "cell_type": "markdown",
   "id": "2c1dc28a",
   "metadata": {},
   "source": [
    "Na základe grafu predpokladáme, že distribúcia tohto atribútu nepochádza z normálneho rozdelenia. Preto použijeme **power transform metódu** na normalizáciu dát."
   ]
  },
  {
   "cell_type": "code",
   "execution_count": 82,
   "id": "12e822b6",
   "metadata": {},
   "outputs": [
    {
     "data": {
      "text/plain": [
       "<seaborn.axisgrid.FacetGrid at 0x1a53a455d30>"
      ]
     },
     "execution_count": 82,
     "metadata": {},
     "output_type": "execute_result"
    },
    {
     "data": {
      "image/png": "[encoded data removed]",
      "text/plain": [
       "<Figure size 360x360 with 1 Axes>"
      ]
     },
     "metadata": {
      "needs_background": "light"
     },
     "output_type": "display_data"
    }
   ],
   "source": [
    "data_train.etytr = data_transform(data_train.etytr)\n",
    "sns.displot(data_train.etytr, binwidth=0.01)"
   ]
  },
  {
   "cell_type": "markdown",
   "id": "6690c36e",
   "metadata": {},
   "source": [
    "Na grafe distribúcie atribútu etytr pozorujeme zmenu v hodnotách atribútu etytr a rovnako aj istú mieru normalizácie hodnôt tohto atribútu voči predchádzajúcemu stavu."
   ]
  },
  {
   "cell_type": "markdown",
   "id": "f7a54eb7",
   "metadata": {},
   "source": [
    "**Atribút erytrocyty**"
   ]
  },
  {
   "cell_type": "code",
   "execution_count": 83,
   "id": "f659a1a2",
   "metadata": {
    "scrolled": false
   },
   "outputs": [
    {
     "data": {
      "text/plain": [
       "<seaborn.axisgrid.FacetGrid at 0x1a53b08bd30>"
      ]
     },
     "execution_count": 83,
     "metadata": {},
     "output_type": "execute_result"
    },
    {
     "data": {
      "image/png": "[encoded data removed]",
      "text/plain": [
       "<Figure size 360x360 with 1 Axes>"
      ]
     },
     "metadata": {
      "needs_background": "light"
     },
     "output_type": "display_data"
    }
   ],
   "source": [
    "sns.displot(data_train, x=\"erytrocyty\", binwidth=0.01)"
   ]
  },
  {
   "cell_type": "markdown",
   "id": "070f4b90",
   "metadata": {
    "scrolled": true
   },
   "source": [
    "Na základe grafu distribúcie atribútu erytrocyty predpokladáme, že tento atribút je z normálneho rozdelenia."
   ]
  },
  {
   "cell_type": "markdown",
   "id": "91cb888a",
   "metadata": {},
   "source": [
    "**Atribút hemoglobin**"
   ]
  },
  {
   "cell_type": "code",
   "execution_count": 84,
   "id": "b9896168",
   "metadata": {
    "scrolled": false
   },
   "outputs": [
    {
     "data": {
      "text/plain": [
       "<seaborn.axisgrid.FacetGrid at 0x1a53ab6ed60>"
      ]
     },
     "execution_count": 84,
     "metadata": {},
     "output_type": "execute_result"
    },
    {
     "data": {
      "image/png": "[encoded data removed]",
      "text/plain": [
       "<Figure size 360x360 with 1 Axes>"
      ]
     },
     "metadata": {
      "needs_background": "light"
     },
     "output_type": "display_data"
    }
   ],
   "source": [
    "sns.displot(data_train, x=\"hemoglobin\", binwidth=0.01)"
   ]
  },
  {
   "cell_type": "markdown",
   "id": "1903c3af",
   "metadata": {
    "scrolled": true
   },
   "source": [
    "Na základe grafu distribúcie atribútu hemoglobin predpokladáme, že tento atribút je z normálneho rozdelenia."
   ]
  },
  {
   "cell_type": "markdown",
   "id": "4c5f3963",
   "metadata": {},
   "source": [
    "**Atribút alp**"
   ]
  },
  {
   "cell_type": "code",
   "execution_count": 85,
   "id": "a6667a16",
   "metadata": {
    "scrolled": false
   },
   "outputs": [
    {
     "data": {
      "text/plain": [
       "<seaborn.axisgrid.FacetGrid at 0x1a53be916a0>"
      ]
     },
     "execution_count": 85,
     "metadata": {},
     "output_type": "execute_result"
    },
    {
     "data": {
      "image/png": "[encoded data removed]",
      "text/plain": [
       "<Figure size 360x360 with 1 Axes>"
      ]
     },
     "metadata": {
      "needs_background": "light"
     },
     "output_type": "display_data"
    }
   ],
   "source": [
    "sns.displot(data_train, x=\"alp\", binwidth=0.01)"
   ]
  },
  {
   "cell_type": "markdown",
   "id": "59fc3d07",
   "metadata": {},
   "source": [
    "Na základe grafu predpokladáme, že distribúcia tohto atribútu nepochádza z normálneho rozdelenia. Preto použijeme **power transform metódu** na normalizáciu dát."
   ]
  },
  {
   "cell_type": "code",
   "execution_count": 86,
   "id": "85ecb2a2",
   "metadata": {},
   "outputs": [
    {
     "data": {
      "text/plain": [
       "<seaborn.axisgrid.FacetGrid at 0x1a538aef640>"
      ]
     },
     "execution_count": 86,
     "metadata": {},
     "output_type": "execute_result"
    },
    {
     "data": {
      "image/png": "[encoded data removed]",
      "text/plain": [
       "<Figure size 360x360 with 1 Axes>"
      ]
     },
     "metadata": {
      "needs_background": "light"
     },
     "output_type": "display_data"
    }
   ],
   "source": [
    "data_train.alp = data_transform(data_train.alp)\n",
    "sns.displot(data_train.alp, binwidth=0.01)"
   ]
  },
  {
   "cell_type": "markdown",
   "id": "e7eb3f35",
   "metadata": {},
   "source": [
    "Na grafe distribúcie atribútu alp pozorujeme zmenu v hodnotách atribútu alp a rovnako aj istú mieru normalizácie hodnôt tohto atribútu voči predchádzajúcemu stavu."
   ]
  },
  {
   "cell_type": "markdown",
   "id": "5030436b",
   "metadata": {},
   "source": [
    "## 3. Výber atribútov pre strojové učenie"
   ]
  },
  {
   "cell_type": "markdown",
   "id": "9e5d4c46",
   "metadata": {},
   "source": [
    "### Analyzujme dáta a pokúsme sa identifikovať atribúty ktoré budú významné pre strojové učenie."
   ]
  },
  {
   "cell_type": "markdown",
   "id": "e6d9a1ed",
   "metadata": {},
   "source": [
    "Chceme urobiť výber podmnožiny vstupných atribútov pre model z atribútov ktoré sú najrelevantnejšie pre odhadnutie hodnoty cieľového atribútu(indicator).\n",
    "Tento proces umožní zredukovať počet atribútov vstupujúcich do modelu čo vedie k lepšej presnosti modelu(znižuje mieru overfittingu) a aj vyššej výkonnosti(predikčnej rýchlosti) modelu."
   ]
  },
  {
   "cell_type": "markdown",
   "id": "cd52f723",
   "metadata": {},
   "source": [
    "### Výberové techniky typu filter:"
   ]
  },
  {
   "cell_type": "markdown",
   "id": "88eb7c15",
   "metadata": {},
   "source": [
    "**1. Pearsonova korelácia**"
   ]
  },
  {
   "cell_type": "markdown",
   "id": "9c571853",
   "metadata": {},
   "source": [
    "Náhľad na vzťahy medzi jednotlivými atribútmi pomocou heatmapy"
   ]
  },
  {
   "cell_type": "code",
   "execution_count": 87,
   "id": "9b57c42a",
   "metadata": {},
   "outputs": [
    {
     "data": {
      "text/plain": [
       "Text(0.5, 1.0, 'Heatmapa zobrazuje hodnoty korelácie jednotlivých atribútov')"
      ]
     },
     "execution_count": 87,
     "metadata": {},
     "output_type": "execute_result"
    },
    {
     "data": {
      "image/png": "[encoded data removed]",
      "text/plain": [
       "<Figure size 1440x1152 with 2 Axes>"
      ]
     },
     "metadata": {
      "needs_background": "light"
     },
     "output_type": "display_data"
    }
   ],
   "source": [
    "fig, ax = plt.subplots(figsize=(20,16))\n",
    "sns.heatmap(data_train_with_i.dropna().corr(),ax=ax, annot =True, fmt = \".3f\").set_title('Heatmapa zobrazuje hodnoty korelácie jednotlivých atribútov')"
   ]
  },
  {
   "cell_type": "markdown",
   "id": "23b46b9d",
   "metadata": {},
   "source": [
    "Pozrime sa teda aké sú najviac korelované atribúty s atribútom indikátor a aké sú miery ich korelácie."
   ]
  },
  {
   "cell_type": "code",
   "execution_count": 88,
   "id": "fb2a5bf1",
   "metadata": {},
   "outputs": [
    {
     "name": "stdout",
     "output_type": "stream",
     "text": [
      "trombocyty   -0.639443\n",
      "etytr        -0.388317\n",
      "hematokrit    0.346574\n",
      "er-cv        -0.016454\n",
      "erytrocyty    0.013420\n",
      "Name: indicator, dtype: float64 5 najviac korelovaných atribútov s atribútom indikátor a miera ich korelácie\n"
     ]
    }
   ],
   "source": [
    "def corelation_selector(data, predicted_atribute, top_n_atributes):\n",
    "    atribute_name = data.columns.tolist()\n",
    "    corelations = data[data.columns[1:]].corr()[predicted_atribute][:]\n",
    "    sorted = corelations.iloc[(-corelations.abs()).argsort()]\n",
    "    return sorted[1:top_n_atributes+1]\n",
    "   \n",
    "correlation_data = corelation_selector(data_train_with_i,\"indicator\",5)\n",
    "print(correlation_data, '5 najviac korelovaných atribútov s atribútom indikátor a miera ich korelácie')"
   ]
  },
  {
   "cell_type": "markdown",
   "id": "6aa7ecd4",
   "metadata": {},
   "source": [
    "**Zoradenie atribútov podľa dôležitosti pre určenie hodnoty predikovanej premennej na základe veľkosti ich korelácie od najdôležitejšieho:**\n",
    "\n",
    "    1. trombocyty\n",
    "    2. hematokrit\n",
    "    3. etytr"
   ]
  },
  {
   "cell_type": "code",
   "execution_count": 89,
   "id": "56bfedde",
   "metadata": {},
   "outputs": [
    {
     "name": "stdout",
     "output_type": "stream",
     "text": [
      "indicator       0.346574\n",
      "leukocyty      -0.300060\n",
      "trombocyty     -0.283926\n",
      "etytr          -0.217364\n",
      "relationship    0.020173\n",
      "Name: hematokrit, dtype: float64 5 najviac korelovaných atribútov s atribútom hematokrit a miera ich korelácie\n"
     ]
    }
   ],
   "source": [
    "correlation_data = corelation_selector(data_train_with_i,\"hematokrit\",5)\n",
    "print(correlation_data, '5 najviac korelovaných atribútov s atribútom hematokrit a miera ich korelácie')"
   ]
  },
  {
   "cell_type": "code",
   "execution_count": 90,
   "id": "3afbbeb7",
   "metadata": {},
   "outputs": [
    {
     "name": "stdout",
     "output_type": "stream",
     "text": [
      "indicator    -0.639443\n",
      "etytr         0.638974\n",
      "hematokrit   -0.283926\n",
      "leukocyty     0.058081\n",
      "er-cv         0.017078\n",
      "Name: trombocyty, dtype: float64 5 najviac korelovaných atribútov s atribútom trombocyty a miera ich korelácie\n"
     ]
    }
   ],
   "source": [
    "correlation_data = corelation_selector(data_train_with_i,\"trombocyty\",5)\n",
    "print(correlation_data, '5 najviac korelovaných atribútov s atribútom trombocyty a miera ich korelácie')"
   ]
  },
  {
   "cell_type": "code",
   "execution_count": 91,
   "id": "1fe99a7d",
   "metadata": {},
   "outputs": [
    {
     "name": "stdout",
     "output_type": "stream",
     "text": [
      "trombocyty    0.638974\n",
      "indicator    -0.388317\n",
      "leukocyty    -0.258947\n",
      "hematokrit   -0.217364\n",
      "ast           0.015334\n",
      "Name: etytr, dtype: float64 5 najviac korelovaných atribútov s atribútom etytr a miera ich korelácie\n"
     ]
    }
   ],
   "source": [
    "correlation_data = corelation_selector(data_train_with_i,\"etytr\",5)\n",
    "print(correlation_data, '5 najviac korelovaných atribútov s atribútom etytr a miera ich korelácie')"
   ]
  },
  {
   "cell_type": "markdown",
   "id": "93463235",
   "metadata": {},
   "source": [
    "**Zistenia zo štatistickej filtrovacej techniky (pearsonovej korelácie) výberu významných atribútov pre strojové učenie:**\n",
    "\n",
    "    Medzi atribúty datasetu, ktoré majú väčšíu ako veľmi nízku mieru korelácie s atribútom indicator a teda sú ich hodnoty pravdepodobne vzájomne závislé, patria atribúty:\n",
    "    1. etytr\n",
    "    2. trombocyty\n",
    "    3. hematokrit\n",
    "    Zároveň atribút leukocyty je vo vzťahu(je korelovaný) s atribútmi:\n",
    "    1. hematokrit\n",
    "    2. etytr\n",
    "    3. trombocyty\n",
    "    preto predpokladáme, že bude tiež významný pri určovaní hodnoty indikátora, tento predpoklad overíme v ďalších testoch.\n",
    "\n",
    "Kedže medzi hodnotami spomenutých 4 atribútov(**etytr, trombocyty, hematokrit, leukocyty**) existuje vzťah s hodnotami predikovaného atribútu **indicator** tieto nás pri klasifikácií búdú zaujímať najviac na základe tohto filtrovacieho kritéria identifikácie podstatných čŕt v dátach. "
   ]
  },
  {
   "cell_type": "markdown",
   "id": "1257d1c4",
   "metadata": {},
   "source": [
    "**3. Využijeme tzv. metódu Mutual Information**"
   ]
  },
  {
   "cell_type": "code",
   "execution_count": 92,
   "id": "ad508c09",
   "metadata": {},
   "outputs": [
    {
     "name": "stdout",
     "output_type": "stream",
     "text": [
      "vybraných 5 najvýznamnejších atribútov podľa metódy mutual information\n"
     ]
    },
    {
     "data": {
      "text/plain": [
       "['hbver', 'hematokrit', 'trombocyty', 'smoker', 'etytr']"
      ]
     },
     "execution_count": 92,
     "metadata": {},
     "output_type": "execute_result"
    }
   ],
   "source": [
    "X_new = SelectKBest(mutual_info_regression, k=5).fit(data_train, y_train)\n",
    "method_result = X_new.get_support()\n",
    "chi_feature = data_train.loc[:,method_result].columns.tolist()\n",
    "print('vybraných 5 najvýznamnejších atribútov podľa metódy mutual information')\n",
    "chi_feature"
   ]
  },
  {
   "cell_type": "markdown",
   "id": "fa092fe2",
   "metadata": {},
   "source": [
    "**4. Využijeme tzv. metódu f_regression resp F anova**"
   ]
  },
  {
   "cell_type": "code",
   "execution_count": 93,
   "id": "9aa2295b",
   "metadata": {},
   "outputs": [
    {
     "name": "stdout",
     "output_type": "stream",
     "text": [
      "vybraných 5 najvýznamnejších atribútov podľa metódy f regression\n"
     ]
    },
    {
     "data": {
      "text/plain": [
       "['age', 'er-cv', 'hematokrit', 'trombocyty', 'etytr']"
      ]
     },
     "execution_count": 93,
     "metadata": {},
     "output_type": "execute_result"
    }
   ],
   "source": [
    "X_new = SelectKBest(f_regression, k=5).fit(data_train, y_train)\n",
    "method_result = X_new.get_support()\n",
    "f_feature = data_train.loc[:,method_result].columns.tolist()\n",
    "print('vybraných 5 najvýznamnejších atribútov podľa metódy f regression')\n",
    "f_feature"
   ]
  },
  {
   "cell_type": "markdown",
   "id": "036856d2",
   "metadata": {},
   "source": [
    "### Výberové techniky typu wrapper:"
   ]
  },
  {
   "cell_type": "markdown",
   "id": "58354bf2",
   "metadata": {},
   "source": [
    "**1. RFE - recursive feature elimination s použitím Rozhodovacieho stromu**"
   ]
  },
  {
   "cell_type": "markdown",
   "id": "a06b1417",
   "metadata": {},
   "source": [
    "Využitie klasifikátora typu rozhodovací strom - DecisionTreeClassifier s rôznym počtom a typom vstupných atribútov tohto modelu pre porovnanie, toho aké úspešnosti je daný model schopný dosiahnuť vzhľadom na atribúty na základe ktorých predikuje hodnotu premennej indikátor. Na základe úspešnosti jednotlivých modelov sme určili, ktoré atribúty sú najvýznamnejšie pri predikovaní premennej indikátor. Najúspešnejší model(tohto typu) využíval na predikovanie premennej indikátor niekoľko atribútov a to okrem iných opäť atribúty  **trombocyty, leukocyty, hematokrit a etytr**. V tomto prípade vyberáme dôležité atribúty na základe toho, koľkokrát sa alg. strojového učenia pri klasifikovaní rozhodoval na základe hodnoty tohto atribútu.\n",
    "\n",
    "V závislosti od rozdelenia datasetov na trénovaciu a testovaciu sadu sa niekedy líši počet optimálnych atribútov pre daný model a rovnako aj ich rozloženie a celková úspešnosť modelu. Avšak pri všetkých nami doposial testovaných spusteniach najúspešnejší model vždy využíval minimálne 4 atribúty a tieto vždy obsahovali trombocyty, leukocyty, hematokrit a etytr."
   ]
  },
  {
   "cell_type": "code",
   "execution_count": 94,
   "id": "08b18d0e",
   "metadata": {},
   "outputs": [
    {
     "name": "stdout",
     "output_type": "stream",
     "text": [
      "Optimálny počet sledovaných atribútov pre strojové učenie 8\n",
      "Optimálne atribúty pre strojové učenie podľa wrapper metódy Index(['age', 'leukocyty', 'weight', 'hematokrit', 'trombocyty', 'etytr',\n",
      "       'erytrocyty', 'hemoglobin'],\n",
      "      dtype='object')\n",
      "Úspešnosť modelu: 0.9076305220883534 typu rozhodovací strom(DecisionTreeClassifier), ktorý na predikovanie hodnoty indicator využíval tieto atribúty\n",
      "Atribút: sex, Vybraný modelom pri klasifikácií: False, Poradie významnosti atribútu: 10.0\n",
      "Atribút: blood_group, Vybraný modelom pri klasifikácií: False, Poradie významnosti atribútu: 8.0\n",
      "Atribút: race, Vybraný modelom pri klasifikácií: False, Poradie významnosti atribútu: 9.0\n",
      "Atribút: age, Vybraný modelom pri klasifikácií: True, Poradie významnosti atribútu: 1.0\n",
      "Atribút: leukocyty, Vybraný modelom pri klasifikácií: True, Poradie významnosti atribútu: 1.0\n",
      "Atribút: weight, Vybraný modelom pri klasifikácií: True, Poradie významnosti atribútu: 1.0\n",
      "Atribút: hbver, Vybraný modelom pri klasifikácií: False, Poradie významnosti atribútu: 5.0\n",
      "Atribút: er-cv, Vybraný modelom pri klasifikácií: False, Poradie významnosti atribútu: 2.0\n",
      "Atribút: ast, Vybraný modelom pri klasifikácií: False, Poradie významnosti atribútu: 3.0\n",
      "Atribút: hematokrit, Vybraný modelom pri klasifikácií: True, Poradie významnosti atribútu: 1.0\n",
      "Atribút: trombocyty, Vybraný modelom pri klasifikácií: True, Poradie významnosti atribútu: 1.0\n",
      "Atribút: smoker, Vybraný modelom pri klasifikácií: False, Poradie významnosti atribútu: 11.0\n",
      "Atribút: alt, Vybraný modelom pri klasifikácií: False, Poradie významnosti atribútu: 4.0\n",
      "Atribút: etytr, Vybraný modelom pri klasifikácií: True, Poradie významnosti atribútu: 1.0\n",
      "Atribút: erytrocyty, Vybraný modelom pri klasifikácií: True, Poradie významnosti atribútu: 1.0\n",
      "Atribút: hemoglobin, Vybraný modelom pri klasifikácií: True, Poradie významnosti atribútu: 1.0\n",
      "Atribút: alp, Vybraný modelom pri klasifikácií: False, Poradie významnosti atribútu: 6.0\n",
      "Atribút: relationship, Vybraný modelom pri klasifikácií: False, Poradie významnosti atribútu: 7.0\n"
     ]
    }
   ],
   "source": [
    "from sklearn.feature_selection import RFE\n",
    "from sklearn.tree import DecisionTreeClassifier\n",
    "\n",
    "model = DecisionTreeClassifier()\n",
    "\n",
    "X = data_train\n",
    "y = y_train\n",
    "cols = list(X.columns)\n",
    "\n",
    "nof_list=np.arange(1,len(cols))            \n",
    "nof=0       \n",
    "high_score=0\n",
    "score_list =[]\n",
    "\n",
    "for n in range(len(nof_list)):\n",
    "    X_train, X_test, y_trainloc, y_testloc = train_test_split(X,y, test_size = 0.3, random_state = 0)\n",
    "    rfe = RFE(model,nof_list[n])\n",
    "    X_train_rfe = rfe.fit_transform(X_train,y_trainloc)\n",
    "    X_test_rfe = rfe.transform(X_test)\n",
    "    model.fit(X_train_rfe,y_trainloc)\n",
    "    score = model.score(X_test_rfe,y_testloc)\n",
    "    score_list.append(score)\n",
    "    if(score>high_score):\n",
    "        high_score = score\n",
    "        nof = nof_list[n]\n",
    "\n",
    "optimal_number_of_features = nof\n",
    "\n",
    "print(\"Optimálny počet sledovaných atribútov pre strojové učenie\",nof)\n",
    "\n",
    "rfe = RFE(model, optimal_number_of_features)  \n",
    "X_rfe = rfe.fit_transform(X,y)  \n",
    "model.fit(X_rfe,y)              \n",
    "temp = pd.Series(rfe.support_,index = cols)\n",
    "selected_features_rfe = temp[temp==True].index\n",
    "\n",
    "\n",
    "print(\"Optimálne atribúty pre strojové učenie podľa wrapper metódy\",selected_features_rfe)\n",
    "print('Úspešnosť modelu: %s typu rozhodovací strom(DecisionTreeClassifier), ktorý na predikovanie hodnoty indicator využíval tieto atribúty' % (str(high_score)))\n",
    "for i in range(X.shape[1]):\n",
    "\tprint('Atribút: %s, Vybraný modelom pri klasifikácií: %s, Poradie významnosti atribútu: %.1f' % (X.columns[i], rfe.support_[i], rfe.ranking_[i]))\n",
    "\n",
    "#výsledný zdrojový kód je upravený kód zo stránok \n",
    "#zdroj a teória kódu: https://towardsdatascience.com/feature-selection-with-pandas-e3690ad8504b\n",
    "#zdroj a teória kódu: https://machinelearningmastery.com/rfe-feature-selection-in-python/"
   ]
  },
  {
   "cell_type": "markdown",
   "id": "737e3f53",
   "metadata": {},
   "source": [
    "Medzi atribúty datasetu, ktoré využíval najúspešnejší klasifikátor(DecisionTreeClassifier) patrili:\n",
    "   \n",
    "    1. leukocyty\n",
    "    2. hematokrit\n",
    "    3. trombocyty\n",
    "    4. etytr\n",
    "    \n",
    "Tento typ klasifikačného modelu dosiahol klasifikačnú presnosť atribútu indicator na základe kombinácie daných atribútov až na úrovni okolo 90%. Rovnako na základe poradia významnosti atribútov(hodnota 1 je najvýznamnejší atribút), možno predpokladať, že rovnako ako pre Pearsonovu koreláciu aj tu sú okrem iných atribúty **trombocyty, leukocyty, hematokrit a etytr** sú klúčové atribúty datasetu pre predikovanie hodnoty indikátora."
   ]
  },
  {
   "cell_type": "markdown",
   "id": "ec7313ff",
   "metadata": {},
   "source": [
    "### Výberové techniky typu embedded:"
   ]
  },
  {
   "cell_type": "markdown",
   "id": "0d8e1e9c",
   "metadata": {},
   "source": [
    "**1. Lasso technika**"
   ]
  },
  {
   "cell_type": "markdown",
   "id": "788f4c5b",
   "metadata": {},
   "source": [
    "Technika lasso je vhodná pre výber významných atribútov vzhľadom na ich dôležiťosť pri predikovaní hondoty predikovanje premennej. Atribúty, ktoré majú hodnotu Lasso resp. koeficientu významnosti rovnú 0 alebo veľmi blízku 0 sú atribúty, ktoré sú nevýznamné pri predikovaní hodnoty predikovanej premennej. Naopak atribútych, ktorých koeficient významnosti je v absolútnej hodnote čo najväčší sú významné pri predikovaní hondoty predikovanej premennej."
   ]
  },
  {
   "cell_type": "code",
   "execution_count": 95,
   "id": "17bcf63c",
   "metadata": {},
   "outputs": [
    {
     "data": {
      "text/plain": [
       "Text(0.5, 1.0, 'Dôležitosť jednotlivých atribútov s využitím lasso techniky')"
      ]
     },
     "execution_count": 95,
     "metadata": {},
     "output_type": "execute_result"
    },
    {
     "data": {
      "image/png": "[encoded data removed]",
      "text/plain": [
       "<Figure size 432x288 with 1 Axes>"
      ]
     },
     "metadata": {
      "needs_background": "light"
     },
     "output_type": "display_data"
    }
   ],
   "source": [
    "from sklearn.linear_model import LassoCV\n",
    "reg = LassoCV()\n",
    "reg.fit(data_train, y_train)\n",
    "coef = pd.Series(reg.coef_, index = X.columns)\n",
    "importance_coefficient = coef.sort_values()\n",
    "importance_coefficient.plot(kind = \"barh\")\n",
    "plt.title(\"Dôležitosť jednotlivých atribútov s využitím lasso techniky\")\n",
    "#zdroj: https://towardsdatascience.com/feature-selection-with-pandas-e3690ad8504b"
   ]
  },
  {
   "cell_type": "markdown",
   "id": "c4af23fc",
   "metadata": {},
   "source": [
    "Na základe aplikovania Lasso techniky opäť z grafu vidíme, že atribúty ktoré sú dôležité pre  **trombocyty, leukocyty, hematokrit a etytr** pričom poradie ich dôležitosti možno opäť určiť na základe absolútnej veľkosti ich koeficientu určeného grafom. \n",
    "\n",
    "    1. trombocyty\n",
    "    2. hematokrit\n",
    "    3. etytr\n",
    "    4. leukocyty\n",
    "    \n",
    "Vidíme, že dostávame rovnaké poradie dôležitosti atribútov ako pri **Pearsonovej korelácií**(s výnimkou leukocytov keďže tie priamo nekorelujú s inidkátorom), a zároveň sa potvrdil náš predpoklad, že keďže existuje vzájomná korelácia medzi atribútom leukocyty a etytr a atribútom leukocyty a hematokrit bude atribút **leukocyty tiež významný pri predikovaní hodnoty indikátoru.**"
   ]
  },
  {
   "cell_type": "markdown",
   "id": "e6ef362e",
   "metadata": {},
   "source": [
    "## Atribúty pre strojové učenie"
   ]
  },
  {
   "cell_type": "markdown",
   "id": "75de5b1a",
   "metadata": {},
   "source": [
    "**Zoradenie atribútov podľa rôznych metodík výberu významných atribútov - na základe korelácie s atribútom indicator, významnosti pre klasifikačný model rozhodovací strom a na základe Lasso metódy**"
   ]
  },
  {
   "cell_type": "markdown",
   "id": "41645205",
   "metadata": {},
   "source": [
    "    1. Trombocyty\n",
    "    2. Hematokrit\n",
    "    3. Etytr\n",
    "    4. Leukocyty"
   ]
  },
  {
   "cell_type": "markdown",
   "id": "37c9c371",
   "metadata": {},
   "source": [
    "Na základe korelácií hodnôt jednotlivých atribútov sme sa rozodli usporiadať atribúty podľa dôležitosti vzhľadom na predikciu hodnoty indikátor nasledovne(od najdôležistejšieho)"
   ]
  },
  {
   "cell_type": "markdown",
   "id": "010559db",
   "metadata": {},
   "source": [
    "## 4. Replikovateľnosť predspracovania"
   ]
  },
  {
   "cell_type": "code",
   "execution_count": 114,
   "id": "8f5f73f5",
   "metadata": {},
   "outputs": [
    {
     "data": {
      "text/html": [
       "<div>\n",
       "<style scoped>\n",
       "    .dataframe tbody tr th:only-of-type {\n",
       "        vertical-align: middle;\n",
       "    }\n",
       "\n",
       "    .dataframe tbody tr th {\n",
       "        vertical-align: top;\n",
       "    }\n",
       "\n",
       "    .dataframe thead th {\n",
       "        text-align: right;\n",
       "    }\n",
       "</style>\n",
       "<table border=\"1\" class=\"dataframe\">\n",
       "  <thead>\n",
       "    <tr style=\"text-align: right;\">\n",
       "      <th></th>\n",
       "      <th>job</th>\n",
       "      <th>company</th>\n",
       "      <th>sex</th>\n",
       "      <th>residence</th>\n",
       "      <th>blood_group</th>\n",
       "      <th>ssn</th>\n",
       "      <th>name</th>\n",
       "      <th>birthdate</th>\n",
       "      <th>race</th>\n",
       "      <th>age</th>\n",
       "      <th>...</th>\n",
       "      <th>indicator</th>\n",
       "      <th>hematokrit</th>\n",
       "      <th>trombocyty</th>\n",
       "      <th>smoker</th>\n",
       "      <th>alt</th>\n",
       "      <th>etytr</th>\n",
       "      <th>erytrocyty</th>\n",
       "      <th>hemoglobin</th>\n",
       "      <th>alp</th>\n",
       "      <th>relationship</th>\n",
       "    </tr>\n",
       "  </thead>\n",
       "  <tbody>\n",
       "    <tr>\n",
       "      <th>6696</th>\n",
       "      <td>Teacher, primary school</td>\n",
       "      <td>Fowler, Stone and Gibson</td>\n",
       "      <td>M</td>\n",
       "      <td>097 Mark Mountains\\r\\nPort Amandatown, TN 97330</td>\n",
       "      <td>A-</td>\n",
       "      <td>888-28-9672</td>\n",
       "      <td>Frank Arnold</td>\n",
       "      <td>1981-11-07</td>\n",
       "      <td>White</td>\n",
       "      <td>40</td>\n",
       "      <td>...</td>\n",
       "      <td>1.0</td>\n",
       "      <td>7.49011</td>\n",
       "      <td>5.13414</td>\n",
       "      <td>no</td>\n",
       "      <td>6.663080</td>\n",
       "      <td>5.414130</td>\n",
       "      <td>5.17944</td>\n",
       "      <td>7.95201</td>\n",
       "      <td>49.710130</td>\n",
       "      <td>married</td>\n",
       "    </tr>\n",
       "    <tr>\n",
       "      <th>4240</th>\n",
       "      <td>Clinical molecular geneticist</td>\n",
       "      <td>Miller Group</td>\n",
       "      <td>F</td>\n",
       "      <td>35315 Turner Village\\r\\nYvetteburgh, AR 90139</td>\n",
       "      <td>B-</td>\n",
       "      <td>476-13-5438</td>\n",
       "      <td>Danielle Hendrix</td>\n",
       "      <td>1944-06-18</td>\n",
       "      <td>White</td>\n",
       "      <td>77</td>\n",
       "      <td>...</td>\n",
       "      <td>1.0</td>\n",
       "      <td>8.04675</td>\n",
       "      <td>7.18682</td>\n",
       "      <td>yes</td>\n",
       "      <td>5.954890</td>\n",
       "      <td>7.051010</td>\n",
       "      <td>7.39954</td>\n",
       "      <td>7.84155</td>\n",
       "      <td>48.267150</td>\n",
       "      <td>married</td>\n",
       "    </tr>\n",
       "    <tr>\n",
       "      <th>5644</th>\n",
       "      <td>Geographical information systems officer</td>\n",
       "      <td>Scott-Willis</td>\n",
       "      <td>M</td>\n",
       "      <td>2010 Matthew Burg\\r\\nSouth Christopher, LA 80329</td>\n",
       "      <td>A-</td>\n",
       "      <td>162-60-1068</td>\n",
       "      <td>Bruce Briggs</td>\n",
       "      <td>1978-04-24</td>\n",
       "      <td>White</td>\n",
       "      <td>43</td>\n",
       "      <td>...</td>\n",
       "      <td>1.0</td>\n",
       "      <td>5.55444</td>\n",
       "      <td>4.36256</td>\n",
       "      <td>no</td>\n",
       "      <td>17.426190</td>\n",
       "      <td>4.093300</td>\n",
       "      <td>8.13805</td>\n",
       "      <td>7.57340</td>\n",
       "      <td>55.321510</td>\n",
       "      <td>married</td>\n",
       "    </tr>\n",
       "    <tr>\n",
       "      <th>4597</th>\n",
       "      <td>Therapist, horticultural</td>\n",
       "      <td>Walsh, Knapp and Franklin</td>\n",
       "      <td>F</td>\n",
       "      <td>220 Kenneth Square\\r\\nJamesville, CO 78082</td>\n",
       "      <td>AB-</td>\n",
       "      <td>199-28-3927</td>\n",
       "      <td>Natasha Parrish</td>\n",
       "      <td>1915-05-04</td>\n",
       "      <td>White</td>\n",
       "      <td>106</td>\n",
       "      <td>...</td>\n",
       "      <td>0.0</td>\n",
       "      <td>5.84696</td>\n",
       "      <td>7.79475</td>\n",
       "      <td>no</td>\n",
       "      <td>6.391400</td>\n",
       "      <td>8.874401</td>\n",
       "      <td>5.10512</td>\n",
       "      <td>6.14458</td>\n",
       "      <td>84.640320</td>\n",
       "      <td>single</td>\n",
       "    </tr>\n",
       "    <tr>\n",
       "      <th>3411</th>\n",
       "      <td>Lexicographer</td>\n",
       "      <td>Neal Inc</td>\n",
       "      <td>F</td>\n",
       "      <td>834 Rachel Radial\\r\\nPort Harry, MD 02962</td>\n",
       "      <td>A+</td>\n",
       "      <td>240-79-3554</td>\n",
       "      <td>Patricia Williamson</td>\n",
       "      <td>1929-11-19</td>\n",
       "      <td>White</td>\n",
       "      <td>91</td>\n",
       "      <td>...</td>\n",
       "      <td>1.0</td>\n",
       "      <td>5.34040</td>\n",
       "      <td>8.20268</td>\n",
       "      <td>yes</td>\n",
       "      <td>5.086150</td>\n",
       "      <td>7.505290</td>\n",
       "      <td>5.80390</td>\n",
       "      <td>7.62668</td>\n",
       "      <td>57.337390</td>\n",
       "      <td>married</td>\n",
       "    </tr>\n",
       "    <tr>\n",
       "      <th>...</th>\n",
       "      <td>...</td>\n",
       "      <td>...</td>\n",
       "      <td>...</td>\n",
       "      <td>...</td>\n",
       "      <td>...</td>\n",
       "      <td>...</td>\n",
       "      <td>...</td>\n",
       "      <td>...</td>\n",
       "      <td>...</td>\n",
       "      <td>...</td>\n",
       "      <td>...</td>\n",
       "      <td>...</td>\n",
       "      <td>...</td>\n",
       "      <td>...</td>\n",
       "      <td>...</td>\n",
       "      <td>...</td>\n",
       "      <td>...</td>\n",
       "      <td>...</td>\n",
       "      <td>...</td>\n",
       "      <td>...</td>\n",
       "      <td>...</td>\n",
       "    </tr>\n",
       "    <tr>\n",
       "      <th>4448</th>\n",
       "      <td>Engineer, materials</td>\n",
       "      <td>Navarro, Hayes and Davis</td>\n",
       "      <td>F</td>\n",
       "      <td>888 Moody Island Suite 678\\r\\nKatelyntown, KS ...</td>\n",
       "      <td>AB+</td>\n",
       "      <td>537-11-9429</td>\n",
       "      <td>Alicia Collins</td>\n",
       "      <td>1912-03-04</td>\n",
       "      <td>White</td>\n",
       "      <td>109</td>\n",
       "      <td>...</td>\n",
       "      <td>0.0</td>\n",
       "      <td>8.00743</td>\n",
       "      <td>5.83842</td>\n",
       "      <td>no</td>\n",
       "      <td>3.712878</td>\n",
       "      <td>3.824400</td>\n",
       "      <td>4.85111</td>\n",
       "      <td>6.49381</td>\n",
       "      <td>87.042280</td>\n",
       "      <td>single</td>\n",
       "    </tr>\n",
       "    <tr>\n",
       "      <th>8870</th>\n",
       "      <td>Amenity horticulturist</td>\n",
       "      <td>Ellis, Clark and Morales</td>\n",
       "      <td>M</td>\n",
       "      <td>179 Ross Underpass Suite 036\\r\\nEast Brittany,...</td>\n",
       "      <td>B-</td>\n",
       "      <td>580-81-8878</td>\n",
       "      <td>David Walker</td>\n",
       "      <td>1970-06-20</td>\n",
       "      <td>Asian</td>\n",
       "      <td>51</td>\n",
       "      <td>...</td>\n",
       "      <td>1.0</td>\n",
       "      <td>5.71982</td>\n",
       "      <td>8.40127</td>\n",
       "      <td>no</td>\n",
       "      <td>7.497430</td>\n",
       "      <td>7.690370</td>\n",
       "      <td>6.22845</td>\n",
       "      <td>6.35488</td>\n",
       "      <td>89.688798</td>\n",
       "      <td>single</td>\n",
       "    </tr>\n",
       "    <tr>\n",
       "      <th>9105</th>\n",
       "      <td>Adult guidance worker</td>\n",
       "      <td>Clark, Cline and Cruz</td>\n",
       "      <td>F</td>\n",
       "      <td>PSC 1832, Box 7394\\r\\nAPO AE 87401</td>\n",
       "      <td>A-</td>\n",
       "      <td>648-89-1419</td>\n",
       "      <td>Dr. Mary Hart</td>\n",
       "      <td>1950-08-24</td>\n",
       "      <td>White</td>\n",
       "      <td>71</td>\n",
       "      <td>...</td>\n",
       "      <td>1.0</td>\n",
       "      <td>4.89059</td>\n",
       "      <td>4.90972</td>\n",
       "      <td>no</td>\n",
       "      <td>5.750210</td>\n",
       "      <td>6.166380</td>\n",
       "      <td>5.95869</td>\n",
       "      <td>8.28593</td>\n",
       "      <td>24.056600</td>\n",
       "      <td>divorced</td>\n",
       "    </tr>\n",
       "    <tr>\n",
       "      <th>5938</th>\n",
       "      <td>Engineer, maintenance</td>\n",
       "      <td>Clark, Day and Bishop</td>\n",
       "      <td>M</td>\n",
       "      <td>92188 John Mills Apt. 236\\r\\nLake Lukeborough,...</td>\n",
       "      <td>AB-</td>\n",
       "      <td>671-48-6781</td>\n",
       "      <td>Austin Garza</td>\n",
       "      <td>1944-07-18</td>\n",
       "      <td>Asian</td>\n",
       "      <td>77</td>\n",
       "      <td>...</td>\n",
       "      <td>1.0</td>\n",
       "      <td>4.24584</td>\n",
       "      <td>7.37040</td>\n",
       "      <td>no</td>\n",
       "      <td>6.169140</td>\n",
       "      <td>7.225110</td>\n",
       "      <td>6.47913</td>\n",
       "      <td>8.95280</td>\n",
       "      <td>24.037958</td>\n",
       "      <td>single</td>\n",
       "    </tr>\n",
       "    <tr>\n",
       "      <th>5480</th>\n",
       "      <td>Minerals surveyor</td>\n",
       "      <td>Riley LLC</td>\n",
       "      <td>F</td>\n",
       "      <td>7610 Sarah Creek\\r\\nEast Joshua, IN 89051</td>\n",
       "      <td>AB+</td>\n",
       "      <td>018-76-4626</td>\n",
       "      <td>Ashley Wallace</td>\n",
       "      <td>1997-09-30</td>\n",
       "      <td>Asian</td>\n",
       "      <td>24</td>\n",
       "      <td>...</td>\n",
       "      <td>0.0</td>\n",
       "      <td>6.20307</td>\n",
       "      <td>8.23847</td>\n",
       "      <td>yes</td>\n",
       "      <td>9.364490</td>\n",
       "      <td>8.874401</td>\n",
       "      <td>7.34131</td>\n",
       "      <td>8.27112</td>\n",
       "      <td>31.344080</td>\n",
       "      <td>divorced</td>\n",
       "    </tr>\n",
       "  </tbody>\n",
       "</table>\n",
       "<p>3270 rows × 27 columns</p>\n",
       "</div>"
      ],
      "text/plain": [
       "                                           job                    company sex  \\\n",
       "6696                   Teacher, primary school   Fowler, Stone and Gibson   M   \n",
       "4240             Clinical molecular geneticist               Miller Group   F   \n",
       "5644  Geographical information systems officer               Scott-Willis   M   \n",
       "4597                  Therapist, horticultural  Walsh, Knapp and Franklin   F   \n",
       "3411                             Lexicographer                   Neal Inc   F   \n",
       "...                                        ...                        ...  ..   \n",
       "4448                       Engineer, materials   Navarro, Hayes and Davis   F   \n",
       "8870                    Amenity horticulturist   Ellis, Clark and Morales   M   \n",
       "9105                     Adult guidance worker      Clark, Cline and Cruz   F   \n",
       "5938                     Engineer, maintenance      Clark, Day and Bishop   M   \n",
       "5480                         Minerals surveyor                  Riley LLC   F   \n",
       "\n",
       "                                              residence blood_group  \\\n",
       "6696    097 Mark Mountains\\r\\nPort Amandatown, TN 97330          A-   \n",
       "4240      35315 Turner Village\\r\\nYvetteburgh, AR 90139          B-   \n",
       "5644   2010 Matthew Burg\\r\\nSouth Christopher, LA 80329          A-   \n",
       "4597         220 Kenneth Square\\r\\nJamesville, CO 78082         AB-   \n",
       "3411          834 Rachel Radial\\r\\nPort Harry, MD 02962          A+   \n",
       "...                                                 ...         ...   \n",
       "4448  888 Moody Island Suite 678\\r\\nKatelyntown, KS ...         AB+   \n",
       "8870  179 Ross Underpass Suite 036\\r\\nEast Brittany,...          B-   \n",
       "9105                 PSC 1832, Box 7394\\r\\nAPO AE 87401          A-   \n",
       "5938  92188 John Mills Apt. 236\\r\\nLake Lukeborough,...         AB-   \n",
       "5480          7610 Sarah Creek\\r\\nEast Joshua, IN 89051         AB+   \n",
       "\n",
       "              ssn                 name   birthdate   race  age  ...  \\\n",
       "6696  888-28-9672         Frank Arnold  1981-11-07  White   40  ...   \n",
       "4240  476-13-5438     Danielle Hendrix  1944-06-18  White   77  ...   \n",
       "5644  162-60-1068         Bruce Briggs  1978-04-24  White   43  ...   \n",
       "4597  199-28-3927      Natasha Parrish  1915-05-04  White  106  ...   \n",
       "3411  240-79-3554  Patricia Williamson  1929-11-19  White   91  ...   \n",
       "...           ...                  ...         ...    ...  ...  ...   \n",
       "4448  537-11-9429       Alicia Collins  1912-03-04  White  109  ...   \n",
       "8870  580-81-8878         David Walker  1970-06-20  Asian   51  ...   \n",
       "9105  648-89-1419        Dr. Mary Hart  1950-08-24  White   71  ...   \n",
       "5938  671-48-6781         Austin Garza  1944-07-18  Asian   77  ...   \n",
       "5480  018-76-4626       Ashley Wallace  1997-09-30  Asian   24  ...   \n",
       "\n",
       "      indicator  hematokrit  trombocyty smoker        alt     etytr  \\\n",
       "6696        1.0     7.49011     5.13414     no   6.663080  5.414130   \n",
       "4240        1.0     8.04675     7.18682    yes   5.954890  7.051010   \n",
       "5644        1.0     5.55444     4.36256     no  17.426190  4.093300   \n",
       "4597        0.0     5.84696     7.79475     no   6.391400  8.874401   \n",
       "3411        1.0     5.34040     8.20268    yes   5.086150  7.505290   \n",
       "...         ...         ...         ...    ...        ...       ...   \n",
       "4448        0.0     8.00743     5.83842     no   3.712878  3.824400   \n",
       "8870        1.0     5.71982     8.40127     no   7.497430  7.690370   \n",
       "9105        1.0     4.89059     4.90972     no   5.750210  6.166380   \n",
       "5938        1.0     4.24584     7.37040     no   6.169140  7.225110   \n",
       "5480        0.0     6.20307     8.23847    yes   9.364490  8.874401   \n",
       "\n",
       "      erytrocyty  hemoglobin        alp  relationship  \n",
       "6696     5.17944     7.95201  49.710130       married  \n",
       "4240     7.39954     7.84155  48.267150       married  \n",
       "5644     8.13805     7.57340  55.321510       married  \n",
       "4597     5.10512     6.14458  84.640320        single  \n",
       "3411     5.80390     7.62668  57.337390       married  \n",
       "...          ...         ...        ...           ...  \n",
       "4448     4.85111     6.49381  87.042280        single  \n",
       "8870     6.22845     6.35488  89.688798        single  \n",
       "9105     5.95869     8.28593  24.056600      divorced  \n",
       "5938     6.47913     8.95280  24.037958        single  \n",
       "5480     7.34131     8.27112  31.344080      divorced  \n",
       "\n",
       "[3270 rows x 27 columns]"
      ]
     },
     "execution_count": 114,
     "metadata": {},
     "output_type": "execute_result"
    }
   ],
   "source": [
    "from sklearn.preprocessing import StandardScaler\n",
    "from sklearn.impute import SimpleImputer\n",
    "from sklearn.compose import ColumnTransformer\n",
    "from sklearn.pipeline import Pipeline\n",
    "from sklearn.model_selection import train_test_split\n",
    "from sklearn.feature_selection import SelectPercentile\n",
    "\n",
    "X_test = data_test.drop('indicator', axis=1)\n",
    "Y_test = data_test['indicator']\n",
    "data_test"
   ]
  },
  {
   "cell_type": "markdown",
   "id": "ac7a349a",
   "metadata": {},
   "source": [
    "Na začiatok importujeme potrebné knižnice a pripravíme testovaciu množinu na spracovanie.\n",
    "\n",
    "Následne si zadefinujeme potrebné premenné - atribúty ktoré budeme dropovať, číselné atribúty, kategorické atribúty a atribúty na PowerTransform:"
   ]
  },
  {
   "cell_type": "code",
   "execution_count": 122,
   "id": "20f986f9",
   "metadata": {},
   "outputs": [],
   "source": [
    "drop_atributes = ['name', 'job', 'company', 'residence', 'birthdate', 'ssn', 'HK group', 'weight group']\n",
    "numeric_atributes = ['hbver', 'er-cv', 'hematokrit', 'trombocyty', 'erytrocyty', 'hemoglobin']\n",
    "categorical_atributes = ['sex', 'blood_group', 'race', 'smoker', 'relationship','indicator']\n",
    "power_transform_atributes = ['age', 'leukocyty', 'weight', 'ast', 'alt', 'etytr', 'alp']"
   ]
  },
  {
   "cell_type": "markdown",
   "id": "501050f8",
   "metadata": {},
   "source": [
    "Vytvoríme si vlastný imputer aby sme mohli pri pipeline používať vlastné funkcie :"
   ]
  },
  {
   "cell_type": "code",
   "execution_count": 116,
   "id": "85040310",
   "metadata": {},
   "outputs": [],
   "source": [
    "class CustomImputer():\n",
    "    def __init__(self, func, argument):\n",
    "        self.func = func\n",
    "        self.argument = argument\n",
    "        \n",
    "    def transform(self, input_df, **transform_params):\n",
    "        return self.func(input_df, self.argument)\n",
    "    \n",
    "    def fit(self, X, y=None, **fit_params):\n",
    "        return self"
   ]
  },
  {
   "cell_type": "markdown",
   "id": "21829f0b",
   "metadata": {},
   "source": [
    "Nasledujú transformery pipeline-u :\n",
    "\n",
    "- **drop_transformer** - odstráni zadané atribúty z datasetu\n",
    "\n",
    "- **numeric_transformer** - preškáluje dáta Standard Scaler-om\n",
    "\n",
    "- **categorical_transformer** - premení kategorické dáta na numerické našou vlastnou funkciou\n",
    "\n",
    "- **power_transformer** - aplikuje škálovanie aj PowerTransform na vybraté atribúty"
   ]
  },
  {
   "cell_type": "code",
   "execution_count": 117,
   "id": "032708cf",
   "metadata": {},
   "outputs": [],
   "source": [
    "drop_transformer = ColumnTransformer(transformers=[('drop_columns', 'drop', drop_atributes)], remainder='passthrough')\n",
    "\n",
    "numeric_transformer = Pipeline([\n",
    "    ('standardscaler', StandardScaler())\n",
    "])\n",
    "\n",
    "categorical_transformer = Pipeline([\n",
    "    ('encoder', CustomImputer(encode, categorical_atributes))\n",
    "])\n",
    "\n",
    "power_transformer = Pipeline([\n",
    "    ('standardscaler', StandardScaler()),\n",
    "    ('power_transform', PowerTransformer(method='yeo-johnson', standardize=True))\n",
    "    \n",
    "])"
   ]
  },
  {
   "cell_type": "markdown",
   "id": "e0f6d50f",
   "metadata": {},
   "source": [
    "Vytvoríme **ColumnTransformer** s našími transformermi z predchádzajúceho bloku :"
   ]
  },
  {
   "cell_type": "code",
   "execution_count": 118,
   "id": "75dc7a50",
   "metadata": {},
   "outputs": [],
   "source": [
    "col_transformer = ColumnTransformer(transformers=[\n",
    "        ('drop_columns', 'drop', drop_atributes),\n",
    "        ('numeric_processing', numeric_transformer, numeric_atributes),\n",
    "        ('power_transform_processing', power_transformer, power_transform_atributes),\n",
    "        ('categorical_processing', categorical_transformer, categorical_atributes)\n",
    "        ], remainder='passthrough')"
   ]
  },
  {
   "cell_type": "markdown",
   "id": "b5e92fae",
   "metadata": {},
   "source": [
    "A nakoniec to všetko spojíme do jedného **Pipeline** objektu"
   ]
  },
  {
   "cell_type": "code",
   "execution_count": 119,
   "id": "f36d575d",
   "metadata": {
    "scrolled": false
   },
   "outputs": [
    {
     "name": "stdout",
     "output_type": "stream",
     "text": [
      "Atribut sex :\n",
      "F -> 0\n",
      "M -> 1\n",
      "Atribut blood_group :\n",
      "A+ -> 0\n",
      "A- -> 1\n",
      "AB+ -> 2\n",
      "AB- -> 3\n",
      "B+ -> 4\n",
      "B- -> 5\n",
      "O+ -> 6\n",
      "O- -> 7\n",
      "Atribut race :\n",
      "Asian -> 0\n",
      "Black -> 1\n",
      "Hawaiian -> 2\n",
      "Indian -> 3\n",
      "White -> 4\n",
      "Atribut smoker :\n",
      "no -> 0\n",
      "yes -> 1\n",
      "Atribut relationship :\n",
      "divorced -> 0\n",
      "married -> 1\n",
      "nop -> 2\n",
      "separated -> 3\n",
      "single -> 4\n",
      "widowed -> 5\n",
      "Atribut indicator :\n",
      "0.0 -> 0\n",
      "1.0 -> 1\n",
      "Atribut sex :\n",
      "F -> 0\n",
      "M -> 1\n",
      "Atribut blood_group :\n",
      "A+ -> 0\n",
      "A- -> 1\n",
      "AB+ -> 2\n",
      "AB- -> 3\n",
      "B+ -> 4\n",
      "B- -> 5\n",
      "O+ -> 6\n",
      "O- -> 7\n",
      "Atribut race :\n",
      "Asian -> 0\n",
      "Black -> 1\n",
      "Hawaiian -> 2\n",
      "Indian -> 3\n",
      "White -> 4\n",
      "Atribut smoker :\n",
      "no -> 0\n",
      "yes -> 1\n",
      "Atribut relationship :\n",
      "divorced -> 0\n",
      "married -> 1\n",
      "nop -> 2\n",
      "separated -> 3\n",
      "single -> 4\n",
      "widowed -> 5\n",
      "Atribut indicator :\n",
      "0.0 -> 0\n",
      "1.0 -> 1\n"
     ]
    },
    {
     "data": {
      "text/html": [
       "<div>\n",
       "<style scoped>\n",
       "    .dataframe tbody tr th:only-of-type {\n",
       "        vertical-align: middle;\n",
       "    }\n",
       "\n",
       "    .dataframe tbody tr th {\n",
       "        vertical-align: top;\n",
       "    }\n",
       "\n",
       "    .dataframe thead th {\n",
       "        text-align: right;\n",
       "    }\n",
       "</style>\n",
       "<table border=\"1\" class=\"dataframe\">\n",
       "  <thead>\n",
       "    <tr style=\"text-align: right;\">\n",
       "      <th></th>\n",
       "      <th>hbver</th>\n",
       "      <th>er-cv</th>\n",
       "      <th>hematokrit</th>\n",
       "      <th>trombocyty</th>\n",
       "      <th>erytrocyty</th>\n",
       "      <th>hemoglobin</th>\n",
       "      <th>age</th>\n",
       "      <th>leukocyty</th>\n",
       "      <th>weight</th>\n",
       "      <th>ast</th>\n",
       "      <th>alt</th>\n",
       "      <th>etytr</th>\n",
       "      <th>alp</th>\n",
       "      <th>sex</th>\n",
       "      <th>blood_group</th>\n",
       "      <th>race</th>\n",
       "      <th>smoker</th>\n",
       "      <th>relationship</th>\n",
       "      <th>indicator</th>\n",
       "    </tr>\n",
       "  </thead>\n",
       "  <tbody>\n",
       "    <tr>\n",
       "      <th>count</th>\n",
       "      <td>6.638000e+03</td>\n",
       "      <td>6.638000e+03</td>\n",
       "      <td>6.638000e+03</td>\n",
       "      <td>6.638000e+03</td>\n",
       "      <td>6.638000e+03</td>\n",
       "      <td>6.638000e+03</td>\n",
       "      <td>6.638000e+03</td>\n",
       "      <td>6.638000e+03</td>\n",
       "      <td>6.638000e+03</td>\n",
       "      <td>6.638000e+03</td>\n",
       "      <td>6.638000e+03</td>\n",
       "      <td>6.638000e+03</td>\n",
       "      <td>6.638000e+03</td>\n",
       "      <td>6638.000000</td>\n",
       "      <td>6638.000000</td>\n",
       "      <td>6638.00000</td>\n",
       "      <td>6638.000000</td>\n",
       "      <td>6638.00000</td>\n",
       "      <td>6638.000000</td>\n",
       "    </tr>\n",
       "    <tr>\n",
       "      <th>mean</th>\n",
       "      <td>-8.809531e-16</td>\n",
       "      <td>4.238851e-16</td>\n",
       "      <td>2.028440e-16</td>\n",
       "      <td>1.445063e-16</td>\n",
       "      <td>-2.151538e-16</td>\n",
       "      <td>2.130130e-16</td>\n",
       "      <td>-5.138001e-17</td>\n",
       "      <td>-2.033792e-17</td>\n",
       "      <td>-2.542240e-18</td>\n",
       "      <td>1.418302e-17</td>\n",
       "      <td>2.997167e-17</td>\n",
       "      <td>-1.284500e-17</td>\n",
       "      <td>-8.563335e-18</td>\n",
       "      <td>0.484634</td>\n",
       "      <td>3.507382</td>\n",
       "      <td>2.62790</td>\n",
       "      <td>0.403284</td>\n",
       "      <td>2.07201</td>\n",
       "      <td>0.643417</td>\n",
       "    </tr>\n",
       "    <tr>\n",
       "      <th>std</th>\n",
       "      <td>1.000075e+00</td>\n",
       "      <td>1.000075e+00</td>\n",
       "      <td>1.000075e+00</td>\n",
       "      <td>1.000075e+00</td>\n",
       "      <td>1.000075e+00</td>\n",
       "      <td>1.000075e+00</td>\n",
       "      <td>1.000075e+00</td>\n",
       "      <td>1.000075e+00</td>\n",
       "      <td>1.000075e+00</td>\n",
       "      <td>1.000075e+00</td>\n",
       "      <td>1.000075e+00</td>\n",
       "      <td>1.000075e+00</td>\n",
       "      <td>1.000075e+00</td>\n",
       "      <td>0.499801</td>\n",
       "      <td>2.308807</td>\n",
       "      <td>1.57208</td>\n",
       "      <td>0.490594</td>\n",
       "      <td>1.74637</td>\n",
       "      <td>0.479026</td>\n",
       "    </tr>\n",
       "    <tr>\n",
       "      <th>min</th>\n",
       "      <td>-2.795667e+00</td>\n",
       "      <td>-2.769867e+00</td>\n",
       "      <td>-3.000918e+00</td>\n",
       "      <td>-2.778650e+00</td>\n",
       "      <td>-2.754303e+00</td>\n",
       "      <td>-2.751539e+00</td>\n",
       "      <td>-1.736188e+00</td>\n",
       "      <td>-2.638753e+00</td>\n",
       "      <td>-2.220109e+00</td>\n",
       "      <td>-2.834640e+00</td>\n",
       "      <td>-1.767266e+00</td>\n",
       "      <td>-1.872139e+00</td>\n",
       "      <td>-1.739610e+00</td>\n",
       "      <td>0.000000</td>\n",
       "      <td>0.000000</td>\n",
       "      <td>0.00000</td>\n",
       "      <td>0.000000</td>\n",
       "      <td>0.00000</td>\n",
       "      <td>0.000000</td>\n",
       "    </tr>\n",
       "    <tr>\n",
       "      <th>25%</th>\n",
       "      <td>-6.744161e-01</td>\n",
       "      <td>-6.784621e-01</td>\n",
       "      <td>-7.508196e-01</td>\n",
       "      <td>-7.204775e-01</td>\n",
       "      <td>-6.813231e-01</td>\n",
       "      <td>-6.858286e-01</td>\n",
       "      <td>-8.644336e-01</td>\n",
       "      <td>-8.079475e-01</td>\n",
       "      <td>-6.871778e-01</td>\n",
       "      <td>-6.954560e-01</td>\n",
       "      <td>-7.473206e-01</td>\n",
       "      <td>-6.976149e-01</td>\n",
       "      <td>-8.509677e-01</td>\n",
       "      <td>0.000000</td>\n",
       "      <td>1.000000</td>\n",
       "      <td>1.00000</td>\n",
       "      <td>0.000000</td>\n",
       "      <td>1.00000</td>\n",
       "      <td>0.000000</td>\n",
       "    </tr>\n",
       "    <tr>\n",
       "      <th>50%</th>\n",
       "      <td>-1.208931e-02</td>\n",
       "      <td>-1.380518e-02</td>\n",
       "      <td>-3.196523e-02</td>\n",
       "      <td>-5.350893e-02</td>\n",
       "      <td>2.810741e-03</td>\n",
       "      <td>-1.078061e-02</td>\n",
       "      <td>-2.113107e-02</td>\n",
       "      <td>4.977516e-02</td>\n",
       "      <td>2.502939e-03</td>\n",
       "      <td>9.671101e-04</td>\n",
       "      <td>-3.064074e-02</td>\n",
       "      <td>-1.613701e-02</td>\n",
       "      <td>1.081759e-01</td>\n",
       "      <td>0.000000</td>\n",
       "      <td>4.000000</td>\n",
       "      <td>4.00000</td>\n",
       "      <td>0.000000</td>\n",
       "      <td>1.50000</td>\n",
       "      <td>1.000000</td>\n",
       "    </tr>\n",
       "    <tr>\n",
       "      <th>75%</th>\n",
       "      <td>6.891081e-01</td>\n",
       "      <td>6.932943e-01</td>\n",
       "      <td>7.652435e-01</td>\n",
       "      <td>7.092860e-01</td>\n",
       "      <td>6.946017e-01</td>\n",
       "      <td>6.697122e-01</td>\n",
       "      <td>8.849233e-01</td>\n",
       "      <td>7.941958e-01</td>\n",
       "      <td>7.024023e-01</td>\n",
       "      <td>6.844516e-01</td>\n",
       "      <td>7.136042e-01</td>\n",
       "      <td>6.958230e-01</td>\n",
       "      <td>8.547744e-01</td>\n",
       "      <td>1.000000</td>\n",
       "      <td>6.000000</td>\n",
       "      <td>4.00000</td>\n",
       "      <td>1.000000</td>\n",
       "      <td>4.00000</td>\n",
       "      <td>1.000000</td>\n",
       "    </tr>\n",
       "    <tr>\n",
       "      <th>max</th>\n",
       "      <td>2.759087e+00</td>\n",
       "      <td>2.760188e+00</td>\n",
       "      <td>3.066962e+00</td>\n",
       "      <td>2.835174e+00</td>\n",
       "      <td>2.733163e+00</td>\n",
       "      <td>2.730671e+00</td>\n",
       "      <td>1.762512e+00</td>\n",
       "      <td>2.774126e+00</td>\n",
       "      <td>2.664742e+00</td>\n",
       "      <td>2.743717e+00</td>\n",
       "      <td>1.887773e+00</td>\n",
       "      <td>1.851675e+00</td>\n",
       "      <td>1.518320e+00</td>\n",
       "      <td>1.000000</td>\n",
       "      <td>7.000000</td>\n",
       "      <td>4.00000</td>\n",
       "      <td>1.000000</td>\n",
       "      <td>5.00000</td>\n",
       "      <td>1.000000</td>\n",
       "    </tr>\n",
       "  </tbody>\n",
       "</table>\n",
       "</div>"
      ],
      "text/plain": [
       "              hbver         er-cv    hematokrit    trombocyty    erytrocyty  \\\n",
       "count  6.638000e+03  6.638000e+03  6.638000e+03  6.638000e+03  6.638000e+03   \n",
       "mean  -8.809531e-16  4.238851e-16  2.028440e-16  1.445063e-16 -2.151538e-16   \n",
       "std    1.000075e+00  1.000075e+00  1.000075e+00  1.000075e+00  1.000075e+00   \n",
       "min   -2.795667e+00 -2.769867e+00 -3.000918e+00 -2.778650e+00 -2.754303e+00   \n",
       "25%   -6.744161e-01 -6.784621e-01 -7.508196e-01 -7.204775e-01 -6.813231e-01   \n",
       "50%   -1.208931e-02 -1.380518e-02 -3.196523e-02 -5.350893e-02  2.810741e-03   \n",
       "75%    6.891081e-01  6.932943e-01  7.652435e-01  7.092860e-01  6.946017e-01   \n",
       "max    2.759087e+00  2.760188e+00  3.066962e+00  2.835174e+00  2.733163e+00   \n",
       "\n",
       "         hemoglobin           age     leukocyty        weight           ast  \\\n",
       "count  6.638000e+03  6.638000e+03  6.638000e+03  6.638000e+03  6.638000e+03   \n",
       "mean   2.130130e-16 -5.138001e-17 -2.033792e-17 -2.542240e-18  1.418302e-17   \n",
       "std    1.000075e+00  1.000075e+00  1.000075e+00  1.000075e+00  1.000075e+00   \n",
       "min   -2.751539e+00 -1.736188e+00 -2.638753e+00 -2.220109e+00 -2.834640e+00   \n",
       "25%   -6.858286e-01 -8.644336e-01 -8.079475e-01 -6.871778e-01 -6.954560e-01   \n",
       "50%   -1.078061e-02 -2.113107e-02  4.977516e-02  2.502939e-03  9.671101e-04   \n",
       "75%    6.697122e-01  8.849233e-01  7.941958e-01  7.024023e-01  6.844516e-01   \n",
       "max    2.730671e+00  1.762512e+00  2.774126e+00  2.664742e+00  2.743717e+00   \n",
       "\n",
       "                alt         etytr           alp          sex  blood_group  \\\n",
       "count  6.638000e+03  6.638000e+03  6.638000e+03  6638.000000  6638.000000   \n",
       "mean   2.997167e-17 -1.284500e-17 -8.563335e-18     0.484634     3.507382   \n",
       "std    1.000075e+00  1.000075e+00  1.000075e+00     0.499801     2.308807   \n",
       "min   -1.767266e+00 -1.872139e+00 -1.739610e+00     0.000000     0.000000   \n",
       "25%   -7.473206e-01 -6.976149e-01 -8.509677e-01     0.000000     1.000000   \n",
       "50%   -3.064074e-02 -1.613701e-02  1.081759e-01     0.000000     4.000000   \n",
       "75%    7.136042e-01  6.958230e-01  8.547744e-01     1.000000     6.000000   \n",
       "max    1.887773e+00  1.851675e+00  1.518320e+00     1.000000     7.000000   \n",
       "\n",
       "             race       smoker  relationship    indicator  \n",
       "count  6638.00000  6638.000000    6638.00000  6638.000000  \n",
       "mean      2.62790     0.403284       2.07201     0.643417  \n",
       "std       1.57208     0.490594       1.74637     0.479026  \n",
       "min       0.00000     0.000000       0.00000     0.000000  \n",
       "25%       1.00000     0.000000       1.00000     0.000000  \n",
       "50%       4.00000     0.000000       1.50000     1.000000  \n",
       "75%       4.00000     1.000000       4.00000     1.000000  \n",
       "max       4.00000     1.000000       5.00000     1.000000  "
      ]
     },
     "execution_count": 119,
     "metadata": {},
     "output_type": "execute_result"
    }
   ],
   "source": [
    "pipeline = Pipeline([('trasform_column', col_transformer)])\n",
    "\n",
    "pipeline.fit(data_train_zaloha)\n",
    "transformed_data = pipeline.transform(data_train_zaloha)\n",
    "\n",
    "columns_list = numeric_atributes+power_transform_atributes+categorical_atributes\n",
    "\n",
    "pipeline_datatrain = pd.DataFrame(transformed_data, columns=columns_list)\n",
    "pipeline_datatrain.describe()"
   ]
  },
  {
   "cell_type": "code",
   "execution_count": 120,
   "id": "b4827a30",
   "metadata": {
    "scrolled": false
   },
   "outputs": [
    {
     "name": "stdout",
     "output_type": "stream",
     "text": [
      "Atribut sex :\n",
      "F -> 0\n",
      "M -> 1\n",
      "Atribut blood_group :\n",
      "A+ -> 0\n",
      "A- -> 1\n",
      "AB+ -> 2\n",
      "AB- -> 3\n",
      "B+ -> 4\n",
      "B- -> 5\n",
      "O+ -> 6\n",
      "O- -> 7\n",
      "Atribut race :\n",
      "Asian -> 0\n",
      "Black -> 1\n",
      "Hawaiian -> 2\n",
      "Indian -> 3\n",
      "White -> 4\n",
      "Atribut smoker :\n",
      "no -> 0\n",
      "yes -> 1\n",
      "Atribut relationship :\n",
      "divorced -> 0\n",
      "married -> 1\n",
      "nop -> 2\n",
      "separated -> 3\n",
      "single -> 4\n",
      "widowed -> 5\n",
      "Atribut indicator :\n",
      "0.0 -> 0\n",
      "1.0 -> 1\n",
      "Atribut sex :\n",
      "F -> 0\n",
      "M -> 1\n",
      "Atribut blood_group :\n",
      "A+ -> 0\n",
      "A- -> 1\n",
      "AB+ -> 2\n",
      "AB- -> 3\n",
      "B+ -> 4\n",
      "B- -> 5\n",
      "O+ -> 6\n",
      "O- -> 7\n",
      "Atribut race :\n",
      "Asian -> 0\n",
      "Black -> 1\n",
      "Hawaiian -> 2\n",
      "Indian -> 3\n",
      "White -> 4\n",
      "Atribut smoker :\n",
      "no -> 0\n",
      "yes -> 1\n",
      "Atribut relationship :\n",
      "divorced -> 0\n",
      "married -> 1\n",
      "nop -> 2\n",
      "separated -> 3\n",
      "single -> 4\n",
      "widowed -> 5\n",
      "Atribut indicator :\n",
      "0.0 -> 0\n",
      "1.0 -> 1\n"
     ]
    },
    {
     "data": {
      "text/html": [
       "<div>\n",
       "<style scoped>\n",
       "    .dataframe tbody tr th:only-of-type {\n",
       "        vertical-align: middle;\n",
       "    }\n",
       "\n",
       "    .dataframe tbody tr th {\n",
       "        vertical-align: top;\n",
       "    }\n",
       "\n",
       "    .dataframe thead th {\n",
       "        text-align: right;\n",
       "    }\n",
       "</style>\n",
       "<table border=\"1\" class=\"dataframe\">\n",
       "  <thead>\n",
       "    <tr style=\"text-align: right;\">\n",
       "      <th></th>\n",
       "      <th>hbver</th>\n",
       "      <th>er-cv</th>\n",
       "      <th>hematokrit</th>\n",
       "      <th>trombocyty</th>\n",
       "      <th>erytrocyty</th>\n",
       "      <th>hemoglobin</th>\n",
       "      <th>age</th>\n",
       "      <th>leukocyty</th>\n",
       "      <th>weight</th>\n",
       "      <th>ast</th>\n",
       "      <th>alt</th>\n",
       "      <th>etytr</th>\n",
       "      <th>alp</th>\n",
       "      <th>sex</th>\n",
       "      <th>blood_group</th>\n",
       "      <th>race</th>\n",
       "      <th>smoker</th>\n",
       "      <th>relationship</th>\n",
       "      <th>indicator</th>\n",
       "    </tr>\n",
       "  </thead>\n",
       "  <tbody>\n",
       "    <tr>\n",
       "      <th>count</th>\n",
       "      <td>3.270000e+03</td>\n",
       "      <td>3.270000e+03</td>\n",
       "      <td>3.270000e+03</td>\n",
       "      <td>3.270000e+03</td>\n",
       "      <td>3.270000e+03</td>\n",
       "      <td>3.270000e+03</td>\n",
       "      <td>3.270000e+03</td>\n",
       "      <td>3.270000e+03</td>\n",
       "      <td>3.270000e+03</td>\n",
       "      <td>3.270000e+03</td>\n",
       "      <td>3.270000e+03</td>\n",
       "      <td>3.270000e+03</td>\n",
       "      <td>3.270000e+03</td>\n",
       "      <td>3270.000000</td>\n",
       "      <td>3270.000000</td>\n",
       "      <td>3270.000000</td>\n",
       "      <td>3270.000000</td>\n",
       "      <td>3270.000000</td>\n",
       "      <td>3270.000000</td>\n",
       "    </tr>\n",
       "    <tr>\n",
       "      <th>mean</th>\n",
       "      <td>3.911244e-17</td>\n",
       "      <td>1.564498e-16</td>\n",
       "      <td>6.192804e-17</td>\n",
       "      <td>3.253938e-16</td>\n",
       "      <td>-4.584848e-16</td>\n",
       "      <td>6.084158e-16</td>\n",
       "      <td>4.780410e-17</td>\n",
       "      <td>-2.824788e-17</td>\n",
       "      <td>-5.975512e-18</td>\n",
       "      <td>2.281559e-17</td>\n",
       "      <td>3.259370e-17</td>\n",
       "      <td>1.629685e-17</td>\n",
       "      <td>-7.170615e-17</td>\n",
       "      <td>0.491131</td>\n",
       "      <td>3.518043</td>\n",
       "      <td>2.595413</td>\n",
       "      <td>0.395719</td>\n",
       "      <td>2.050459</td>\n",
       "      <td>0.649235</td>\n",
       "    </tr>\n",
       "    <tr>\n",
       "      <th>std</th>\n",
       "      <td>1.000153e+00</td>\n",
       "      <td>1.000153e+00</td>\n",
       "      <td>1.000153e+00</td>\n",
       "      <td>1.000153e+00</td>\n",
       "      <td>1.000153e+00</td>\n",
       "      <td>1.000153e+00</td>\n",
       "      <td>1.000153e+00</td>\n",
       "      <td>1.000153e+00</td>\n",
       "      <td>1.000153e+00</td>\n",
       "      <td>1.000153e+00</td>\n",
       "      <td>1.000153e+00</td>\n",
       "      <td>1.000153e+00</td>\n",
       "      <td>1.000153e+00</td>\n",
       "      <td>0.499998</td>\n",
       "      <td>2.308193</td>\n",
       "      <td>1.583191</td>\n",
       "      <td>0.489079</td>\n",
       "      <td>1.727247</td>\n",
       "      <td>0.477282</td>\n",
       "    </tr>\n",
       "    <tr>\n",
       "      <th>min</th>\n",
       "      <td>-2.760314e+00</td>\n",
       "      <td>-2.762061e+00</td>\n",
       "      <td>-2.885845e+00</td>\n",
       "      <td>-2.871142e+00</td>\n",
       "      <td>-2.800257e+00</td>\n",
       "      <td>-2.747817e+00</td>\n",
       "      <td>-1.731178e+00</td>\n",
       "      <td>-2.608521e+00</td>\n",
       "      <td>-2.219465e+00</td>\n",
       "      <td>-2.833512e+00</td>\n",
       "      <td>-1.760879e+00</td>\n",
       "      <td>-1.850992e+00</td>\n",
       "      <td>-1.735609e+00</td>\n",
       "      <td>0.000000</td>\n",
       "      <td>0.000000</td>\n",
       "      <td>0.000000</td>\n",
       "      <td>0.000000</td>\n",
       "      <td>0.000000</td>\n",
       "      <td>0.000000</td>\n",
       "    </tr>\n",
       "    <tr>\n",
       "      <th>25%</th>\n",
       "      <td>-7.170890e-01</td>\n",
       "      <td>-6.775064e-01</td>\n",
       "      <td>-7.553581e-01</td>\n",
       "      <td>-7.218635e-01</td>\n",
       "      <td>-6.895756e-01</td>\n",
       "      <td>-7.029878e-01</td>\n",
       "      <td>-8.631046e-01</td>\n",
       "      <td>-8.124364e-01</td>\n",
       "      <td>-6.899615e-01</td>\n",
       "      <td>-6.827998e-01</td>\n",
       "      <td>-7.337537e-01</td>\n",
       "      <td>-6.853241e-01</td>\n",
       "      <td>-8.630002e-01</td>\n",
       "      <td>0.000000</td>\n",
       "      <td>2.000000</td>\n",
       "      <td>1.000000</td>\n",
       "      <td>0.000000</td>\n",
       "      <td>1.000000</td>\n",
       "      <td>0.000000</td>\n",
       "    </tr>\n",
       "    <tr>\n",
       "      <th>50%</th>\n",
       "      <td>8.297792e-04</td>\n",
       "      <td>1.681850e-02</td>\n",
       "      <td>-3.265279e-02</td>\n",
       "      <td>-4.882637e-02</td>\n",
       "      <td>1.565847e-03</td>\n",
       "      <td>-6.453951e-03</td>\n",
       "      <td>-6.307667e-03</td>\n",
       "      <td>4.385492e-02</td>\n",
       "      <td>-3.046295e-03</td>\n",
       "      <td>5.740004e-03</td>\n",
       "      <td>1.938806e-03</td>\n",
       "      <td>1.578235e-02</td>\n",
       "      <td>1.123444e-01</td>\n",
       "      <td>0.000000</td>\n",
       "      <td>4.000000</td>\n",
       "      <td>4.000000</td>\n",
       "      <td>0.000000</td>\n",
       "      <td>2.000000</td>\n",
       "      <td>1.000000</td>\n",
       "    </tr>\n",
       "    <tr>\n",
       "      <th>75%</th>\n",
       "      <td>6.813453e-01</td>\n",
       "      <td>6.830993e-01</td>\n",
       "      <td>7.600018e-01</td>\n",
       "      <td>7.031814e-01</td>\n",
       "      <td>6.883593e-01</td>\n",
       "      <td>7.005740e-01</td>\n",
       "      <td>8.758588e-01</td>\n",
       "      <td>7.780150e-01</td>\n",
       "      <td>7.114470e-01</td>\n",
       "      <td>7.006084e-01</td>\n",
       "      <td>7.023264e-01</td>\n",
       "      <td>6.731790e-01</td>\n",
       "      <td>8.586440e-01</td>\n",
       "      <td>1.000000</td>\n",
       "      <td>6.000000</td>\n",
       "      <td>4.000000</td>\n",
       "      <td>1.000000</td>\n",
       "      <td>4.000000</td>\n",
       "      <td>1.000000</td>\n",
       "    </tr>\n",
       "    <tr>\n",
       "      <th>max</th>\n",
       "      <td>2.772787e+00</td>\n",
       "      <td>2.809583e+00</td>\n",
       "      <td>2.756817e+00</td>\n",
       "      <td>2.866133e+00</td>\n",
       "      <td>2.836337e+00</td>\n",
       "      <td>2.677749e+00</td>\n",
       "      <td>1.744856e+00</td>\n",
       "      <td>3.045685e+00</td>\n",
       "      <td>2.572806e+00</td>\n",
       "      <td>2.827662e+00</td>\n",
       "      <td>1.935268e+00</td>\n",
       "      <td>1.896153e+00</td>\n",
       "      <td>1.538170e+00</td>\n",
       "      <td>1.000000</td>\n",
       "      <td>7.000000</td>\n",
       "      <td>4.000000</td>\n",
       "      <td>1.000000</td>\n",
       "      <td>5.000000</td>\n",
       "      <td>1.000000</td>\n",
       "    </tr>\n",
       "  </tbody>\n",
       "</table>\n",
       "</div>"
      ],
      "text/plain": [
       "              hbver         er-cv    hematokrit    trombocyty    erytrocyty  \\\n",
       "count  3.270000e+03  3.270000e+03  3.270000e+03  3.270000e+03  3.270000e+03   \n",
       "mean   3.911244e-17  1.564498e-16  6.192804e-17  3.253938e-16 -4.584848e-16   \n",
       "std    1.000153e+00  1.000153e+00  1.000153e+00  1.000153e+00  1.000153e+00   \n",
       "min   -2.760314e+00 -2.762061e+00 -2.885845e+00 -2.871142e+00 -2.800257e+00   \n",
       "25%   -7.170890e-01 -6.775064e-01 -7.553581e-01 -7.218635e-01 -6.895756e-01   \n",
       "50%    8.297792e-04  1.681850e-02 -3.265279e-02 -4.882637e-02  1.565847e-03   \n",
       "75%    6.813453e-01  6.830993e-01  7.600018e-01  7.031814e-01  6.883593e-01   \n",
       "max    2.772787e+00  2.809583e+00  2.756817e+00  2.866133e+00  2.836337e+00   \n",
       "\n",
       "         hemoglobin           age     leukocyty        weight           ast  \\\n",
       "count  3.270000e+03  3.270000e+03  3.270000e+03  3.270000e+03  3.270000e+03   \n",
       "mean   6.084158e-16  4.780410e-17 -2.824788e-17 -5.975512e-18  2.281559e-17   \n",
       "std    1.000153e+00  1.000153e+00  1.000153e+00  1.000153e+00  1.000153e+00   \n",
       "min   -2.747817e+00 -1.731178e+00 -2.608521e+00 -2.219465e+00 -2.833512e+00   \n",
       "25%   -7.029878e-01 -8.631046e-01 -8.124364e-01 -6.899615e-01 -6.827998e-01   \n",
       "50%   -6.453951e-03 -6.307667e-03  4.385492e-02 -3.046295e-03  5.740004e-03   \n",
       "75%    7.005740e-01  8.758588e-01  7.780150e-01  7.114470e-01  7.006084e-01   \n",
       "max    2.677749e+00  1.744856e+00  3.045685e+00  2.572806e+00  2.827662e+00   \n",
       "\n",
       "                alt         etytr           alp          sex  blood_group  \\\n",
       "count  3.270000e+03  3.270000e+03  3.270000e+03  3270.000000  3270.000000   \n",
       "mean   3.259370e-17  1.629685e-17 -7.170615e-17     0.491131     3.518043   \n",
       "std    1.000153e+00  1.000153e+00  1.000153e+00     0.499998     2.308193   \n",
       "min   -1.760879e+00 -1.850992e+00 -1.735609e+00     0.000000     0.000000   \n",
       "25%   -7.337537e-01 -6.853241e-01 -8.630002e-01     0.000000     2.000000   \n",
       "50%    1.938806e-03  1.578235e-02  1.123444e-01     0.000000     4.000000   \n",
       "75%    7.023264e-01  6.731790e-01  8.586440e-01     1.000000     6.000000   \n",
       "max    1.935268e+00  1.896153e+00  1.538170e+00     1.000000     7.000000   \n",
       "\n",
       "              race       smoker  relationship    indicator  \n",
       "count  3270.000000  3270.000000   3270.000000  3270.000000  \n",
       "mean      2.595413     0.395719      2.050459     0.649235  \n",
       "std       1.583191     0.489079      1.727247     0.477282  \n",
       "min       0.000000     0.000000      0.000000     0.000000  \n",
       "25%       1.000000     0.000000      1.000000     0.000000  \n",
       "50%       4.000000     0.000000      2.000000     1.000000  \n",
       "75%       4.000000     1.000000      4.000000     1.000000  \n",
       "max       4.000000     1.000000      5.000000     1.000000  "
      ]
     },
     "execution_count": 120,
     "metadata": {},
     "output_type": "execute_result"
    }
   ],
   "source": [
    "pipeline = Pipeline([('trasform_column', col_transformer)])\n",
    "\n",
    "pipeline.fit(data_test)\n",
    "transformed_data = pipeline.transform(data_test)\n",
    "\n",
    "columns_list = numeric_atributes+power_transform_atributes+categorical_atributes\n",
    "\n",
    "pipeline_data = pd.DataFrame(transformed_data, columns=columns_list)\n",
    "pipeline_data.describe()"
   ]
  },
  {
   "cell_type": "code",
   "execution_count": 121,
   "id": "a3ddb26f",
   "metadata": {},
   "outputs": [
    {
     "data": {
      "text/html": [
       "<div>\n",
       "<style scoped>\n",
       "    .dataframe tbody tr th:only-of-type {\n",
       "        vertical-align: middle;\n",
       "    }\n",
       "\n",
       "    .dataframe tbody tr th {\n",
       "        vertical-align: top;\n",
       "    }\n",
       "\n",
       "    .dataframe thead th {\n",
       "        text-align: right;\n",
       "    }\n",
       "</style>\n",
       "<table border=\"1\" class=\"dataframe\">\n",
       "  <thead>\n",
       "    <tr style=\"text-align: right;\">\n",
       "      <th></th>\n",
       "      <th>hbver</th>\n",
       "      <th>er-cv</th>\n",
       "      <th>hematokrit</th>\n",
       "      <th>trombocyty</th>\n",
       "      <th>erytrocyty</th>\n",
       "      <th>hemoglobin</th>\n",
       "      <th>age</th>\n",
       "      <th>leukocyty</th>\n",
       "      <th>weight</th>\n",
       "      <th>ast</th>\n",
       "      <th>alt</th>\n",
       "      <th>etytr</th>\n",
       "      <th>alp</th>\n",
       "      <th>sex</th>\n",
       "      <th>blood_group</th>\n",
       "      <th>race</th>\n",
       "      <th>smoker</th>\n",
       "      <th>relationship</th>\n",
       "      <th>indicator</th>\n",
       "    </tr>\n",
       "  </thead>\n",
       "  <tbody>\n",
       "    <tr>\n",
       "      <th>0</th>\n",
       "      <td>-0.491222</td>\n",
       "      <td>-1.145582</td>\n",
       "      <td>0.678223</td>\n",
       "      <td>-0.766317</td>\n",
       "      <td>-1.713314</td>\n",
       "      <td>1.174974</td>\n",
       "      <td>-0.570113</td>\n",
       "      <td>0.790726</td>\n",
       "      <td>0.759382</td>\n",
       "      <td>-1.356275</td>\n",
       "      <td>-0.327570</td>\n",
       "      <td>-0.377027</td>\n",
       "      <td>-1.130521</td>\n",
       "      <td>1.0</td>\n",
       "      <td>1.0</td>\n",
       "      <td>4.0</td>\n",
       "      <td>0.0</td>\n",
       "      <td>1.0</td>\n",
       "      <td>1.0</td>\n",
       "    </tr>\n",
       "    <tr>\n",
       "      <th>1</th>\n",
       "      <td>1.238114</td>\n",
       "      <td>0.664040</td>\n",
       "      <td>1.023435</td>\n",
       "      <td>0.451620</td>\n",
       "      <td>0.628205</td>\n",
       "      <td>1.063084</td>\n",
       "      <td>0.538621</td>\n",
       "      <td>-1.012809</td>\n",
       "      <td>0.624838</td>\n",
       "      <td>2.172052</td>\n",
       "      <td>-0.626000</td>\n",
       "      <td>0.822813</td>\n",
       "      <td>-1.173734</td>\n",
       "      <td>0.0</td>\n",
       "      <td>5.0</td>\n",
       "      <td>4.0</td>\n",
       "      <td>1.0</td>\n",
       "      <td>1.0</td>\n",
       "      <td>1.0</td>\n",
       "    </tr>\n",
       "    <tr>\n",
       "      <th>2</th>\n",
       "      <td>-1.030678</td>\n",
       "      <td>0.170051</td>\n",
       "      <td>-0.522226</td>\n",
       "      <td>-1.224126</td>\n",
       "      <td>1.407105</td>\n",
       "      <td>0.791463</td>\n",
       "      <td>-0.481769</td>\n",
       "      <td>1.083810</td>\n",
       "      <td>-0.241553</td>\n",
       "      <td>0.916582</td>\n",
       "      <td>1.783069</td>\n",
       "      <td>-1.584606</td>\n",
       "      <td>-0.946090</td>\n",
       "      <td>1.0</td>\n",
       "      <td>1.0</td>\n",
       "      <td>4.0</td>\n",
       "      <td>0.0</td>\n",
       "      <td>1.0</td>\n",
       "      <td>1.0</td>\n",
       "    </tr>\n",
       "    <tr>\n",
       "      <th>3</th>\n",
       "      <td>0.988710</td>\n",
       "      <td>0.319996</td>\n",
       "      <td>-0.340813</td>\n",
       "      <td>0.812329</td>\n",
       "      <td>-1.791698</td>\n",
       "      <td>-0.655853</td>\n",
       "      <td>1.432976</td>\n",
       "      <td>-0.886627</td>\n",
       "      <td>1.512936</td>\n",
       "      <td>-0.226942</td>\n",
       "      <td>-0.438573</td>\n",
       "      <td>1.896153</td>\n",
       "      <td>0.970631</td>\n",
       "      <td>0.0</td>\n",
       "      <td>3.0</td>\n",
       "      <td>4.0</td>\n",
       "      <td>0.0</td>\n",
       "      <td>4.0</td>\n",
       "      <td>0.0</td>\n",
       "    </tr>\n",
       "    <tr>\n",
       "      <th>4</th>\n",
       "      <td>-0.832934</td>\n",
       "      <td>1.100222</td>\n",
       "      <td>-0.654968</td>\n",
       "      <td>1.054370</td>\n",
       "      <td>-1.054702</td>\n",
       "      <td>0.845433</td>\n",
       "      <td>0.968288</td>\n",
       "      <td>-1.153992</td>\n",
       "      <td>-0.156154</td>\n",
       "      <td>-0.617797</td>\n",
       "      <td>-1.031872</td>\n",
       "      <td>1.107459</td>\n",
       "      <td>-0.872290</td>\n",
       "      <td>0.0</td>\n",
       "      <td>0.0</td>\n",
       "      <td>4.0</td>\n",
       "      <td>1.0</td>\n",
       "      <td>1.0</td>\n",
       "      <td>1.0</td>\n",
       "    </tr>\n",
       "    <tr>\n",
       "      <th>...</th>\n",
       "      <td>...</td>\n",
       "      <td>...</td>\n",
       "      <td>...</td>\n",
       "      <td>...</td>\n",
       "      <td>...</td>\n",
       "      <td>...</td>\n",
       "      <td>...</td>\n",
       "      <td>...</td>\n",
       "      <td>...</td>\n",
       "      <td>...</td>\n",
       "      <td>...</td>\n",
       "      <td>...</td>\n",
       "      <td>...</td>\n",
       "      <td>...</td>\n",
       "      <td>...</td>\n",
       "      <td>...</td>\n",
       "      <td>...</td>\n",
       "      <td>...</td>\n",
       "      <td>...</td>\n",
       "    </tr>\n",
       "    <tr>\n",
       "      <th>3265</th>\n",
       "      <td>-1.561178</td>\n",
       "      <td>-1.464981</td>\n",
       "      <td>0.999050</td>\n",
       "      <td>-0.348439</td>\n",
       "      <td>-2.059600</td>\n",
       "      <td>-0.302102</td>\n",
       "      <td>1.526377</td>\n",
       "      <td>2.182286</td>\n",
       "      <td>1.504311</td>\n",
       "      <td>-1.309311</td>\n",
       "      <td>-1.760879</td>\n",
       "      <td>-1.850580</td>\n",
       "      <td>1.231600</td>\n",
       "      <td>0.0</td>\n",
       "      <td>2.0</td>\n",
       "      <td>4.0</td>\n",
       "      <td>0.0</td>\n",
       "      <td>4.0</td>\n",
       "      <td>0.0</td>\n",
       "    </tr>\n",
       "    <tr>\n",
       "      <th>3266</th>\n",
       "      <td>-0.727840</td>\n",
       "      <td>1.908062</td>\n",
       "      <td>-0.419662</td>\n",
       "      <td>1.172202</td>\n",
       "      <td>-0.606933</td>\n",
       "      <td>-0.442831</td>\n",
       "      <td>-0.245024</td>\n",
       "      <td>1.117463</td>\n",
       "      <td>-0.452379</td>\n",
       "      <td>0.686959</td>\n",
       "      <td>-0.014168</td>\n",
       "      <td>1.219600</td>\n",
       "      <td>1.538170</td>\n",
       "      <td>1.0</td>\n",
       "      <td>5.0</td>\n",
       "      <td>0.0</td>\n",
       "      <td>0.0</td>\n",
       "      <td>4.0</td>\n",
       "      <td>1.0</td>\n",
       "    </tr>\n",
       "    <tr>\n",
       "      <th>3267</th>\n",
       "      <td>-0.710530</td>\n",
       "      <td>0.108760</td>\n",
       "      <td>-0.933927</td>\n",
       "      <td>-0.899474</td>\n",
       "      <td>-0.891446</td>\n",
       "      <td>1.513217</td>\n",
       "      <td>0.355914</td>\n",
       "      <td>-0.193905</td>\n",
       "      <td>2.314112</td>\n",
       "      <td>0.032752</td>\n",
       "      <td>-0.717708</td>\n",
       "      <td>0.217600</td>\n",
       "      <td>-1.735262</td>\n",
       "      <td>0.0</td>\n",
       "      <td>1.0</td>\n",
       "      <td>4.0</td>\n",
       "      <td>0.0</td>\n",
       "      <td>0.0</td>\n",
       "      <td>1.0</td>\n",
       "    </tr>\n",
       "    <tr>\n",
       "      <th>3268</th>\n",
       "      <td>0.868196</td>\n",
       "      <td>-0.870797</td>\n",
       "      <td>-1.333783</td>\n",
       "      <td>0.560545</td>\n",
       "      <td>-0.342543</td>\n",
       "      <td>2.188719</td>\n",
       "      <td>0.538621</td>\n",
       "      <td>0.574230</td>\n",
       "      <td>1.383492</td>\n",
       "      <td>-0.563765</td>\n",
       "      <td>-0.532614</td>\n",
       "      <td>0.933599</td>\n",
       "      <td>-1.735609</td>\n",
       "      <td>1.0</td>\n",
       "      <td>3.0</td>\n",
       "      <td>0.0</td>\n",
       "      <td>0.0</td>\n",
       "      <td>4.0</td>\n",
       "      <td>1.0</td>\n",
       "    </tr>\n",
       "    <tr>\n",
       "      <th>3269</th>\n",
       "      <td>-0.694310</td>\n",
       "      <td>-1.363967</td>\n",
       "      <td>-0.119964</td>\n",
       "      <td>1.075606</td>\n",
       "      <td>0.566790</td>\n",
       "      <td>1.498215</td>\n",
       "      <td>-1.037920</td>\n",
       "      <td>-0.026015</td>\n",
       "      <td>-1.042642</td>\n",
       "      <td>0.322498</td>\n",
       "      <td>0.535240</td>\n",
       "      <td>1.896153</td>\n",
       "      <td>-1.591433</td>\n",
       "      <td>0.0</td>\n",
       "      <td>2.0</td>\n",
       "      <td>0.0</td>\n",
       "      <td>1.0</td>\n",
       "      <td>0.0</td>\n",
       "      <td>0.0</td>\n",
       "    </tr>\n",
       "  </tbody>\n",
       "</table>\n",
       "<p>3270 rows × 19 columns</p>\n",
       "</div>"
      ],
      "text/plain": [
       "         hbver     er-cv  hematokrit  trombocyty  erytrocyty  hemoglobin  \\\n",
       "0    -0.491222 -1.145582    0.678223   -0.766317   -1.713314    1.174974   \n",
       "1     1.238114  0.664040    1.023435    0.451620    0.628205    1.063084   \n",
       "2    -1.030678  0.170051   -0.522226   -1.224126    1.407105    0.791463   \n",
       "3     0.988710  0.319996   -0.340813    0.812329   -1.791698   -0.655853   \n",
       "4    -0.832934  1.100222   -0.654968    1.054370   -1.054702    0.845433   \n",
       "...        ...       ...         ...         ...         ...         ...   \n",
       "3265 -1.561178 -1.464981    0.999050   -0.348439   -2.059600   -0.302102   \n",
       "3266 -0.727840  1.908062   -0.419662    1.172202   -0.606933   -0.442831   \n",
       "3267 -0.710530  0.108760   -0.933927   -0.899474   -0.891446    1.513217   \n",
       "3268  0.868196 -0.870797   -1.333783    0.560545   -0.342543    2.188719   \n",
       "3269 -0.694310 -1.363967   -0.119964    1.075606    0.566790    1.498215   \n",
       "\n",
       "           age  leukocyty    weight       ast       alt     etytr       alp  \\\n",
       "0    -0.570113   0.790726  0.759382 -1.356275 -0.327570 -0.377027 -1.130521   \n",
       "1     0.538621  -1.012809  0.624838  2.172052 -0.626000  0.822813 -1.173734   \n",
       "2    -0.481769   1.083810 -0.241553  0.916582  1.783069 -1.584606 -0.946090   \n",
       "3     1.432976  -0.886627  1.512936 -0.226942 -0.438573  1.896153  0.970631   \n",
       "4     0.968288  -1.153992 -0.156154 -0.617797 -1.031872  1.107459 -0.872290   \n",
       "...        ...        ...       ...       ...       ...       ...       ...   \n",
       "3265  1.526377   2.182286  1.504311 -1.309311 -1.760879 -1.850580  1.231600   \n",
       "3266 -0.245024   1.117463 -0.452379  0.686959 -0.014168  1.219600  1.538170   \n",
       "3267  0.355914  -0.193905  2.314112  0.032752 -0.717708  0.217600 -1.735262   \n",
       "3268  0.538621   0.574230  1.383492 -0.563765 -0.532614  0.933599 -1.735609   \n",
       "3269 -1.037920  -0.026015 -1.042642  0.322498  0.535240  1.896153 -1.591433   \n",
       "\n",
       "      sex  blood_group  race  smoker  relationship  indicator  \n",
       "0     1.0          1.0   4.0     0.0           1.0        1.0  \n",
       "1     0.0          5.0   4.0     1.0           1.0        1.0  \n",
       "2     1.0          1.0   4.0     0.0           1.0        1.0  \n",
       "3     0.0          3.0   4.0     0.0           4.0        0.0  \n",
       "4     0.0          0.0   4.0     1.0           1.0        1.0  \n",
       "...   ...          ...   ...     ...           ...        ...  \n",
       "3265  0.0          2.0   4.0     0.0           4.0        0.0  \n",
       "3266  1.0          5.0   0.0     0.0           4.0        1.0  \n",
       "3267  0.0          1.0   4.0     0.0           0.0        1.0  \n",
       "3268  1.0          3.0   0.0     0.0           4.0        1.0  \n",
       "3269  0.0          2.0   0.0     1.0           0.0        0.0  \n",
       "\n",
       "[3270 rows x 19 columns]"
      ]
     },
     "execution_count": 121,
     "metadata": {},
     "output_type": "execute_result"
    }
   ],
   "source": [
    "pipeline_data"
   ]
  },
  {
   "cell_type": "markdown",
   "id": "dccb9a40",
   "metadata": {},
   "source": [
    "V tabuľke môžme vidieť pipeline-om upravené testovacie dáta. Pipeline si môžme uložiť a znovu použiť nasledovným spôsobom :"
   ]
  },
  {
   "cell_type": "code",
   "execution_count": null,
   "id": "420f7e35",
   "metadata": {},
   "outputs": [],
   "source": [
    "import joblib\n",
    "joblib.dump(pipeline, 'pipeline.pkl')\n",
    "pipeline = joblib.load('pipeline.pkl')\n",
    "pipeline"
   ]
  },
  {
   "cell_type": "code",
   "execution_count": null,
   "id": "8cff8632",
   "metadata": {},
   "outputs": [],
   "source": []
  },
  {
   "cell_type": "markdown",
   "id": "79cd31ae",
   "metadata": {},
   "source": [
    "### Záver z tejto časti práce"
   ]
  },
  {
   "cell_type": "markdown",
   "id": "54ccfb7c",
   "metadata": {},
   "source": [
    "V tejto časti práce sa nám podarilo z datasetu odstrániť vychýlené hodnoty pomocou metód:\n",
    "- nahradenie vychýlenej hodnoty hraničnými hodnotami rozdelenia (5% resp. 95%)\n",
    "- odstránenie vychýlených (odľahlých) pozorovaní prostredníctvom kvantilov\n",
    "\n",
    "Taktiež sme vyriešili problém v záznamoch s chýbajúcimi hodnotami pomocou metód:\n",
    "- nahradenie hodnoty pomocou kNN (k-Nearest Neighbors)\n",
    "- nahradenie hodnoty pomocou mediánu\n",
    "- odstránenie záznamov s chýbajúcou hodnotou\n",
    "\n",
    "Následne sme v rámci predspracovania dát rozdelili dáta na trénovaciu a testovaciu sadu.\n",
    "\n",
    "Na trénovacej sade sme realizovali predspracovanie a vo forme zakódovania kategorických nenumerických atribútov na numerické. \n",
    "\n",
    "Následne sme preškálovali dáta aby boli s rovnakého rozsahu a na atribúty, ktoré nepochádzali s normálneho rozdelenia sme aplikovali power transformer typu yee-johnson.\n",
    "\n",
    "Aby sme vedeli toto predspracovanie dát automaticky zopakovať aj na testovacej sade vytvorili sme sadu funkcií, ktoré dokážu tútú transformáciu dát vykonať.\n",
    "\n",
    "Po predspracovaní dát sme s využitím rôznych metód typu: filtering, wrapper a embedded identifikovali v trénovacom datasete 4 najdôležitejšie atribúty pre predikovanie predikovanej premennej, ktoré budeme využívať v strojovom učení. \n",
    "\n",
    "\n"
   ]
  },
  {
   "cell_type": "markdown",
   "id": "ca98bcb7",
   "metadata": {},
   "source": [
    "**uloženie trénovacej sady dát**"
   ]
  },
  {
   "cell_type": "code",
   "execution_count": null,
   "id": "531ffed5",
   "metadata": {},
   "outputs": [],
   "source": [
    "pipeline_datatrain.to_csv('data/trainbezskalovaniaajpower.csv', sep='\\t', index=False, encoding='utf-8')"
   ]
  },
  {
   "cell_type": "markdown",
   "id": "487f3f80",
   "metadata": {},
   "source": [
    "**uloženie testovacej sady dát**"
   ]
  },
  {
   "cell_type": "code",
   "execution_count": null,
   "id": "c7ed37d1",
   "metadata": {},
   "outputs": [],
   "source": [
    "pipeline_data.to_csv('data/testbezskalovaniaajpower.csv', sep='\\t', index=False, encoding='utf-8')"
   ]
  },
  {
   "cell_type": "code",
   "execution_count": null,
   "id": "0c37f468",
   "metadata": {},
   "outputs": [],
   "source": []
  }
 ],
 "metadata": {
  "kernelspec": {
   "display_name": "Python 3 (ipykernel)",
   "language": "python",
   "name": "python3"
  },
  "language_info": {
   "codemirror_mode": {
    "name": "ipython",
    "version": 3
   },
   "file_extension": ".py",
   "mimetype": "text/x-python",
   "name": "python",
   "nbconvert_exporter": "python",
   "pygments_lexer": "ipython3",
   "version": "3.9.1"
  }
 },
 "nbformat": 4,
 "nbformat_minor": 5
}
