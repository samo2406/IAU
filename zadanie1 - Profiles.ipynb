{
 "cells": [
  {
   "cell_type": "markdown",
   "id": "d0908647",
   "metadata": {},
   "source": [
    "# Inteligentná analýza údajov\n",
    "## Zadanie 1 - profiles.csv\n",
    "### Michal Greguš, Samuel Kováč"
   ]
  },
  {
   "cell_type": "code",
   "execution_count": 1,
   "id": "60265c57",
   "metadata": {},
   "outputs": [],
   "source": [
    "import pandas as pd\n",
    "import numpy as np\n",
    "import seaborn as sns\n",
    "import matplotlib as mat\n",
    "import matplotlib.pyplot as plt\n",
    "import math\n",
    "import datetime as dt \n",
    "from datetime import date\n",
    "from datetime import datetime\n",
    "\n",
    "data = pd.read_csv(\"data/profiles.csv\", sep = '\\t')"
   ]
  },
  {
   "cell_type": "markdown",
   "id": "b55420d3",
   "metadata": {},
   "source": [
    "## 1.Základný opis dát spolu s ich charakteristikami"
   ]
  },
  {
   "cell_type": "markdown",
   "id": "f905326d",
   "metadata": {},
   "source": [
    "Dataset obsahuje informácie o osobách, ktorých laboratórne výsledky sú v datasete Labor.\n",
    "\n",
    "Pre jednotlivé osoby obsahuje informácie ako meno, ssn, dátum narodenia, rasa, pohlavie, spoločnosť a pozícia v ktorej pracuju a iné.\n",
    "\n",
    "Pričom jednotlivé záznamy možno jednoznačne identifikovať na základe kombinácie mena a ssn.\n",
    "Obsahuje 3092 záznamov a 9 atribútov pre každý záznam."
   ]
  },
  {
   "cell_type": "code",
   "execution_count": 2,
   "id": "a9a55f39",
   "metadata": {},
   "outputs": [
    {
     "data": {
      "text/html": [
       "<div>\n",
       "<style scoped>\n",
       "    .dataframe tbody tr th:only-of-type {\n",
       "        vertical-align: middle;\n",
       "    }\n",
       "\n",
       "    .dataframe tbody tr th {\n",
       "        vertical-align: top;\n",
       "    }\n",
       "\n",
       "    .dataframe thead th {\n",
       "        text-align: right;\n",
       "    }\n",
       "</style>\n",
       "<table border=\"1\" class=\"dataframe\">\n",
       "  <thead>\n",
       "    <tr style=\"text-align: right;\">\n",
       "      <th></th>\n",
       "      <th>Unnamed: 0</th>\n",
       "      <th>job</th>\n",
       "      <th>company</th>\n",
       "      <th>sex</th>\n",
       "      <th>residence</th>\n",
       "      <th>blood_group</th>\n",
       "      <th>ssn</th>\n",
       "      <th>name</th>\n",
       "      <th>birthdate</th>\n",
       "      <th>race</th>\n",
       "    </tr>\n",
       "  </thead>\n",
       "  <tbody>\n",
       "    <tr>\n",
       "      <th>0</th>\n",
       "      <td>0</td>\n",
       "      <td>Chief Marketing Officer</td>\n",
       "      <td>Torres, Parker and Fisher</td>\n",
       "      <td>F</td>\n",
       "      <td>584 Chan Unions\\r\\nNew Robertside, MN 27858</td>\n",
       "      <td>B+</td>\n",
       "      <td>318-35-2572</td>\n",
       "      <td>Lori Delgado</td>\n",
       "      <td>04/12/1988, 00:00:00</td>\n",
       "      <td>White</td>\n",
       "    </tr>\n",
       "    <tr>\n",
       "      <th>1</th>\n",
       "      <td>1</td>\n",
       "      <td>Physiological scientist</td>\n",
       "      <td>Lopez PLC</td>\n",
       "      <td>F</td>\n",
       "      <td>116 Ryan Extensions\\r\\nJonesport, ND 67361</td>\n",
       "      <td>B-</td>\n",
       "      <td>528-41-8966</td>\n",
       "      <td>Laura Jones PhD</td>\n",
       "      <td>1919/12/22</td>\n",
       "      <td>White</td>\n",
       "    </tr>\n",
       "    <tr>\n",
       "      <th>2</th>\n",
       "      <td>2</td>\n",
       "      <td>Academic librarian</td>\n",
       "      <td>Aguilar, Garcia and Baker</td>\n",
       "      <td>F</td>\n",
       "      <td>5895 Richard Divide\\r\\nWest Ericside, CO 97342</td>\n",
       "      <td>B+</td>\n",
       "      <td>626-08-5588</td>\n",
       "      <td>Alexandra Hess</td>\n",
       "      <td>1924/02/28</td>\n",
       "      <td>Black</td>\n",
       "    </tr>\n",
       "    <tr>\n",
       "      <th>3</th>\n",
       "      <td>3</td>\n",
       "      <td>Field seismologist</td>\n",
       "      <td>Greer Ltd</td>\n",
       "      <td>M</td>\n",
       "      <td>51331 Singh Garden\\r\\nMichaelmouth, CO 07747</td>\n",
       "      <td>O-</td>\n",
       "      <td>061-61-2641</td>\n",
       "      <td>Nicholas Russo</td>\n",
       "      <td>1991/12/01</td>\n",
       "      <td>White</td>\n",
       "    </tr>\n",
       "    <tr>\n",
       "      <th>4</th>\n",
       "      <td>4</td>\n",
       "      <td>Programmer, applications</td>\n",
       "      <td>Valenzuela and Sons</td>\n",
       "      <td>M</td>\n",
       "      <td>625 Donna Pines Suite 734\\r\\nNew Brenda, TX 54807</td>\n",
       "      <td>AB-</td>\n",
       "      <td>742-97-6478</td>\n",
       "      <td>John Arnold</td>\n",
       "      <td>1983-12-28</td>\n",
       "      <td>Asian</td>\n",
       "    </tr>\n",
       "  </tbody>\n",
       "</table>\n",
       "</div>"
      ],
      "text/plain": [
       "   Unnamed: 0                       job                    company sex  \\\n",
       "0           0   Chief Marketing Officer  Torres, Parker and Fisher   F   \n",
       "1           1   Physiological scientist                  Lopez PLC   F   \n",
       "2           2        Academic librarian  Aguilar, Garcia and Baker   F   \n",
       "3           3        Field seismologist                  Greer Ltd   M   \n",
       "4           4  Programmer, applications        Valenzuela and Sons   M   \n",
       "\n",
       "                                           residence blood_group          ssn  \\\n",
       "0        584 Chan Unions\\r\\nNew Robertside, MN 27858          B+  318-35-2572   \n",
       "1         116 Ryan Extensions\\r\\nJonesport, ND 67361          B-  528-41-8966   \n",
       "2     5895 Richard Divide\\r\\nWest Ericside, CO 97342          B+  626-08-5588   \n",
       "3       51331 Singh Garden\\r\\nMichaelmouth, CO 07747          O-  061-61-2641   \n",
       "4  625 Donna Pines Suite 734\\r\\nNew Brenda, TX 54807         AB-  742-97-6478   \n",
       "\n",
       "              name             birthdate   race  \n",
       "0     Lori Delgado  04/12/1988, 00:00:00  White  \n",
       "1  Laura Jones PhD            1919/12/22  White  \n",
       "2   Alexandra Hess            1924/02/28  Black  \n",
       "3   Nicholas Russo            1991/12/01  White  \n",
       "4      John Arnold            1983-12-28  Asian  "
      ]
     },
     "execution_count": 2,
     "metadata": {},
     "output_type": "execute_result"
    }
   ],
   "source": [
    "data.head()"
   ]
  },
  {
   "cell_type": "markdown",
   "id": "881142d7",
   "metadata": {},
   "source": [
    "Dataset obsahuje nasledovné atribúty"
   ]
  },
  {
   "cell_type": "code",
   "execution_count": 3,
   "id": "3e34726f",
   "metadata": {},
   "outputs": [
    {
     "data": {
      "text/plain": [
       "Index(['Unnamed: 0', 'job', 'company', 'sex', 'residence', 'blood_group',\n",
       "       'ssn', 'name', 'birthdate', 'race'],\n",
       "      dtype='object')"
      ]
     },
     "execution_count": 3,
     "metadata": {},
     "output_type": "execute_result"
    }
   ],
   "source": [
    "data.columns"
   ]
  },
  {
   "cell_type": "markdown",
   "id": "a38f64ea",
   "metadata": {},
   "source": [
    "Prvý nepomenovaný stĺpec je vlastne index záznamov, môžme ho odstrániť."
   ]
  },
  {
   "cell_type": "code",
   "execution_count": 4,
   "id": "f780bb53",
   "metadata": {},
   "outputs": [],
   "source": [
    "data = data.drop(data.columns[0],axis=1)"
   ]
  },
  {
   "cell_type": "markdown",
   "id": "e5c5f2f7",
   "metadata": {},
   "source": [
    "### Počet záznamov a atribútov"
   ]
  },
  {
   "cell_type": "code",
   "execution_count": 5,
   "id": "5c2ef3db",
   "metadata": {},
   "outputs": [
    {
     "name": "stdout",
     "output_type": "stream",
     "text": [
      "Počet záznamov :  3092 \n",
      "Počet atribútov:  9\n"
     ]
    }
   ],
   "source": [
    "print('Počet záznamov : ',data.shape[0] , '\\nPočet atribútov: ', data.shape[1])"
   ]
  },
  {
   "cell_type": "markdown",
   "id": "c0ee2396",
   "metadata": {},
   "source": [
    "Po odstránení nepomenovaného atribútu nám teda zostalo **9 atribútov** pre **3092 záznamov**, môžme si to overiť pomocou *data.tail()* :"
   ]
  },
  {
   "cell_type": "code",
   "execution_count": 6,
   "id": "7d1ab906",
   "metadata": {},
   "outputs": [
    {
     "data": {
      "text/html": [
       "<div>\n",
       "<style scoped>\n",
       "    .dataframe tbody tr th:only-of-type {\n",
       "        vertical-align: middle;\n",
       "    }\n",
       "\n",
       "    .dataframe tbody tr th {\n",
       "        vertical-align: top;\n",
       "    }\n",
       "\n",
       "    .dataframe thead th {\n",
       "        text-align: right;\n",
       "    }\n",
       "</style>\n",
       "<table border=\"1\" class=\"dataframe\">\n",
       "  <thead>\n",
       "    <tr style=\"text-align: right;\">\n",
       "      <th></th>\n",
       "      <th>job</th>\n",
       "      <th>company</th>\n",
       "      <th>sex</th>\n",
       "      <th>residence</th>\n",
       "      <th>blood_group</th>\n",
       "      <th>ssn</th>\n",
       "      <th>name</th>\n",
       "      <th>birthdate</th>\n",
       "      <th>race</th>\n",
       "    </tr>\n",
       "  </thead>\n",
       "  <tbody>\n",
       "    <tr>\n",
       "      <th>3087</th>\n",
       "      <td>Architectural technologist</td>\n",
       "      <td>Martinez and Sons</td>\n",
       "      <td>F</td>\n",
       "      <td>1884 Laura Underpass Apt. 769\\r\\nBrycehaven, I...</td>\n",
       "      <td>O+</td>\n",
       "      <td>587-63-8032</td>\n",
       "      <td>Jennifer Nguyen</td>\n",
       "      <td>11 Jul 1937</td>\n",
       "      <td>White</td>\n",
       "    </tr>\n",
       "    <tr>\n",
       "      <th>3088</th>\n",
       "      <td>Research scientist (physical sciences)</td>\n",
       "      <td>Thomas LLC</td>\n",
       "      <td>M</td>\n",
       "      <td>26643 Crawford Fort\\r\\nRileybury, WI 57976</td>\n",
       "      <td>O-</td>\n",
       "      <td>401-39-3009</td>\n",
       "      <td>Andrew Garcia</td>\n",
       "      <td>01/19/1968, 00:00:00</td>\n",
       "      <td>White</td>\n",
       "    </tr>\n",
       "    <tr>\n",
       "      <th>3089</th>\n",
       "      <td>Automotive engineer</td>\n",
       "      <td>Wood, Butler and Turner</td>\n",
       "      <td>M</td>\n",
       "      <td>USS Maldonado\\r\\nFPO AP 64712</td>\n",
       "      <td>B-</td>\n",
       "      <td>274-09-7323</td>\n",
       "      <td>Carlos Ball</td>\n",
       "      <td>03/20/1994, 00:00:00</td>\n",
       "      <td>White</td>\n",
       "    </tr>\n",
       "    <tr>\n",
       "      <th>3090</th>\n",
       "      <td>Scientist, biomedical</td>\n",
       "      <td>Curtis-Schneider</td>\n",
       "      <td>M</td>\n",
       "      <td>21707 Jamie Row Apt. 725\\r\\nNew Jeffrey, AK 34738</td>\n",
       "      <td>A-</td>\n",
       "      <td>267-99-0291</td>\n",
       "      <td>Terry Cardenas</td>\n",
       "      <td>22 Aug 1974</td>\n",
       "      <td>Black</td>\n",
       "    </tr>\n",
       "    <tr>\n",
       "      <th>3091</th>\n",
       "      <td>Advice worker</td>\n",
       "      <td>Alvarez, Parks and Flores</td>\n",
       "      <td>M</td>\n",
       "      <td>95321 Kim Estate\\r\\nSouth Sandra, DE 14223</td>\n",
       "      <td>AB+</td>\n",
       "      <td>058-10-7454</td>\n",
       "      <td>Adam Green</td>\n",
       "      <td>1973-09-17</td>\n",
       "      <td>Black</td>\n",
       "    </tr>\n",
       "  </tbody>\n",
       "</table>\n",
       "</div>"
      ],
      "text/plain": [
       "                                         job                    company sex  \\\n",
       "3087              Architectural technologist          Martinez and Sons   F   \n",
       "3088  Research scientist (physical sciences)                 Thomas LLC   M   \n",
       "3089                     Automotive engineer    Wood, Butler and Turner   M   \n",
       "3090                   Scientist, biomedical           Curtis-Schneider   M   \n",
       "3091                           Advice worker  Alvarez, Parks and Flores   M   \n",
       "\n",
       "                                              residence blood_group  \\\n",
       "3087  1884 Laura Underpass Apt. 769\\r\\nBrycehaven, I...          O+   \n",
       "3088         26643 Crawford Fort\\r\\nRileybury, WI 57976          O-   \n",
       "3089                      USS Maldonado\\r\\nFPO AP 64712          B-   \n",
       "3090  21707 Jamie Row Apt. 725\\r\\nNew Jeffrey, AK 34738          A-   \n",
       "3091         95321 Kim Estate\\r\\nSouth Sandra, DE 14223         AB+   \n",
       "\n",
       "              ssn             name             birthdate   race  \n",
       "3087  587-63-8032  Jennifer Nguyen           11 Jul 1937  White  \n",
       "3088  401-39-3009    Andrew Garcia  01/19/1968, 00:00:00  White  \n",
       "3089  274-09-7323      Carlos Ball  03/20/1994, 00:00:00  White  \n",
       "3090  267-99-0291   Terry Cardenas           22 Aug 1974  Black  \n",
       "3091  058-10-7454       Adam Green            1973-09-17  Black  "
      ]
     },
     "execution_count": 6,
     "metadata": {},
     "output_type": "execute_result"
    }
   ],
   "source": [
    "data.tail()"
   ]
  },
  {
   "cell_type": "markdown",
   "id": "a3fc69c5",
   "metadata": {},
   "source": [
    "Dataset neobsahuje žiadne záznamy s chýbajúcimi hodnotami"
   ]
  },
  {
   "cell_type": "code",
   "execution_count": 7,
   "id": "40c4dffa",
   "metadata": {},
   "outputs": [
    {
     "data": {
      "text/plain": [
       "job            0\n",
       "company        0\n",
       "sex            0\n",
       "residence      0\n",
       "blood_group    0\n",
       "ssn            0\n",
       "name           0\n",
       "birthdate      0\n",
       "race           0\n",
       "dtype: int64"
      ]
     },
     "execution_count": 7,
     "metadata": {},
     "output_type": "execute_result"
    }
   ],
   "source": [
    "data.isnull().sum()"
   ]
  },
  {
   "cell_type": "markdown",
   "id": "34bc406c",
   "metadata": {},
   "source": [
    "Dataset neobsahuje žiadne duplicitné záznamy"
   ]
  },
  {
   "cell_type": "code",
   "execution_count": 8,
   "id": "0b393a80",
   "metadata": {},
   "outputs": [
    {
     "data": {
      "text/plain": [
       "0"
      ]
     },
     "execution_count": 8,
     "metadata": {},
     "output_type": "execute_result"
    }
   ],
   "source": [
    "data.duplicated().sum()"
   ]
  },
  {
   "cell_type": "markdown",
   "id": "4637e8c4",
   "metadata": {},
   "source": [
    "### Dátové typy\n",
    "Všetky dátové typy sú v tomto prípade typu string, pričom dátum narodenia **birthdate** je v rôznych formátoch, preto by sme ho mohli štandardizovať na jeden formát dátumu typu ISO"
   ]
  },
  {
   "cell_type": "code",
   "execution_count": 9,
   "id": "b19fafb4",
   "metadata": {},
   "outputs": [
    {
     "data": {
      "text/plain": [
       "job            object\n",
       "company        object\n",
       "sex            object\n",
       "residence      object\n",
       "blood_group    object\n",
       "ssn            object\n",
       "name           object\n",
       "birthdate      object\n",
       "race           object\n",
       "dtype: object"
      ]
     },
     "execution_count": 9,
     "metadata": {},
     "output_type": "execute_result"
    }
   ],
   "source": [
    "data.dtypes"
   ]
  },
  {
   "cell_type": "markdown",
   "id": "0123c56d",
   "metadata": {},
   "source": [
    "### Deskriptívne štatistiky významných atribútov"
   ]
  },
  {
   "cell_type": "code",
   "execution_count": 10,
   "id": "1c60d999",
   "metadata": {},
   "outputs": [
    {
     "data": {
      "text/html": [
       "<div>\n",
       "<style scoped>\n",
       "    .dataframe tbody tr th:only-of-type {\n",
       "        vertical-align: middle;\n",
       "    }\n",
       "\n",
       "    .dataframe tbody tr th {\n",
       "        vertical-align: top;\n",
       "    }\n",
       "\n",
       "    .dataframe thead th {\n",
       "        text-align: right;\n",
       "    }\n",
       "</style>\n",
       "<table border=\"1\" class=\"dataframe\">\n",
       "  <thead>\n",
       "    <tr style=\"text-align: right;\">\n",
       "      <th></th>\n",
       "      <th>job</th>\n",
       "      <th>company</th>\n",
       "      <th>sex</th>\n",
       "      <th>residence</th>\n",
       "      <th>blood_group</th>\n",
       "      <th>ssn</th>\n",
       "      <th>name</th>\n",
       "      <th>birthdate</th>\n",
       "      <th>race</th>\n",
       "    </tr>\n",
       "  </thead>\n",
       "  <tbody>\n",
       "    <tr>\n",
       "      <th>count</th>\n",
       "      <td>3092</td>\n",
       "      <td>3092</td>\n",
       "      <td>3092</td>\n",
       "      <td>3092</td>\n",
       "      <td>3092</td>\n",
       "      <td>3092</td>\n",
       "      <td>3092</td>\n",
       "      <td>3092</td>\n",
       "      <td>3092</td>\n",
       "    </tr>\n",
       "    <tr>\n",
       "      <th>unique</th>\n",
       "      <td>633</td>\n",
       "      <td>2886</td>\n",
       "      <td>2</td>\n",
       "      <td>3092</td>\n",
       "      <td>8</td>\n",
       "      <td>3092</td>\n",
       "      <td>3038</td>\n",
       "      <td>3058</td>\n",
       "      <td>8</td>\n",
       "    </tr>\n",
       "    <tr>\n",
       "      <th>top</th>\n",
       "      <td>Chiropodist</td>\n",
       "      <td>Smith Group</td>\n",
       "      <td>F</td>\n",
       "      <td>584 Chan Unions\\r\\nNew Robertside, MN 27858</td>\n",
       "      <td>A+</td>\n",
       "      <td>318-35-2572</td>\n",
       "      <td>Jessica Brown</td>\n",
       "      <td>1984-11-11</td>\n",
       "      <td>White</td>\n",
       "    </tr>\n",
       "    <tr>\n",
       "      <th>freq</th>\n",
       "      <td>12</td>\n",
       "      <td>5</td>\n",
       "      <td>1590</td>\n",
       "      <td>1</td>\n",
       "      <td>424</td>\n",
       "      <td>1</td>\n",
       "      <td>3</td>\n",
       "      <td>2</td>\n",
       "      <td>1619</td>\n",
       "    </tr>\n",
       "  </tbody>\n",
       "</table>\n",
       "</div>"
      ],
      "text/plain": [
       "                job      company   sex  \\\n",
       "count          3092         3092  3092   \n",
       "unique          633         2886     2   \n",
       "top     Chiropodist  Smith Group     F   \n",
       "freq             12            5  1590   \n",
       "\n",
       "                                          residence blood_group          ssn  \\\n",
       "count                                          3092        3092         3092   \n",
       "unique                                         3092           8         3092   \n",
       "top     584 Chan Unions\\r\\nNew Robertside, MN 27858          A+  318-35-2572   \n",
       "freq                                              1         424            1   \n",
       "\n",
       "                 name   birthdate   race  \n",
       "count            3092        3092   3092  \n",
       "unique           3038        3058      8  \n",
       "top     Jessica Brown  1984-11-11  White  \n",
       "freq                3           2   1619  "
      ]
     },
     "execution_count": 10,
     "metadata": {},
     "output_type": "execute_result"
    }
   ],
   "source": [
    "data.describe(include=\"all\")"
   ]
  },
  {
   "cell_type": "markdown",
   "id": "e399e138",
   "metadata": {},
   "source": [
    "Môžme si všimnúť, že v žiadnom atribúte nechýbajú záznamy."
   ]
  },
  {
   "cell_type": "markdown",
   "id": "62f790ea",
   "metadata": {},
   "source": [
    "### Atribút job"
   ]
  },
  {
   "cell_type": "code",
   "execution_count": 11,
   "id": "1655d1da",
   "metadata": {},
   "outputs": [
    {
     "data": {
      "text/plain": [
       "count            3092\n",
       "unique            633\n",
       "top       Chiropodist\n",
       "freq               12\n",
       "Name: job, dtype: object"
      ]
     },
     "execution_count": 11,
     "metadata": {},
     "output_type": "execute_result"
    }
   ],
   "source": [
    "data.job.describe()"
   ]
  },
  {
   "cell_type": "markdown",
   "id": "7f25411b",
   "metadata": {},
   "source": [
    "Jedná sa o kategorický atribút. Vidíme že záznamy obsahujú **633** jedinečných záznamov, pričom záznam **Chiropodist** sa v záznamoch objavil najviac a to 12 krát."
   ]
  },
  {
   "cell_type": "markdown",
   "id": "a837877a",
   "metadata": {},
   "source": [
    "### Atribút company"
   ]
  },
  {
   "cell_type": "code",
   "execution_count": 12,
   "id": "5c0b5593",
   "metadata": {},
   "outputs": [
    {
     "data": {
      "text/plain": [
       "count            3092\n",
       "unique           2886\n",
       "top       Smith Group\n",
       "freq                5\n",
       "Name: company, dtype: object"
      ]
     },
     "execution_count": 12,
     "metadata": {},
     "output_type": "execute_result"
    }
   ],
   "source": [
    "data.company.describe()"
   ]
  },
  {
   "cell_type": "markdown",
   "id": "783be179",
   "metadata": {},
   "source": [
    "Jedná sa o kategorický atribút. Vidíme že záznamy obsahujú 2886 jedinečných záznamov, pričom najviac pacientov pracuje pre Smith Group, konkrétne 5."
   ]
  },
  {
   "cell_type": "markdown",
   "id": "a477d7c5",
   "metadata": {},
   "source": [
    "### Atribút sex"
   ]
  },
  {
   "cell_type": "code",
   "execution_count": 13,
   "id": "f64ddc02",
   "metadata": {},
   "outputs": [
    {
     "data": {
      "text/plain": [
       "count     3092\n",
       "unique       2\n",
       "top          F\n",
       "freq      1590\n",
       "Name: sex, dtype: object"
      ]
     },
     "execution_count": 13,
     "metadata": {},
     "output_type": "execute_result"
    }
   ],
   "source": [
    "data.sex.describe()"
   ]
  },
  {
   "cell_type": "code",
   "execution_count": 14,
   "id": "097aabb5",
   "metadata": {},
   "outputs": [
    {
     "data": {
      "text/plain": [
       "F    1590\n",
       "M    1502\n",
       "Name: sex, dtype: int64"
      ]
     },
     "execution_count": 14,
     "metadata": {},
     "output_type": "execute_result"
    }
   ],
   "source": [
    "data['sex'].value_counts()"
   ]
  },
  {
   "cell_type": "code",
   "execution_count": 15,
   "id": "48166e78",
   "metadata": {},
   "outputs": [
    {
     "data": {
      "text/plain": [
       "Text(0.5, 1.0, 'Zastúpenie mužov a žien v testovanej skupine')"
      ]
     },
     "execution_count": 15,
     "metadata": {},
     "output_type": "execute_result"
    },
    {
     "data": {
      "image/png": "[encoded data removed]",
      "text/plain": [
       "<Figure size 432x288 with 1 Axes>"
      ]
     },
     "metadata": {},
     "output_type": "display_data"
    }
   ],
   "source": [
    "data.sex.value_counts().plot.pie(labels=[\"Female\",\"Male\"], autopct='%1.2f%%').set_title('Zastúpenie mužov a žien v testovanej skupine')"
   ]
  },
  {
   "cell_type": "markdown",
   "id": "2ca612ea",
   "metadata": {},
   "source": [
    "Jedná sa o kategorický atribút. Vidíme že v záznamoch sa nachádza viac žien(1590) ako mužov(1502) aj keď len s malým rozdielom"
   ]
  },
  {
   "cell_type": "markdown",
   "id": "b9586f42",
   "metadata": {},
   "source": [
    "### Atribút residence"
   ]
  },
  {
   "cell_type": "code",
   "execution_count": 16,
   "id": "adf671e3",
   "metadata": {},
   "outputs": [
    {
     "data": {
      "text/plain": [
       "count                                            3092\n",
       "unique                                           3092\n",
       "top       584 Chan Unions\\r\\nNew Robertside, MN 27858\n",
       "freq                                                1\n",
       "Name: residence, dtype: object"
      ]
     },
     "execution_count": 16,
     "metadata": {},
     "output_type": "execute_result"
    }
   ],
   "source": [
    "data.residence.describe()"
   ]
  },
  {
   "cell_type": "markdown",
   "id": "8ede43e9",
   "metadata": {},
   "source": [
    "Jedná sa o kategorický atribút."
   ]
  },
  {
   "cell_type": "markdown",
   "id": "715a88cb",
   "metadata": {},
   "source": [
    "### Atribút blood_group"
   ]
  },
  {
   "cell_type": "code",
   "execution_count": 17,
   "id": "a6b527ed",
   "metadata": {},
   "outputs": [
    {
     "data": {
      "text/plain": [
       "count     3092\n",
       "unique       8\n",
       "top         A+\n",
       "freq       424\n",
       "Name: blood_group, dtype: object"
      ]
     },
     "execution_count": 17,
     "metadata": {},
     "output_type": "execute_result"
    }
   ],
   "source": [
    "data.blood_group.describe()"
   ]
  },
  {
   "cell_type": "code",
   "execution_count": 18,
   "id": "87f04349",
   "metadata": {},
   "outputs": [
    {
     "data": {
      "text/plain": [
       "['B+', 'B-', 'O-', 'AB-', 'A-', 'A+', 'O+', 'AB+']"
      ]
     },
     "execution_count": 18,
     "metadata": {},
     "output_type": "execute_result"
    }
   ],
   "source": [
    "data.blood_group.unique().tolist()"
   ]
  },
  {
   "cell_type": "markdown",
   "id": "2f496b99",
   "metadata": {},
   "source": [
    "Jedná sa o kategorický atribút. V záznamoch sa vyskytuje **8 rôznych krvných skupín** pacientov. "
   ]
  },
  {
   "cell_type": "markdown",
   "id": "74e17663",
   "metadata": {},
   "source": [
    "Početnosť pacientov s danou krvnou skupinou je nasledovná."
   ]
  },
  {
   "cell_type": "code",
   "execution_count": 19,
   "id": "6542c984",
   "metadata": {},
   "outputs": [
    {
     "data": {
      "text/plain": [
       "Text(0.5, 1.0, 'Početnosť pacientov s danou krvnou skupinou')"
      ]
     },
     "execution_count": 19,
     "metadata": {},
     "output_type": "execute_result"
    },
    {
     "data": {
      "image/png": "[encoded data removed]",
      "text/plain": [
       "<Figure size 432x288 with 1 Axes>"
      ]
     },
     "metadata": {
      "needs_background": "light"
     },
     "output_type": "display_data"
    }
   ],
   "source": [
    "data.blood_group.value_counts().plot(kind='bar').set_title('Početnosť pacientov s danou krvnou skupinou')"
   ]
  },
  {
   "cell_type": "code",
   "execution_count": 20,
   "id": "237bba03",
   "metadata": {},
   "outputs": [
    {
     "data": {
      "text/plain": [
       "A+     424\n",
       "B+     408\n",
       "O-     396\n",
       "B-     384\n",
       "AB-    383\n",
       "O+     380\n",
       "AB+    363\n",
       "A-     354\n",
       "Name: blood_group, dtype: int64"
      ]
     },
     "execution_count": 20,
     "metadata": {},
     "output_type": "execute_result"
    }
   ],
   "source": [
    "data['blood_group'].value_counts()"
   ]
  },
  {
   "cell_type": "markdown",
   "id": "51951a2f",
   "metadata": {},
   "source": [
    "### Atribút ssn"
   ]
  },
  {
   "cell_type": "code",
   "execution_count": 21,
   "id": "9c772eb6",
   "metadata": {},
   "outputs": [
    {
     "data": {
      "text/plain": [
       "count            3092\n",
       "unique           3092\n",
       "top       318-35-2572\n",
       "freq                1\n",
       "Name: ssn, dtype: object"
      ]
     },
     "execution_count": 21,
     "metadata": {},
     "output_type": "execute_result"
    }
   ],
   "source": [
    "data.ssn.describe()"
   ]
  },
  {
   "cell_type": "markdown",
   "id": "14a037bb",
   "metadata": {},
   "source": [
    "**Ako možno vidieť každé *ssn* sa vyskytuje v záznamoch s početnosťou 1, preto budeme tento atribút používať ako identifikátor záznamu.**"
   ]
  },
  {
   "cell_type": "markdown",
   "id": "5529e38f",
   "metadata": {},
   "source": [
    "### Atribút name"
   ]
  },
  {
   "cell_type": "code",
   "execution_count": 22,
   "id": "13ba2e56",
   "metadata": {},
   "outputs": [
    {
     "data": {
      "text/plain": [
       "count              3092\n",
       "unique             3038\n",
       "top       Jessica Brown\n",
       "freq                  3\n",
       "Name: name, dtype: object"
      ]
     },
     "execution_count": 22,
     "metadata": {},
     "output_type": "execute_result"
    }
   ],
   "source": [
    "data.name.describe()"
   ]
  },
  {
   "cell_type": "markdown",
   "id": "32501232",
   "metadata": {},
   "source": [
    "Jedná sa o kategorický atribút."
   ]
  },
  {
   "cell_type": "markdown",
   "id": "29cb5700",
   "metadata": {},
   "source": [
    "### Atribút birtdate"
   ]
  },
  {
   "cell_type": "code",
   "execution_count": 23,
   "id": "97272f8d",
   "metadata": {},
   "outputs": [
    {
     "data": {
      "text/plain": [
       "count           3092\n",
       "unique          3058\n",
       "top       1984-11-11\n",
       "freq               2\n",
       "Name: birthdate, dtype: object"
      ]
     },
     "execution_count": 23,
     "metadata": {},
     "output_type": "execute_result"
    }
   ],
   "source": [
    "data.birthdate.describe()"
   ]
  },
  {
   "cell_type": "code",
   "execution_count": 24,
   "id": "19fd82a3",
   "metadata": {},
   "outputs": [
    {
     "data": {
      "text/plain": [
       "0     04/12/1988, 00:00:00\n",
       "1               1919/12/22\n",
       "2               1924/02/28\n",
       "3               1991/12/01\n",
       "4               1983-12-28\n",
       "5     05/10/2011, 00:00:00\n",
       "6     07/30/1982, 00:00:00\n",
       "7              03 Mar 1995\n",
       "8               2001/03/04\n",
       "9     12/02/1915, 00:00:00\n",
       "10              1920/06/13\n",
       "11             03 Apr 1960\n",
       "12              1923-05-19\n",
       "13              2012/05/11\n",
       "14              1983-08-11\n",
       "15    03/14/2008, 00:00:00\n",
       "16              1934/01/11\n",
       "17    08/27/1912, 00:00:00\n",
       "18             13 May 1932\n",
       "19              1919/03/01\n",
       "Name: birthdate, dtype: object"
      ]
     },
     "execution_count": 24,
     "metadata": {},
     "output_type": "execute_result"
    }
   ],
   "source": [
    "data.birthdate.head(20)"
   ]
  },
  {
   "cell_type": "markdown",
   "id": "9fd08a0f",
   "metadata": {},
   "source": [
    "Hodnoty birthdate sú momentálne v rôznych formátoch tieto dátumy preto preformátujeme aby mali jednotný formát"
   ]
  },
  {
   "cell_type": "markdown",
   "id": "bd8e1980",
   "metadata": {},
   "source": [
    "### Atribút race"
   ]
  },
  {
   "cell_type": "code",
   "execution_count": 25,
   "id": "e77a4e1f",
   "metadata": {},
   "outputs": [
    {
     "data": {
      "text/plain": [
       "count      3092\n",
       "unique        8\n",
       "top       White\n",
       "freq       1619\n",
       "Name: race, dtype: object"
      ]
     },
     "execution_count": 25,
     "metadata": {},
     "output_type": "execute_result"
    }
   ],
   "source": [
    "data.race.describe()"
   ]
  },
  {
   "cell_type": "code",
   "execution_count": 26,
   "id": "48e4c827",
   "metadata": {},
   "outputs": [
    {
     "data": {
      "text/plain": [
       "['White', 'Black', 'Asian', 'Hawaiian', 'Indian', 'blsck', 'black', 'white']"
      ]
     },
     "execution_count": 26,
     "metadata": {},
     "output_type": "execute_result"
    }
   ],
   "source": [
    "data.race.unique().tolist()"
   ]
  },
  {
   "cell_type": "markdown",
   "id": "291ecdad",
   "metadata": {},
   "source": [
    "Na grafe vidíme rozdelenie záznamov atribútu **race**, tiež vidíme viaceré problémy v týchto záznamoch - preklep v záznamoch **blsck** a tiež záznamy s malým začiatočným písmenom (**black**, **white**), pričom predpokladáme, že tieto pomenovávajú tie isté záznamy. Jedná sa o kategorický atribút."
   ]
  },
  {
   "cell_type": "code",
   "execution_count": 27,
   "id": "b5ecf6d8",
   "metadata": {},
   "outputs": [
    {
     "data": {
      "text/plain": [
       "Text(0.5, 1.0, 'Početnosť zastúpenia obyvateľov podľa rasy')"
      ]
     },
     "execution_count": 27,
     "metadata": {},
     "output_type": "execute_result"
    },
    {
     "data": {
      "image/png": "[encoded data removed]",
      "text/plain": [
       "<Figure size 432x288 with 1 Axes>"
      ]
     },
     "metadata": {
      "needs_background": "light"
     },
     "output_type": "display_data"
    }
   ],
   "source": [
    "data.race.value_counts().plot.bar().set_title('Početnosť zastúpenia obyvateľov podľa rasy')"
   ]
  },
  {
   "cell_type": "markdown",
   "id": "d8874db9",
   "metadata": {},
   "source": [
    "## 2. Chyby v údajoch a navrhnuté riešenie"
   ]
  },
  {
   "cell_type": "markdown",
   "id": "904ab731",
   "metadata": {},
   "source": [
    "### Atribút birthdate"
   ]
  },
  {
   "cell_type": "markdown",
   "id": "de2ae5f8",
   "metadata": {},
   "source": [
    "Ako možno vidieť aj z výpisu prvých niekoľko riadkov problémom hodnôt tohto atribútu je, že je zapísaný v niekoľkých rôznych formátoch. Preto sme sa rozhodli tieto hodnoty upraviť do jednotného formátu, aby sme vedeli porovnávať a analyzovať jednotlivé hodnoty tohto atribútu."
   ]
  },
  {
   "cell_type": "code",
   "execution_count": 28,
   "id": "b35829b4",
   "metadata": {},
   "outputs": [
    {
     "data": {
      "text/plain": [
       "count           3092\n",
       "unique          2985\n",
       "top       1976-02-19\n",
       "freq               3\n",
       "Name: birthdate, dtype: object"
      ]
     },
     "execution_count": 28,
     "metadata": {},
     "output_type": "execute_result"
    }
   ],
   "source": [
    "data['birthdate'] = pd.to_datetime(data['birthdate']).dt.strftime('%Y-%m-%d')\n",
    "data.birthdate.describe()"
   ]
  },
  {
   "cell_type": "markdown",
   "id": "b2e8420b",
   "metadata": {},
   "source": [
    "### Nový Atribút age"
   ]
  },
  {
   "cell_type": "markdown",
   "id": "491725c5",
   "metadata": {},
   "source": [
    "Aby sme vedeli pacientov vhodne zaradiť do skupín podľa veku rozhodli sme sa pridať atribút age, ktorý bude určovať vek pacienta."
   ]
  },
  {
   "cell_type": "code",
   "execution_count": 29,
   "id": "18c25824",
   "metadata": {},
   "outputs": [],
   "source": [
    "data['age'] = pd.to_datetime(data.birthdate)\n",
    "data['age'] = pd.Timestamp.now() - data['age']\n",
    "data['age'] = data['age'] / np.timedelta64(1, 'Y')\n",
    "data['age'] = data.age.apply(math.floor)"
   ]
  },
  {
   "cell_type": "markdown",
   "id": "fdb10abb",
   "metadata": {},
   "source": [
    "Primerný vek nášho pacienta je teda takmer 58 rokov. "
   ]
  },
  {
   "cell_type": "code",
   "execution_count": 30,
   "id": "f23b70ca",
   "metadata": {},
   "outputs": [
    {
     "data": {
      "text/plain": [
       "count    3092.000000\n",
       "mean       57.908150\n",
       "std        33.260848\n",
       "min         0.000000\n",
       "25%        29.000000\n",
       "50%        58.000000\n",
       "75%        87.000000\n",
       "max       116.000000\n",
       "Name: age, dtype: float64"
      ]
     },
     "execution_count": 30,
     "metadata": {},
     "output_type": "execute_result"
    }
   ],
   "source": [
    "data['age'].describe()"
   ]
  },
  {
   "cell_type": "markdown",
   "id": "55dc3a62",
   "metadata": {},
   "source": [
    "V histograme môžme vidieť, že rozdelenie pacientov podľa veku je pomerne rovnomerné resp. každá špecifikovaná veková kategória je zastúpená približne rovnako."
   ]
  },
  {
   "cell_type": "code",
   "execution_count": 31,
   "id": "2b95c680",
   "metadata": {},
   "outputs": [
    {
     "data": {
      "text/plain": [
       "Text(0.5, 1.0, 'Histogram rozdelenia obyvateľov podľa veku')"
      ]
     },
     "execution_count": 31,
     "metadata": {},
     "output_type": "execute_result"
    },
    {
     "data": {
      "image/png": "[encoded data removed]",
      "text/plain": [
       "<Figure size 432x288 with 1 Axes>"
      ]
     },
     "metadata": {
      "needs_background": "light"
     },
     "output_type": "display_data"
    }
   ],
   "source": [
    "sns.histplot(data['age'], bins=30).set_title('Histogram rozdelenia obyvateľov podľa veku')"
   ]
  },
  {
   "cell_type": "markdown",
   "id": "38a1582d",
   "metadata": {},
   "source": [
    "### Atribút race"
   ]
  },
  {
   "cell_type": "code",
   "execution_count": 32,
   "id": "b145860a",
   "metadata": {},
   "outputs": [
    {
     "data": {
      "text/plain": [
       "['White', 'Black', 'Asian', 'Hawaiian', 'Indian', 'blsck', 'black', 'white']"
      ]
     },
     "execution_count": 32,
     "metadata": {},
     "output_type": "execute_result"
    }
   ],
   "source": [
    "data.race.unique().tolist()"
   ]
  },
  {
   "cell_type": "markdown",
   "id": "39dcd442",
   "metadata": {},
   "source": [
    "Premenovanie hodnôt atribútu race, aby boli hodnoty konzistentné teda aby tá istá hodnota bola pomenovaná rovnako"
   ]
  },
  {
   "cell_type": "code",
   "execution_count": 33,
   "id": "9bc78139",
   "metadata": {},
   "outputs": [],
   "source": [
    "data['race'] = data['race'].str.replace('blsck','Black')\n",
    "data['race'] = data['race'].str.replace('black','Black')\n",
    "data['race'] = data['race'].str.replace('white','White')"
   ]
  },
  {
   "cell_type": "markdown",
   "id": "d50daa45",
   "metadata": {},
   "source": [
    "Upravený dataset a početnosti jednotlivých osôb podľa rasy.\n",
    "\n",
    "V záznamoch sa vyskytuje **5 rôznych rás pacientov.**"
   ]
  },
  {
   "cell_type": "code",
   "execution_count": 34,
   "id": "ab4f0d70",
   "metadata": {},
   "outputs": [
    {
     "data": {
      "text/plain": [
       "['White', 'Black', 'Asian', 'Hawaiian', 'Indian']"
      ]
     },
     "execution_count": 34,
     "metadata": {},
     "output_type": "execute_result"
    }
   ],
   "source": [
    "data.race.unique().tolist()"
   ]
  },
  {
   "cell_type": "code",
   "execution_count": 35,
   "id": "5dadf26d",
   "metadata": {},
   "outputs": [
    {
     "data": {
      "text/plain": [
       "Text(0.5, 1.0, 'Početnosť zastúpenia obyvateľov podľa rasy')"
      ]
     },
     "execution_count": 35,
     "metadata": {},
     "output_type": "execute_result"
    },
    {
     "data": {
      "image/png": "[encoded data removed]",
      "text/plain": [
       "<Figure size 432x288 with 1 Axes>"
      ]
     },
     "metadata": {
      "needs_background": "light"
     },
     "output_type": "display_data"
    }
   ],
   "source": [
    "data.race.value_counts().plot.bar().set_title('Početnosť zastúpenia obyvateľov podľa rasy')"
   ]
  },
  {
   "cell_type": "code",
   "execution_count": 36,
   "id": "569e4238",
   "metadata": {},
   "outputs": [
    {
     "data": {
      "text/plain": [
       "White       1646\n",
       "Black        848\n",
       "Asian        324\n",
       "Hawaiian     138\n",
       "Indian       136\n",
       "Name: race, dtype: int64"
      ]
     },
     "execution_count": 36,
     "metadata": {},
     "output_type": "execute_result"
    }
   ],
   "source": [
    "data['race'].value_counts()"
   ]
  },
  {
   "cell_type": "markdown",
   "id": "5f72bdd5",
   "metadata": {},
   "source": [
    "Z dát možno vidieť, že najpočetnejšou skupinou pacientov sú belosi nasledovaný černochmi, ktorý sú pomerne vo veľkom zastúpení a následne 3 marginálne skupiny ako Asiati, Hawajčania a Idiáni."
   ]
  },
  {
   "cell_type": "markdown",
   "id": "a3325152",
   "metadata": {},
   "source": [
    "#### Uloženie upraveného datasetu"
   ]
  },
  {
   "cell_type": "code",
   "execution_count": 37,
   "id": "181da054",
   "metadata": {},
   "outputs": [],
   "source": [
    "data.to_csv('data/profiles_fixed.csv', sep='\\t', index=False, encoding='utf-8')"
   ]
  }
 ],
 "metadata": {
  "kernelspec": {
   "display_name": "Python 3 (ipykernel)",
   "language": "python",
   "name": "python3"
  },
  "language_info": {
   "codemirror_mode": {
    "name": "ipython",
    "version": 3
   },
   "file_extension": ".py",
   "mimetype": "text/x-python",
   "name": "python",
   "nbconvert_exporter": "python",
   "pygments_lexer": "ipython3",
   "version": "3.9.7"
  }
 },
 "nbformat": 4,
 "nbformat_minor": 5
}
